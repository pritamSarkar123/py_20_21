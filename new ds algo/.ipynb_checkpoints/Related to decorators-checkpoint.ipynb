{
 "cells": [
  {
   "cell_type": "markdown",
   "metadata": {},
   "source": [
    "# name space and dir() function"
   ]
  },
  {
   "cell_type": "code",
   "execution_count": 5,
   "metadata": {},
   "outputs": [
    {
     "name": "stdout",
     "output_type": "stream",
     "text": [
      "['In', 'Out', '_', '_3', '_4', '__', '___', '__builtin__', '__builtins__', '__doc__', '__loader__', '__name__', '__package__', '__spec__', '_dh', '_i', '_i1', '_i2', '_i3', '_i4', '_i5', '_ih', '_ii', '_iii', '_oh', 'exit', 'get_ipython', 'quit']\n"
     ]
    }
   ],
   "source": [
    "# built ins only\n",
    "print(dir())"
   ]
  },
  {
   "cell_type": "code",
   "execution_count": 12,
   "metadata": {},
   "outputs": [
    {
     "name": "stdout",
     "output_type": "stream",
     "text": [
      "['dfd', 'x']\n"
     ]
    }
   ],
   "source": [
    "#name space in the function\n",
    "def function():\n",
    "    x=5\n",
    "    dfd=90\n",
    "    print(dir())\n",
    "function()"
   ]
  },
  {
   "cell_type": "code",
   "execution_count": 13,
   "metadata": {},
   "outputs": [
    {
     "name": "stdout",
     "output_type": "stream",
     "text": [
      "['In', 'Out', '_', '_3', '_4', '__', '___', '__builtin__', '__builtins__', '__doc__', '__loader__', '__name__', '__package__', '__spec__', '_dh', '_i', '_i1', '_i10', '_i11', '_i12', '_i13', '_i2', '_i3', '_i4', '_i5', '_i6', '_i7', '_i8', '_i9', '_ih', '_ii', '_iii', '_oh', 'exit', 'function', 'get_ipython', 'quit']\n"
     ]
    }
   ],
   "source": [
    "#namespace outside of function\n",
    "print(dir())"
   ]
  },
  {
   "cell_type": "markdown",
   "metadata": {},
   "source": [
    "# Scope : where the variable is accesable L(Local)E(Enclosed)G(Global)B(Built in)"
   ]
  },
  {
   "cell_type": "markdown",
   "metadata": {},
   "source": [
    "variable or functions\n",
    "local: inside the function\n",
    "enclosed: enclosed in a method or function\n",
    "global: top most of the module,available through out the module\n",
    "built in: built in in the python language, can be used anywhere"
   ]
  },
  {
   "cell_type": "code",
   "execution_count": 21,
   "metadata": {},
   "outputs": [
    {
     "name": "stdout",
     "output_type": "stream",
     "text": [
      "4\n",
      "10\n",
      "9\n"
     ]
    }
   ],
   "source": [
    "y=9\n",
    "def inner():\n",
    "    x=4\n",
    "    y=10 # redefining y inside function(local to the function) #okk\n",
    "    print(x)\n",
    "    print(y)\n",
    "inner()\n",
    "print(y)\n",
    "#\"inner\",\"y\" (global) available throughout script\n",
    "#\"x\" (local) available throughout function inner"
   ]
  },
  {
   "cell_type": "markdown",
   "metadata": {},
   "source": [
    "modifying global variable in local scope"
   ]
  },
  {
   "cell_type": "code",
   "execution_count": 20,
   "metadata": {},
   "outputs": [
    {
     "name": "stdout",
     "output_type": "stream",
     "text": [
      "4\n",
      "10\n",
      "10\n"
     ]
    }
   ],
   "source": [
    "y=9\n",
    "def inner():\n",
    "    x=4\n",
    "    global y\n",
    "    y=y+1 # modifying y inside function # not okk without \"global y\"\n",
    "    print(x)\n",
    "    print(y)\n",
    "inner()\n",
    "print(y)\n",
    "#\"inner\",\"y\" (global) available throughout script\n",
    "#\"x\" (local) available throughout function inner"
   ]
  },
  {
   "cell_type": "code",
   "execution_count": 37,
   "metadata": {},
   "outputs": [
    {
     "name": "stdout",
     "output_type": "stream",
     "text": [
      "from inner 5\n",
      "from inner 5\n",
      "from inner 9\n",
      "from outer 5\n",
      "from outer 9\n"
     ]
    }
   ],
   "source": [
    "y=8\n",
    "def outer(): #enclosing function\n",
    "    z=4      #local to the enclosing function ######not local not global to inner function\n",
    "    def inner(): #enclosed inner nested  function\n",
    "        x=5      #local to inner function\n",
    "        nonlocal z  # modifying z in inner function # not okk without \"nonlocal z\"\n",
    "        z=z+1\n",
    "        #z=12  #redefining z is okk\n",
    "        global y\n",
    "        y=y+1\n",
    "        print(\"from inner {}\".format(x))\n",
    "        print(\"from inner {}\".format(z))\n",
    "        print(\"from inner {}\".format(y))\n",
    "        #print(\"from inner z=12 {}\".format(z))\n",
    "    inner()\n",
    "    print(\"from outer {}\".format(z))\n",
    "    print(\"from outer {}\".format(y))\n",
    "    \n",
    "outer()"
   ]
  },
  {
   "cell_type": "markdown",
   "metadata": {},
   "source": [
    "Searching a Name in python????\n",
    "1st search lin LocalScope----not found---->enclosedScope----notfound---->globalScope----notfound---->Built in scope-->notfound-->name error"
   ]
  },
  {
   "cell_type": "code",
   "execution_count": 38,
   "metadata": {},
   "outputs": [
    {
     "name": "stdout",
     "output_type": "stream",
     "text": [
      "15\n"
     ]
    }
   ],
   "source": [
    "x=5\n",
    "def func():\n",
    "    x=10\n",
    "    def inner():\n",
    "        x=15   #<-----------------available at local scope\n",
    "        print(x)\n",
    "    inner()\n",
    "func()"
   ]
  },
  {
   "cell_type": "code",
   "execution_count": 39,
   "metadata": {},
   "outputs": [
    {
     "name": "stdout",
     "output_type": "stream",
     "text": [
      "10\n"
     ]
    }
   ],
   "source": [
    "x=5\n",
    "def func():\n",
    "    x=10     #<----------available at enclosed scope\n",
    "    def inner():\n",
    "        #x=15   #<-----------------not available at local scope\n",
    "        print(x)\n",
    "    inner()\n",
    "func()"
   ]
  },
  {
   "cell_type": "code",
   "execution_count": 40,
   "metadata": {},
   "outputs": [
    {
     "name": "stdout",
     "output_type": "stream",
     "text": [
      "5\n"
     ]
    }
   ],
   "source": [
    "x=5   #<----------------available at global scope\n",
    "def func():\n",
    "    #x=10     #<----------not available at enclosed scope\n",
    "    def inner():\n",
    "        #x=15   #<-----------------not available at local scope\n",
    "        print(x)\n",
    "    inner()\n",
    "func()                    ################other wise name error will occour########"
   ]
  },
  {
   "cell_type": "markdown",
   "metadata": {},
   "source": [
    "# Closures"
   ]
  },
  {
   "cell_type": "markdown",
   "metadata": {},
   "source": [
    "# 1. Nested Functions 2. Functions are First class objects"
   ]
  },
  {
   "cell_type": "markdown",
   "metadata": {},
   "source": [
    "function names with out parenthisis returns the object reference of that function"
   ]
  },
  {
   "cell_type": "code",
   "execution_count": 46,
   "metadata": {},
   "outputs": [
    {
     "name": "stdout",
     "output_type": "stream",
     "text": [
      "<function f at 0x000001D7793DDA60>\n",
      "<function f at 0x000001D7793DDA60>\n"
     ]
    }
   ],
   "source": [
    "#functions are first class objects\n",
    "def f():\n",
    "    print(\"hi\")\n",
    "    \n",
    "print(f) ## prints an function object reference\n",
    "d=f      ## functions assighed to variables\n",
    "print(d)"
   ]
  },
  {
   "cell_type": "markdown",
   "metadata": {},
   "source": [
    "# Closure"
   ]
  },
  {
   "cell_type": "markdown",
   "metadata": {},
   "source": [
    "\"a\" is just equal to the nested function \"inner\" and we are executing the \"inner\" out side of the scope by this way,is closure"
   ]
  },
  {
   "cell_type": "markdown",
   "metadata": {},
   "source": [
    "possible when the enclosing frunction returns the reference of the nested function"
   ]
  },
  {
   "cell_type": "code",
   "execution_count": 57,
   "metadata": {},
   "outputs": [
    {
     "name": "stdout",
     "output_type": "stream",
     "text": [
      "<function outer.<locals>.inner at 0x000001D7798F7E18>\n",
      "inner\n",
      "0\n"
     ]
    }
   ],
   "source": [
    "#nested functions\n",
    "def outer():\n",
    "    def inner():\n",
    "        return 0\n",
    "    return inner ## returning the object reference of the inner function    \n",
    "a=outer()\n",
    "print(a) #prints the object ref hold by a\n",
    "print(a.__name__) #name of the function it reffered to\n",
    "print(a()) #prints the returned value by the function"
   ]
  },
  {
   "cell_type": "code",
   "execution_count": 53,
   "metadata": {},
   "outputs": [
    {
     "name": "stdout",
     "output_type": "stream",
     "text": [
      "0\n"
     ]
    }
   ],
   "source": [
    "#nested functions\n",
    "def outer():\n",
    "    def inner():\n",
    "        return 0\n",
    "    return inner() ## calling the inner function and returning its returned value\n",
    "a=outer()\n",
    "print(a) #prints the object ref hold by a"
   ]
  },
  {
   "cell_type": "markdown",
   "metadata": {},
   "source": [
    "# Decorator"
   ]
  },
  {
   "cell_type": "markdown",
   "metadata": {},
   "source": [
    "callable python object that can modify a function or a class"
   ]
  },
  {
   "cell_type": "markdown",
   "metadata": {},
   "source": [
    "# 1. Function decorator 2.Class decorators"
   ]
  },
  {
   "cell_type": "markdown",
   "metadata": {},
   "source": [
    "function as a parameter\n",
    "function as a return "
   ]
  },
  {
   "cell_type": "code",
   "execution_count": 58,
   "metadata": {},
   "outputs": [
    {
     "data": {
      "text/plain": [
       "'GOOD MORNING'"
      ]
     },
     "execution_count": 58,
     "metadata": {},
     "output_type": "execute_result"
    }
   ],
   "source": [
    "def print_str():\n",
    "    return \"good morning\"\n",
    "def decorate(func):\n",
    "    def inner():\n",
    "        string=func()\n",
    "        return string.upper()\n",
    "    return inner\n",
    "print_str=decorate(print_str) #finally \"print_str\" gets the ref of the \"inner\" function\n",
    "print_str() #<-------- decorated output\n",
    "        "
   ]
  },
  {
   "cell_type": "code",
   "execution_count": 60,
   "metadata": {},
   "outputs": [
    {
     "data": {
      "text/plain": [
       "'GOOD MORNING'"
      ]
     },
     "execution_count": 60,
     "metadata": {},
     "output_type": "execute_result"
    }
   ],
   "source": [
    "def decorate(func):\n",
    "    def inner():\n",
    "        string=func()\n",
    "        return string.upper()\n",
    "    return inner\n",
    "\n",
    "@decorate       ######### print_str=decorate(print_str)\n",
    "def print_str(): \n",
    "    return \"good morning\"  \n",
    "\n",
    "print_str() #<-------- decorated output"
   ]
  },
  {
   "cell_type": "code",
   "execution_count": 94,
   "metadata": {},
   "outputs": [
    {
     "name": "stdout",
     "output_type": "stream",
     "text": [
      "divisible by zero\n",
      "2.0\n"
     ]
    }
   ],
   "source": [
    "def outer(func): ###### 1st\n",
    "    def inner(x,y):\n",
    "        if y==0:\n",
    "            return \"divisible by zero\"\n",
    "        if x<y:\n",
    "            x,y=y,x\n",
    "        return func(x,y)\n",
    "    return inner\n",
    "\n",
    "@outer   #####2nd\n",
    "def div(a,b):\n",
    "    return a/b\n",
    "\n",
    "print(div(5,0))\n",
    "print(div(5,10))"
   ]
  },
  {
   "cell_type": "code",
   "execution_count": 95,
   "metadata": {},
   "outputs": [
    {
     "name": "stdout",
     "output_type": "stream",
     "text": [
      "divisible by zero\n",
      "2.0\n"
     ]
    }
   ],
   "source": [
    "def outer(func): ###### 1st\n",
    "    def inner(x,y):\n",
    "        if y==0:\n",
    "            return \"divisible by zero\"\n",
    "        if x<y:\n",
    "            x,y=y,x\n",
    "        return func(x,y)\n",
    "    return inner\n",
    "\n",
    "def div(a,b):\n",
    "    return a/b\n",
    "div=outer(div)\n",
    "\n",
    "print(div(5,0))\n",
    "print(div(5,10))"
   ]
  },
  {
   "cell_type": "markdown",
   "metadata": {},
   "source": [
    "# Multiple decorator on single function"
   ]
  },
  {
   "cell_type": "code",
   "execution_count": 98,
   "metadata": {},
   "outputs": [
    {
     "name": "stdout",
     "output_type": "stream",
     "text": [
      "['GOOD', 'MORNING']\n"
     ]
    }
   ],
   "source": [
    "#Example 1\n",
    "def upper_d(func):\n",
    "    def inner():\n",
    "        return func().upper()\n",
    "    return inner\n",
    "def split_d(func):\n",
    "    def inner1():\n",
    "        return func().split()\n",
    "    return inner1\n",
    "########order is important\n",
    "@split_d    #2nd\n",
    "@upper_d    #1st\n",
    "def print_it():\n",
    "    return \"good morning\"\n",
    "\n",
    "print(print_it())"
   ]
  },
  {
   "cell_type": "code",
   "execution_count": null,
   "metadata": {},
   "outputs": [],
   "source": []
  },
  {
   "cell_type": "markdown",
   "metadata": {},
   "source": [
    "\n",
    "# Decorators Containing parameters"
   ]
  },
  {
   "cell_type": "markdown",
   "metadata": {},
   "source": [
    "using a outer function which takes parameter"
   ]
  },
  {
   "cell_type": "code",
   "execution_count": 100,
   "metadata": {},
   "outputs": [
    {
     "name": "stdout",
     "output_type": "stream",
     "text": [
      "good morning pritam\n"
     ]
    }
   ],
   "source": [
    "def outer(expr):     #<------- outer function\n",
    "    def upper_d(func):#<---------- decorator function\n",
    "        def inner():\n",
    "            return func()+expr\n",
    "        return inner\n",
    "    return upper_d\n",
    "\n",
    "@outer(\"pritam\")\n",
    "def print_it():\n",
    "    return \"good morning \"\n",
    "\n",
    "print(print_it())"
   ]
  },
  {
   "cell_type": "markdown",
   "metadata": {},
   "source": [
    "# Single decorator on multiple function"
   ]
  },
  {
   "cell_type": "code",
   "execution_count": 102,
   "metadata": {},
   "outputs": [
    {
     "name": "stdout",
     "output_type": "stream",
     "text": [
      "divided by zero\n",
      "5.0\n",
      "1.0\n"
     ]
    }
   ],
   "source": [
    "def decorator(function):\n",
    "    def inner(*arg):\n",
    "        elements=[]\n",
    "        elements=arg[1:] #not considering the 1st element\n",
    "        for i in elements:\n",
    "            if i==0:\n",
    "                return \"divided by zero\"\n",
    "        return function(*arg)\n",
    "    return inner\n",
    "\n",
    "@decorator\n",
    "def div2(a,b):\n",
    "    return a/b\n",
    "@decorator\n",
    "def div3(a,b,c):\n",
    "    return a/b/c\n",
    "print(div3(10,5,0))\n",
    "print(div2(10,2))\n",
    "print(div3(10,5,2))"
   ]
  },
  {
   "cell_type": "markdown",
   "metadata": {},
   "source": [
    "# Fetching the lost data from undecorated functions"
   ]
  },
  {
   "cell_type": "code",
   "execution_count": 103,
   "metadata": {},
   "outputs": [
    {
     "name": "stdout",
     "output_type": "stream",
     "text": [
      "inner\n"
     ]
    }
   ],
   "source": [
    "def outer(func):\n",
    "    def inner():\n",
    "        return func().upper()\n",
    "    return inner\n",
    "@outer\n",
    "def greet():\n",
    "    return \"good morning\"\n",
    "print(greet.__name__) #name of the original function lost due to decoration"
   ]
  },
  {
   "cell_type": "code",
   "execution_count": 105,
   "metadata": {},
   "outputs": [
    {
     "name": "stdout",
     "output_type": "stream",
     "text": [
      "greet\n"
     ]
    }
   ],
   "source": [
    "import functools\n",
    "def outer(func):\n",
    "    @functools.wraps(func)  #coppyes the lost data from decorated function to the inner function #like name of the decorated function\n",
    "    def inner():\n",
    "        return func().upper()\n",
    "    return inner\n",
    "@outer\n",
    "def greet():\n",
    "    return \"good morning\"\n",
    "print(greet.__name__) "
   ]
  },
  {
   "cell_type": "markdown",
   "metadata": {},
   "source": [
    "# Class method decorators"
   ]
  },
  {
   "cell_type": "code",
   "execution_count": 108,
   "metadata": {},
   "outputs": [
    {
     "name": "stdout",
     "output_type": "stream",
     "text": [
      "hello I am Rinika\n",
      "I am also pritam\n"
     ]
    }
   ],
   "source": [
    "def decorator(method):\n",
    "    def inner(obj_ref):\n",
    "        if obj_ref.name==\"Pritam\":\n",
    "            print(\"I am also pritam\")\n",
    "            return\n",
    "        method(obj_ref)\n",
    "    return inner\n",
    "        \n",
    "class Student:\n",
    "    def __init__(self,name):\n",
    "        self.name=name\n",
    "    @decorator\n",
    "    def print_name(self):\n",
    "        print(\"hello I am \"+self.name)\n",
    "\n",
    "stu1=Student(\"Rinika\")\n",
    "stu2=Student(\"Pritam\")\n",
    "stu1.print_name()\n",
    "stu2.print_name()"
   ]
  },
  {
   "cell_type": "markdown",
   "metadata": {},
   "source": [
    "# Class decorators"
   ]
  },
  {
   "cell_type": "markdown",
   "metadata": {},
   "source": [
    "call method automatically runns when we use an object name with parenthisis llike obj()"
   ]
  },
  {
   "cell_type": "code",
   "execution_count": 111,
   "metadata": {},
   "outputs": [
    {
     "name": "stdout",
     "output_type": "stream",
     "text": [
      "hello world\n"
     ]
    }
   ],
   "source": [
    "class Rand:\n",
    "    def __init__(self):\n",
    "        pass\n",
    "    def __call__(self):\n",
    "        print(\"hello world\")\n",
    "\n",
    "r=Rand()\n",
    "r()   #object name with parenthisis"
   ]
  },
  {
   "cell_type": "code",
   "execution_count": 112,
   "metadata": {},
   "outputs": [
    {
     "name": "stdout",
     "output_type": "stream",
     "text": [
      "GOOD MORNING\n"
     ]
    }
   ],
   "source": [
    "class Decorator:\n",
    "    def __init__(self,function): #as we passed the function in the decorator function\n",
    "        self.function=function\n",
    "    def __call__(self): #call method automatically runns when we use an object name with parenthisis llike obj()\n",
    "        return self.function().upper()\n",
    "\n",
    "@Decorator\n",
    "def greet():\n",
    "    return \"good morning\"\n",
    "print(greet())"
   ]
  },
  {
   "cell_type": "code",
   "execution_count": 114,
   "metadata": {},
   "outputs": [
    {
     "name": "stdout",
     "output_type": "stream",
     "text": [
      "divided by zero\n",
      "5.0\n",
      "1.0\n"
     ]
    }
   ],
   "source": [
    "class Decorator:\n",
    "    def __init__(self,function): #like outer method\n",
    "        self.function=function\n",
    "    def __call__(self,*arguments):#like inner method\n",
    "        elements=[]\n",
    "        elements=arguments[1:]\n",
    "        for i in elements:\n",
    "            if i==0:\n",
    "                return \"divided by zero\"\n",
    "        return self.function(*arguments)\n",
    "    \n",
    "@Decorator\n",
    "def div2(a,b):\n",
    "    return a/b\n",
    "\n",
    "@Decorator\n",
    "def div3(a,b,c):\n",
    "    return a/b/c\n",
    "\n",
    "print(div3(10,5,0))\n",
    "print(div2(10,2))\n",
    "print(div3(10,5,2))\n",
    "\n",
    "\n",
    "        \n",
    "        "
   ]
  },
  {
   "cell_type": "markdown",
   "metadata": {},
   "source": [
    "# Built in decorators (@property @classmethod @staticmethod)"
   ]
  },
  {
   "cell_type": "markdown",
   "metadata": {},
   "source": [
    "# @property decorator"
   ]
  },
  {
   "cell_type": "markdown",
   "metadata": {},
   "source": [
    "1st"
   ]
  },
  {
   "cell_type": "code",
   "execution_count": 115,
   "metadata": {},
   "outputs": [
    {
     "name": "stdout",
     "output_type": "stream",
     "text": [
      "pritam\n",
      "A\n",
      "pritam got A\n"
     ]
    }
   ],
   "source": [
    "class Student:\n",
    "    def __init__(self,name,grade):\n",
    "        self.name=name\n",
    "        self.grade=grade\n",
    "        self.msg=self.name+\" got \"+self.grade\n",
    "stu1=Student(\"pritam\",\"A\")\n",
    "print(stu1.name)\n",
    "print(stu1.grade)\n",
    "print(stu1.msg)"
   ]
  },
  {
   "cell_type": "markdown",
   "metadata": {},
   "source": [
    "2nd"
   ]
  },
  {
   "cell_type": "code",
   "execution_count": 118,
   "metadata": {},
   "outputs": [
    {
     "name": "stdout",
     "output_type": "stream",
     "text": [
      "pritam\n",
      "B\n",
      "pritam got A\n"
     ]
    }
   ],
   "source": [
    "class Student:\n",
    "    def __init__(self,name,grade):\n",
    "        self.name=name\n",
    "        self.grade=grade\n",
    "        self.msg=self.name+\" got \"+self.grade\n",
    "stu1=Student(\"pritam\",\"A\")\n",
    "stu1.grade=\"B\"     #<---- grade updated\n",
    "print(stu1.name)\n",
    "print(stu1.grade)\n",
    "print(stu1.msg)  #<----but msg did not changed as it is already being set at the time of constructor calling"
   ]
  },
  {
   "cell_type": "markdown",
   "metadata": {},
   "source": [
    "3rd"
   ]
  },
  {
   "cell_type": "code",
   "execution_count": 120,
   "metadata": {},
   "outputs": [
    {
     "name": "stdout",
     "output_type": "stream",
     "text": [
      "pritam\n",
      "B\n",
      "pritam got B\n"
     ]
    }
   ],
   "source": [
    "class Student:\n",
    "    def __init__(self,name,grade):\n",
    "        self.name=name\n",
    "        self.grade=grade\n",
    "    def msg(self):\n",
    "        return self.name+\" got \"+self.grade\n",
    "stu1=Student(\"pritam\",\"A\")\n",
    "stu1.grade=\"B\"     \n",
    "print(stu1.name)\n",
    "print(stu1.grade)\n",
    "print(stu1.msg())  #<----msg called as a method"
   ]
  },
  {
   "cell_type": "markdown",
   "metadata": {},
   "source": [
    "4th but if we want to access the \"msg\" method as attribute"
   ]
  },
  {
   "cell_type": "code",
   "execution_count": 121,
   "metadata": {},
   "outputs": [
    {
     "name": "stdout",
     "output_type": "stream",
     "text": [
      "pritam\n",
      "B\n",
      "pritam got B\n"
     ]
    }
   ],
   "source": [
    "class Student:\n",
    "    def __init__(self,name,grade):\n",
    "        self.name=name\n",
    "        self.grade=grade\n",
    "    @property\n",
    "    def msg(self):\n",
    "        return self.name+\" got \"+self.grade\n",
    "stu1=Student(\"pritam\",\"A\")\n",
    "stu1.grade=\"B\"     \n",
    "print(stu1.name)\n",
    "print(stu1.grade)\n",
    "print(stu1.msg)  #<----msg called like an attrinute though it is a method"
   ]
  },
  {
   "cell_type": "markdown",
   "metadata": {},
   "source": [
    "5th directy want to set the message"
   ]
  },
  {
   "cell_type": "code",
   "execution_count": 123,
   "metadata": {},
   "outputs": [
    {
     "ename": "AttributeError",
     "evalue": "can't set attribute",
     "output_type": "error",
     "traceback": [
      "\u001b[1;31m---------------------------------------------------------------------------\u001b[0m",
      "\u001b[1;31mAttributeError\u001b[0m                            Traceback (most recent call last)",
      "\u001b[1;32m<ipython-input-123-12c9b18c9c42>\u001b[0m in \u001b[0;36m<module>\u001b[1;34m\u001b[0m\n\u001b[0;32m      7\u001b[0m         \u001b[1;32mreturn\u001b[0m \u001b[0mself\u001b[0m\u001b[1;33m.\u001b[0m\u001b[0mname\u001b[0m\u001b[1;33m+\u001b[0m\u001b[1;34m\" got \"\u001b[0m\u001b[1;33m+\u001b[0m\u001b[0mself\u001b[0m\u001b[1;33m.\u001b[0m\u001b[0mgrade\u001b[0m\u001b[1;33m\u001b[0m\u001b[1;33m\u001b[0m\u001b[0m\n\u001b[0;32m      8\u001b[0m \u001b[0mstu1\u001b[0m\u001b[1;33m=\u001b[0m\u001b[0mStudent\u001b[0m\u001b[1;33m(\u001b[0m\u001b[1;34m\"pritam\"\u001b[0m\u001b[1;33m,\u001b[0m\u001b[1;34m\"A\"\u001b[0m\u001b[1;33m)\u001b[0m\u001b[1;33m\u001b[0m\u001b[1;33m\u001b[0m\u001b[0m\n\u001b[1;32m----> 9\u001b[1;33m \u001b[0mstu1\u001b[0m\u001b[1;33m.\u001b[0m\u001b[0mmsg\u001b[0m\u001b[1;33m=\u001b[0m\u001b[1;34m\"Vanu got B\"\u001b[0m     \u001b[1;31m#<--leads us to error\u001b[0m\u001b[1;33m\u001b[0m\u001b[1;33m\u001b[0m\u001b[0m\n\u001b[0m\u001b[0;32m     10\u001b[0m \u001b[0mprint\u001b[0m\u001b[1;33m(\u001b[0m\u001b[0mstu1\u001b[0m\u001b[1;33m.\u001b[0m\u001b[0mname\u001b[0m\u001b[1;33m)\u001b[0m\u001b[1;33m\u001b[0m\u001b[1;33m\u001b[0m\u001b[0m\n\u001b[0;32m     11\u001b[0m \u001b[0mprint\u001b[0m\u001b[1;33m(\u001b[0m\u001b[0mstu1\u001b[0m\u001b[1;33m.\u001b[0m\u001b[0mgrade\u001b[0m\u001b[1;33m)\u001b[0m\u001b[1;33m\u001b[0m\u001b[1;33m\u001b[0m\u001b[0m\n",
      "\u001b[1;31mAttributeError\u001b[0m: can't set attribute"
     ]
    }
   ],
   "source": [
    "class Student:\n",
    "    def __init__(self,name,grade):\n",
    "        self.name=name\n",
    "        self.grade=grade\n",
    "    @property\n",
    "    def msg(self):\n",
    "        return self.name+\" got \"+self.grade\n",
    "stu1=Student(\"pritam\",\"A\")\n",
    "stu1.msg=\"Vanu got B\"     #<--leads us to error\n",
    "print(stu1.name)\n",
    "print(stu1.grade)\n",
    "print(stu1.msg)  "
   ]
  },
  {
   "cell_type": "markdown",
   "metadata": {},
   "source": [
    "6th using setter method"
   ]
  },
  {
   "cell_type": "code",
   "execution_count": 125,
   "metadata": {},
   "outputs": [
    {
     "name": "stdout",
     "output_type": "stream",
     "text": [
      "pritam\n",
      "B\n",
      "pritam got B\n",
      "Vanu\n",
      "c\n",
      "Vanu got c\n"
     ]
    }
   ],
   "source": [
    "class Student:\n",
    "    def __init__(self,name,grade):\n",
    "        self.name=name\n",
    "        self.grade=grade\n",
    "    @property\n",
    "    def msg(self):\n",
    "        return self.name+\" got \"+self.grade\n",
    "    def setter(self,msg):\n",
    "        scanned=msg.split(\" \")\n",
    "        self.name=scanned[0]\n",
    "        self.grade=scanned[-1]\n",
    "    \n",
    "stu1=Student(\"pritam\",\"A\")\n",
    "stu1.grade=\"B\"\n",
    "print(stu1.name)\n",
    "print(stu1.grade)\n",
    "print(stu1.msg)\n",
    "stu1.setter(\"Vanu got c\")\n",
    "print(stu1.name)\n",
    "print(stu1.grade)\n",
    "print(stu1.msg)"
   ]
  },
  {
   "cell_type": "markdown",
   "metadata": {},
   "source": [
    "7th directly set the message using \"msg\" as an attribute"
   ]
  },
  {
   "cell_type": "code",
   "execution_count": 126,
   "metadata": {},
   "outputs": [
    {
     "name": "stdout",
     "output_type": "stream",
     "text": [
      "pritam\n",
      "B\n",
      "pritam got B\n",
      "Vanu\n",
      "c\n",
      "Vanu got c\n"
     ]
    }
   ],
   "source": [
    "class Student:\n",
    "    def __init__(self,name,grade):\n",
    "        self.name=name\n",
    "        self.grade=grade\n",
    "    @property\n",
    "    def msg(self):         #<----like getter\n",
    "        return self.name+\" got \"+self.grade\n",
    "    @msg.setter\n",
    "    def msg(self,msg):      #like setter\n",
    "        scanned=msg.split(\" \")\n",
    "        self.name=scanned[0]\n",
    "        self.grade=scanned[-1]\n",
    "    \n",
    "stu1=Student(\"pritam\",\"A\")\n",
    "stu1.grade=\"B\"\n",
    "print(stu1.name)\n",
    "print(stu1.grade)\n",
    "print(stu1.msg)\n",
    "stu1.msg=\"Vanu got c\"\n",
    "print(stu1.name)\n",
    "print(stu1.grade)\n",
    "print(stu1.msg)"
   ]
  },
  {
   "cell_type": "markdown",
   "metadata": {},
   "source": [
    "# setter getter on @property"
   ]
  },
  {
   "cell_type": "markdown",
   "metadata": {},
   "source": [
    "1st by directly using the getter and setter method"
   ]
  },
  {
   "cell_type": "code",
   "execution_count": 129,
   "metadata": {},
   "outputs": [
    {
     "name": "stdout",
     "output_type": "stream",
     "text": [
      "66.66666666666666\n",
      "459\n",
      "76.5\n"
     ]
    }
   ],
   "source": [
    "class Student:\n",
    "    def __init__(self,marks):\n",
    "        self.__marks=marks ###\"__marks\" is private now can not be set or accessed directly\n",
    "    def per(self):\n",
    "        return (self.__marks/600)*100\n",
    "    def setter(self,value):\n",
    "        self.__marks=value\n",
    "    def getter(self):\n",
    "        return self.__marks\n",
    "s=Student(400)\n",
    "print(s.per())\n",
    "s.setter(459)\n",
    "print(s.getter())\n",
    "print(s.per())\n",
    "        "
   ]
  },
  {
   "cell_type": "markdown",
   "metadata": {},
   "source": [
    "2nd \"s.setter(...)\" -> \"s.marks=..\" and \"s.getter()\"->\"s.marks\" use "
   ]
  },
  {
   "cell_type": "code",
   "execution_count": 138,
   "metadata": {},
   "outputs": [
    {
     "name": "stdout",
     "output_type": "stream",
     "text": [
      "66.66666666666666\n",
      "setting value  459\n",
      "getting value 459\n",
      "76.5\n"
     ]
    }
   ],
   "source": [
    "class Student:\n",
    "    def __init__(self,marks):\n",
    "        self.__marks=marks ###\"__marks\" is private now can not be set or accessed directly\n",
    "    def per(self):\n",
    "        return (self.__marks/600)*100\n",
    "    @property       #<--------getter     #1st getter then setter oterwise can not find \"marks\" as a method\n",
    "    def marks(self):\n",
    "        print(\"getting value\",end=\" \") #<--stays at same line after printing\n",
    "        return self.__marks\n",
    "\n",
    "    @marks.setter #<----------setter\n",
    "    def marks(self,value):\n",
    "        print(\"setting value \",value) #or +str(value)\n",
    "        self.__marks=value\n",
    "        \n",
    "s=Student(400)\n",
    "print(s.per())\n",
    "s.marks=459\n",
    "print(s.marks)\n",
    "print(s.per())\n",
    "        "
   ]
  },
  {
   "cell_type": "code",
   "execution_count": 139,
   "metadata": {},
   "outputs": [
    {
     "name": "stdout",
     "output_type": "stream",
     "text": [
      "Help on class property in module builtins:\n",
      "\n",
      "class property(object)\n",
      " |  property(fget=None, fset=None, fdel=None, doc=None)\n",
      " |  \n",
      " |  Property attribute.\n",
      " |  \n",
      " |    fget\n",
      " |      function to be used for getting an attribute value\n",
      " |    fset\n",
      " |      function to be used for setting an attribute value\n",
      " |    fdel\n",
      " |      function to be used for del'ing an attribute\n",
      " |    doc\n",
      " |      docstring\n",
      " |  \n",
      " |  Typical use is to define a managed attribute x:\n",
      " |  \n",
      " |  class C(object):\n",
      " |      def getx(self): return self._x\n",
      " |      def setx(self, value): self._x = value\n",
      " |      def delx(self): del self._x\n",
      " |      x = property(getx, setx, delx, \"I'm the 'x' property.\")\n",
      " |  \n",
      " |  Decorators make defining new properties or modifying existing ones easy:\n",
      " |  \n",
      " |  class C(object):\n",
      " |      @property\n",
      " |      def x(self):\n",
      " |          \"I am the 'x' property.\"\n",
      " |          return self._x\n",
      " |      @x.setter\n",
      " |      def x(self, value):\n",
      " |          self._x = value\n",
      " |      @x.deleter\n",
      " |      def x(self):\n",
      " |          del self._x\n",
      " |  \n",
      " |  Methods defined here:\n",
      " |  \n",
      " |  __delete__(self, instance, /)\n",
      " |      Delete an attribute of instance.\n",
      " |  \n",
      " |  __get__(self, instance, owner, /)\n",
      " |      Return an attribute of instance, which is of type owner.\n",
      " |  \n",
      " |  __getattribute__(self, name, /)\n",
      " |      Return getattr(self, name).\n",
      " |  \n",
      " |  __init__(self, /, *args, **kwargs)\n",
      " |      Initialize self.  See help(type(self)) for accurate signature.\n",
      " |  \n",
      " |  __set__(self, instance, value, /)\n",
      " |      Set an attribute of instance to value.\n",
      " |  \n",
      " |  deleter(...)\n",
      " |      Descriptor to change the deleter on a property.\n",
      " |  \n",
      " |  getter(...)\n",
      " |      Descriptor to change the getter on a property.\n",
      " |  \n",
      " |  setter(...)\n",
      " |      Descriptor to change the setter on a property.\n",
      " |  \n",
      " |  ----------------------------------------------------------------------\n",
      " |  Static methods defined here:\n",
      " |  \n",
      " |  __new__(*args, **kwargs) from builtins.type\n",
      " |      Create and return a new object.  See help(type) for accurate signature.\n",
      " |  \n",
      " |  ----------------------------------------------------------------------\n",
      " |  Data descriptors defined here:\n",
      " |  \n",
      " |  __isabstractmethod__\n",
      " |  \n",
      " |  fdel\n",
      " |  \n",
      " |  fget\n",
      " |  \n",
      " |  fset\n",
      "\n"
     ]
    }
   ],
   "source": [
    "help(\"property\")"
   ]
  },
  {
   "cell_type": "markdown",
   "metadata": {},
   "source": [
    "# Property method"
   ]
  },
  {
   "cell_type": "code",
   "execution_count": 142,
   "metadata": {},
   "outputs": [
    {
     "name": "stdout",
     "output_type": "stream",
     "text": [
      "66.66666666666666\n",
      "setting value  459\n",
      "getting value 459\n",
      "76.5\n"
     ]
    }
   ],
   "source": [
    "class Student:\n",
    "    def __init__(self,marks):\n",
    "        self.__marks=marks ###\"__marks\" is private now can not be set or accessed directly\n",
    "    def per(self):\n",
    "        return (self.__marks/600)*100\n",
    "    def getter(self):\n",
    "        print(\"getting value\",end=\" \") #<--stays at same line after printing\n",
    "        return self.__marks\n",
    "    def setter(self,value):\n",
    "        print(\"setting value \",value) #or +str(value)\n",
    "        self.__marks=value\n",
    "    marks=property(fget=getter,fset=setter)  #property(fget=None, fset=None, fdel=None, doc=None)\n",
    "        \n",
    "s=Student(400)\n",
    "print(s.per())\n",
    "s.marks=459\n",
    "print(s.marks)\n",
    "print(s.per())\n",
    "        "
   ]
  },
  {
   "cell_type": "markdown",
   "metadata": {},
   "source": [
    "# @classmethod"
   ]
  },
  {
   "cell_type": "code",
   "execution_count": 158,
   "metadata": {},
   "outputs": [
    {
     "name": "stdout",
     "output_type": "stream",
     "text": [
      "1\n",
      "pritam got 93.33333333333333% marks\n",
      "None\n",
      "below 17\n"
     ]
    }
   ],
   "source": [
    "class Student:\n",
    "    counter=0       #<---class variable\n",
    "    def __init__(self,name,marks):\n",
    "        self.name=name\n",
    "        self.marks=marks\n",
    "        Student.counter+=1  #<----class variable updated by this way\n",
    "    def msg(self):\n",
    "        print(self.name+\" got \"+self.marks+\"% marks\")\n",
    "    @classmethod    \n",
    "    def obj_count(cls):\n",
    "        return Student.counter\n",
    "    @classmethod\n",
    "    def get_per(cls,name,marks):\n",
    "        return cls(name,str((int(marks)/600) * 100))\n",
    "    \n",
    "    @staticmethod\n",
    "    def get_age(age):\n",
    "        if age<17:\n",
    "            print(\"below 17\")\n",
    "        else:\n",
    "            print(\"above 17\")\n",
    "\n",
    "s1=Student.get_per(\"pritam\",\"560\")\n",
    "print(Student.obj_count())\n",
    "print(s1.msg())  \n",
    "s1.get_age(15)"
   ]
  },
  {
   "cell_type": "markdown",
   "metadata": {},
   "source": [
    "# args and kwargs"
   ]
  },
  {
   "cell_type": "code",
   "execution_count": 1,
   "metadata": {},
   "outputs": [
    {
     "name": "stdout",
     "output_type": "stream",
     "text": [
      "exact function add\n",
      "7\n",
      "exact function printit\n",
      "pritam bharwa hay\n"
     ]
    }
   ],
   "source": [
    "def decorator(func):\n",
    "    def inner(*args,**kwargs):\n",
    "        print(\"exact function {}\".format(func.__name__))\n",
    "        return func(*args,**kwargs)\n",
    "    return inner\n",
    "@decorator\n",
    "def add(num1,num2):\n",
    "    return num1+num2\n",
    "@decorator\n",
    "def printit(name):\n",
    "    return \"{} bharwa hay\".format(name)\n",
    "print(add(3,4))\n",
    "print(printit(\"pritam\"))"
   ]
  },
  {
   "cell_type": "code",
   "execution_count": null,
   "metadata": {},
   "outputs": [],
   "source": []
  }
 ],
 "metadata": {
  "kernelspec": {
   "display_name": "Python 3",
   "language": "python",
   "name": "python3"
  },
  "language_info": {
   "codemirror_mode": {
    "name": "ipython",
    "version": 3
   },
   "file_extension": ".py",
   "mimetype": "text/x-python",
   "name": "python",
   "nbconvert_exporter": "python",
   "pygments_lexer": "ipython3",
   "version": "3.7.3"
  }
 },
 "nbformat": 4,
 "nbformat_minor": 2
}
