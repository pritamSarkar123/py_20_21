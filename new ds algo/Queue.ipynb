{
 "cells": [
  {
   "cell_type": "markdown",
   "metadata": {},
   "source": [
    "# Queue FIFO"
   ]
  },
  {
   "cell_type": "code",
   "execution_count": 2,
   "metadata": {},
   "outputs": [
    {
     "name": "stdout",
     "output_type": "stream",
     "text": [
      "0\n",
      "1\n",
      "2\n",
      "3\n",
      "4\n",
      "True\n"
     ]
    }
   ],
   "source": [
    "import queue\n",
    "q=queue.Queue() #Queue() <- default FIFO\n",
    "for i in range(5):\n",
    "    q.put(i)\n",
    "while not q.empty():\n",
    "    print(q.get())\n",
    "print(q.empty())"
   ]
  },
  {
   "cell_type": "markdown",
   "metadata": {},
   "source": [
    "# Queue LIFO"
   ]
  },
  {
   "cell_type": "code",
   "execution_count": 3,
   "metadata": {},
   "outputs": [
    {
     "name": "stdout",
     "output_type": "stream",
     "text": [
      "4\n",
      "3\n",
      "2\n",
      "1\n",
      "0\n",
      "True\n"
     ]
    }
   ],
   "source": [
    "import queue\n",
    "q=queue.LifoQueue() #Queue() <- LIFO\n",
    "for i in range(5):\n",
    "    q.put(i)\n",
    "while not q.empty():\n",
    "    print(q.get())\n",
    "print(q.empty())\n",
    "\n",
    "\n"
   ]
  },
  {
   "cell_type": "markdown",
   "metadata": {},
   "source": [
    "# Queue Priority"
   ]
  },
  {
   "cell_type": "code",
   "execution_count": 5,
   "metadata": {},
   "outputs": [
    {
     "name": "stdout",
     "output_type": "stream",
     "text": [
      "1\n",
      "2\n",
      "3\n",
      "4\n"
     ]
    }
   ],
   "source": [
    "import queue\n",
    "q=queue.PriorityQueue()\n",
    "q.put(1)\n",
    "q.put(3)\n",
    "q.put(4)\n",
    "q.put(2)\n",
    "for i in range(q.qsize()):    #qsize() returns the queue size\n",
    "    print(q.get())"
   ]
  },
  {
   "cell_type": "markdown",
   "metadata": {},
   "source": [
    "# Storing tuples in PQ"
   ]
  },
  {
   "cell_type": "code",
   "execution_count": 13,
   "metadata": {},
   "outputs": [
    {
     "name": "stdout",
     "output_type": "stream",
     "text": [
      "priority 1\n",
      "priority 2\n",
      "priority 3\n",
      "priority 4\n"
     ]
    }
   ],
   "source": [
    "import queue\n",
    "q=queue.PriorityQueue()\n",
    "q.put((1,'priority 1')) #queue storing each tuples\n",
    "q.put((3,\"priority 3\"))\n",
    "q.put((4,\"priority 4\"))\n",
    "q.put((2,\"priority 2\"))\n",
    "for i in range(q.qsize()):    #qsize() returns the queue size\n",
    "    print(q.get()[1])"
   ]
  },
  {
   "cell_type": "markdown",
   "metadata": {},
   "source": [
    "# Queue.join()"
   ]
  },
  {
   "cell_type": "markdown",
   "metadata": {},
   "source": [
    "Blocks until all items in the queue have been gotten and processed"
   ]
  },
  {
   "cell_type": "code",
   "execution_count": null,
   "metadata": {},
   "outputs": [],
   "source": []
  }
 ],
 "metadata": {
  "kernelspec": {
   "display_name": "Python 3",
   "language": "python",
   "name": "python3"
  },
  "language_info": {
   "codemirror_mode": {
    "name": "ipython",
    "version": 3
   },
   "file_extension": ".py",
   "mimetype": "text/x-python",
   "name": "python",
   "nbconvert_exporter": "python",
   "pygments_lexer": "ipython3",
   "version": "3.7.3"
  }
 },
 "nbformat": 4,
 "nbformat_minor": 2
}
