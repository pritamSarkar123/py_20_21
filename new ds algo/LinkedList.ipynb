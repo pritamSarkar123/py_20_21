{
 "cells": [
  {
   "cell_type": "code",
   "execution_count": 5,
   "metadata": {},
   "outputs": [
    {
     "name": "stdout",
     "output_type": "stream",
     "text": [
      "head of the list created\n",
      "[None, 0, 1, 2]\n"
     ]
    }
   ],
   "source": [
    "class node:\n",
    "    def __init__(self,data=None):\n",
    "        self.data=data\n",
    "        self.next=None\n",
    "class linkedList:\n",
    "    def __init__(self):\n",
    "        self.head=node()\n",
    "        print ('head of the list created')\n",
    "    def append(self,data):\n",
    "        newNode=node(data)\n",
    "        currentNode=self.head\n",
    "        while currentNode.next!=None:\n",
    "            currentNode=currentNode.next\n",
    "        currentNode.next=newNode\n",
    "    def length(self):\n",
    "        currentNode=self.head\n",
    "        totalLength=0\n",
    "        while currentNode!=None:\n",
    "            totalLength +=1\n",
    "            currentNode=currentNode.next\n",
    "        return totalLength\n",
    "    def display(self):\n",
    "        elements=[]\n",
    "        currentNode=self.head\n",
    "        while currentNode!=None:\n",
    "            elements.append(currentNode.data)\n",
    "            currentNode=currentNode.next\n",
    "        print (elements)\n",
    "    def getItem(self,index):\n",
    "        if index >= self.length():\n",
    "            print ('Index out of bound!')\n",
    "            return None\n",
    "        currentNode=self.head\n",
    "        currentNodeIndex=0\n",
    "        while True:\n",
    "            if currentNodeIndex==index:\n",
    "                return currentNode.data\n",
    "            currentNodeIndex +=1\n",
    "            currentNode=currentNode.next\n",
    "    def eraseItem(self,index):\n",
    "        currentNode=self.head\n",
    "        currentNodeIndex=0\n",
    "        if index >= self.length():\n",
    "            print ('Index out of bound!')\n",
    "            return\n",
    "        if self.length()==0:\n",
    "            print ('nothing to delete!')\n",
    "            return\n",
    "        if index==0:\n",
    "            self.head=currentNode.next\n",
    "            return\n",
    "        while True:\n",
    "            if currentNodeIndex==index-1:\n",
    "                currentNode=(currentNode.next).next\n",
    "                print ('Erazed')\n",
    "                return\n",
    "            currentNode=currentNode.next\n",
    "myList=linkedList()\n",
    "myList.append(0)\n",
    "myList.append(1)\n",
    "myList.append(2)\n",
    "myList.display()\n"
   ]
  },
  {
   "cell_type": "code",
   "execution_count": null,
   "metadata": {},
   "outputs": [],
   "source": []
  }
 ],
 "metadata": {
  "kernelspec": {
   "display_name": "Python 3",
   "language": "python",
   "name": "python3"
  },
  "language_info": {
   "codemirror_mode": {
    "name": "ipython",
    "version": 3
   },
   "file_extension": ".py",
   "mimetype": "text/x-python",
   "name": "python",
   "nbconvert_exporter": "python",
   "pygments_lexer": "ipython3",
   "version": "3.7.3"
  }
 },
 "nbformat": 4,
 "nbformat_minor": 2
}
