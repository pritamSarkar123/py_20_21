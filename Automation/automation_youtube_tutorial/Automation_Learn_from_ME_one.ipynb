{
 "cells": [
  {
   "cell_type": "markdown",
   "metadata": {},
   "source": [
    "# 1-7"
   ]
  },
  {
   "cell_type": "markdown",
   "metadata": {},
   "source": [
    "# learnt from"
   ]
  },
  {
   "cell_type": "code",
   "execution_count": 35,
   "metadata": {},
   "outputs": [],
   "source": [
    "#https://youtu.be/zIrs8FtLnIs?list=PLUDwpEzHYYLvx6SuogA7Zhb_hZl3sln66"
   ]
  },
  {
   "cell_type": "code",
   "execution_count": 36,
   "metadata": {},
   "outputs": [],
   "source": [
    "from selenium import webdriver\n",
    "from selenium.webdriver.common.keys import Keys"
   ]
  },
  {
   "cell_type": "code",
   "execution_count": 37,
   "metadata": {},
   "outputs": [],
   "source": [
    "########## driver is an object ########\n",
    "driver=webdriver.Chrome(executable_path='chromedriver.exe')\n",
    "#driver=webdriver.Firefox(executable_path='geckodriver.exe')\n",
    "#driver=webdriver.Ie(executable_path='IEDriverServer.exe')"
   ]
  },
  {
   "cell_type": "code",
   "execution_count": 38,
   "metadata": {},
   "outputs": [],
   "source": [
    "###### open the requested url\n",
    "driver.get('https://www.youtube.com/')"
   ]
  },
  {
   "cell_type": "code",
   "execution_count": 39,
   "metadata": {},
   "outputs": [
    {
     "name": "stdout",
     "output_type": "stream",
     "text": [
      "YouTube\n"
     ]
    }
   ],
   "source": [
    "##### returns the title of the page\n",
    "print(driver.title)"
   ]
  },
  {
   "cell_type": "code",
   "execution_count": 40,
   "metadata": {},
   "outputs": [
    {
     "name": "stdout",
     "output_type": "stream",
     "text": [
      "https://www.youtube.com/\n"
     ]
    }
   ],
   "source": [
    "###### return the url of the page\n",
    "print(driver.current_url)"
   ]
  },
  {
   "cell_type": "code",
   "execution_count": null,
   "metadata": {},
   "outputs": [],
   "source": [
    "####### returns the HTML code for the page\n",
    "#print(driver.page_source)"
   ]
  },
  {
   "cell_type": "code",
   "execution_count": 41,
   "metadata": {},
   "outputs": [],
   "source": [
    "#######closing the browser \n",
    "driver.close()"
   ]
  },
  {
   "cell_type": "markdown",
   "metadata": {},
   "source": [
    "# Learnt from(basic)"
   ]
  },
  {
   "cell_type": "code",
   "execution_count": 42,
   "metadata": {},
   "outputs": [],
   "source": [
    "#https://youtu.be/NYA7AVdD4hA?list=PLUDwpEzHYYLvx6SuogA7Zhb_hZl3sln66"
   ]
  },
  {
   "cell_type": "markdown",
   "metadata": {},
   "source": [
    "basic commands"
   ]
  },
  {
   "cell_type": "code",
   "execution_count": 46,
   "metadata": {},
   "outputs": [],
   "source": [
    "from selenium import webdriver\n",
    "from selenium.webdriver.common.keys import Keys"
   ]
  },
  {
   "cell_type": "code",
   "execution_count": 54,
   "metadata": {},
   "outputs": [
    {
     "name": "stdout",
     "output_type": "stream",
     "text": [
      "Demo Form for practicing Selenium Automation\n",
      "https://www.toolsqa.com/automation-practice-form/\n"
     ]
    }
   ],
   "source": [
    "driver=webdriver.Chrome(executable_path='chromedriver.exe')\n",
    "\n",
    "driver.get('https://www.toolsqa.com/automation-practice-form/')\n",
    "\n",
    "print(driver.title)\n",
    "print(driver.current_url)\n"
   ]
  },
  {
   "cell_type": "code",
   "execution_count": 48,
   "metadata": {},
   "outputs": [],
   "source": [
    "blog_button=driver.find_element_by_xpath('//*[@id=\"primary-menu\"]/li[5]/a/span/span')"
   ]
  },
  {
   "cell_type": "code",
   "execution_count": 49,
   "metadata": {},
   "outputs": [],
   "source": [
    "blog_button.click() #clocking on the button"
   ]
  },
  {
   "cell_type": "code",
   "execution_count": 56,
   "metadata": {},
   "outputs": [],
   "source": [
    "driver.close() ###<<<< closes one tab(child) at a time \n",
    "##OR driver.quit() <<<< closes all tab together"
   ]
  },
  {
   "cell_type": "markdown",
   "metadata": {},
   "source": [
    "# Learnt from(Nevigation commands)"
   ]
  },
  {
   "cell_type": "code",
   "execution_count": 57,
   "metadata": {},
   "outputs": [],
   "source": [
    "#https://youtu.be/9_xCp1qGek4?list=PLUDwpEzHYYLvx6SuogA7Zhb_hZl3sln66"
   ]
  },
  {
   "cell_type": "code",
   "execution_count": 60,
   "metadata": {},
   "outputs": [],
   "source": [
    "from selenium import webdriver\n",
    "from selenium.webdriver.common.keys import Keys\n",
    "import time"
   ]
  },
  {
   "cell_type": "code",
   "execution_count": 62,
   "metadata": {},
   "outputs": [
    {
     "name": "stdout",
     "output_type": "stream",
     "text": [
      "Wikipedia\n",
      "YouTube\n",
      "Wikipedia\n",
      "YouTube\n"
     ]
    }
   ],
   "source": [
    "driver=webdriver.Chrome(executable_path='chromedriver.exe')\n",
    "driver.get(\"https://www.wikipedia.org/\")\n",
    "print(driver.title) ###previous <wiki\n",
    "\n",
    "time.sleep(5)\n",
    "driver.get(\"https://www.youtube.com/\")\n",
    "print(driver.title) ###current <you\n",
    "\n",
    "time.sleep(5)\n",
    "driver.back() #### going back to previous page \"if exhist\"\n",
    "\n",
    "print(driver.title)  ##<wiki\n",
    "\n",
    "time.sleep(5)\n",
    "driver.forward() ##### going to the forward page \"if exhist\"\n",
    "\n",
    "print(driver.title)  ##<you"
   ]
  },
  {
   "cell_type": "markdown",
   "metadata": {},
   "source": [
    "# Learnt from(conditional commands)"
   ]
  },
  {
   "cell_type": "code",
   "execution_count": 63,
   "metadata": {},
   "outputs": [],
   "source": [
    "#https://youtu.be/1spPl1GbVUU?list=PLUDwpEzHYYLvx6SuogA7Zhb_hZl3sln66"
   ]
  },
  {
   "cell_type": "markdown",
   "metadata": {},
   "source": [
    "is_displayed() is_enabled() is_selected()"
   ]
  },
  {
   "cell_type": "code",
   "execution_count": 91,
   "metadata": {},
   "outputs": [],
   "source": [
    "from selenium import webdriver\n",
    "from selenium.webdriver.common.keys import Keys\n",
    "import time"
   ]
  },
  {
   "cell_type": "code",
   "execution_count": 107,
   "metadata": {},
   "outputs": [
    {
     "name": "stdout",
     "output_type": "stream",
     "text": [
      "True\n",
      "True\n",
      "status of selected lang En  True\n",
      "status of selected lang Et  False\n"
     ]
    }
   ],
   "source": [
    "driver=webdriver.Chrome(executable_path='chromedriver.exe')\n",
    "\n",
    "driver.get('https://www.wikipedia.org/')\n",
    "\n",
    "#### whether search box element enabled/displayed or not\n",
    "\n",
    "search_box=driver.find_element_by_xpath('//*[@id=\"searchInput\"]')\n",
    "print(search_box.is_displayed()) ######## displayed or not\n",
    "print(search_box.is_enabled()) ######### enabled or not\n",
    "\n",
    "select_lang_en=driver.find_element_by_css_selector('option[value=en]')\n",
    "print(\"status of selected lang En \",select_lang_en.is_selected()) ######## pre selected or not\n",
    "\n",
    "select_lang_et=driver.find_element_by_css_selector('option[value=et]')\n",
    "print(\"status of selected lang Et \",select_lang_et.is_selected()) ######## pre selected or not\n"
   ]
  },
  {
   "cell_type": "markdown",
   "metadata": {},
   "source": [
    "# Learnt From(wait)"
   ]
  },
  {
   "cell_type": "code",
   "execution_count": 108,
   "metadata": {},
   "outputs": [],
   "source": [
    "#https://youtu.be/0eeq0A6rc_E?list=PLUDwpEzHYYLvx6SuogA7Zhb_hZl3sln66"
   ]
  },
  {
   "cell_type": "code",
   "execution_count": 109,
   "metadata": {},
   "outputs": [
    {
     "data": {
      "text/plain": [
       "'\\nsynchronization problem\\n\\n1.\\n> script is read line by line\\n> when some line got busy in another task\\n> script dont wait for the line,go to the next line\\n> and raise line missing exception\\n2.\\n>some part(1st) of a code dedicated for one page\\n>another part(2nd) for another page\\n> if 2nd page not displayed\\n> the script will not wait for the 2nd part of code\\n> exception thrown by script\\n\\n\\nSulutions:\\n1: application speed increase (not in our hand -_-)\\n2: imply wait\\n'"
      ]
     },
     "execution_count": 109,
     "metadata": {},
     "output_type": "execute_result"
    }
   ],
   "source": [
    "'''\n",
    "synchronization problem\n",
    "\n",
    "1.\n",
    "> script is read line by line\n",
    "> when some line got busy in another task\n",
    "> script dont wait for the line,go to the next line\n",
    "> and raise line missing exception\n",
    "2.\n",
    ">some part(1st) of a code dedicated for one page\n",
    ">another part(2nd) for another page\n",
    "> if 2nd page not displayed\n",
    "> the script will not wait for the 2nd part of code\n",
    "> exception thrown by script\n",
    "\n",
    "\n",
    "Sulutions:\n",
    "1: application speed increase (not in our hand -_-)\n",
    "2: imply wait\n",
    "'''"
   ]
  },
  {
   "cell_type": "code",
   "execution_count": 110,
   "metadata": {},
   "outputs": [],
   "source": [
    "from selenium import webdriver"
   ]
  },
  {
   "cell_type": "code",
   "execution_count": 112,
   "metadata": {},
   "outputs": [],
   "source": [
    "driver=webdriver.Chrome(executable_path='chromedriver.exe')\n",
    "\n",
    "driver.get('https://www.wikipedia.org/') ##it will take some time\n",
    "\n",
    "#### we have to wait and prevent further propagation of line reading\n",
    "driver.implicitly_wait(10)\n",
    "\n",
    "assert \"Wikipedia\" in driver.title\n",
    "\n",
    "driver.find_element_by_xpath('//*[@id=\"searchInput\"]').send_keys('sex')\n",
    "driver.find_element_by_xpath('//*[@id=\"search-form\"]/fieldset/button').click()\n"
   ]
  },
  {
   "cell_type": "code",
   "execution_count": 113,
   "metadata": {},
   "outputs": [
    {
     "data": {
      "text/plain": [
       "'\\nimplicit wait: applicable for all the elements,limited time,\\n            after time expiry, exception can be raised-_-\\n            \\nexplicit wait:  not time based, condition base(element bsed),\\n                until matches the condition,it waits\\n'"
      ]
     },
     "execution_count": 113,
     "metadata": {},
     "output_type": "execute_result"
    }
   ],
   "source": [
    "'''\n",
    "implicit wait: applicable for all the elements,limited time,\n",
    "            after time expiry, exception can be raised-_-\n",
    "            \n",
    "explicit wait:  not time based, condition base(element bsed),\n",
    "                until matches the condition,it waits\n",
    "'''"
   ]
  },
  {
   "cell_type": "code",
   "execution_count": 128,
   "metadata": {},
   "outputs": [],
   "source": [
    "from selenium import webdriver\n",
    "from selenium.webdriver.common.by import By\n",
    "import time\n",
    "from selenium.webdriver.support import expected_conditions as EC\n",
    "from selenium.webdriver.support.ui import WebDriverWait"
   ]
  },
  {
   "cell_type": "code",
   "execution_count": 136,
   "metadata": {},
   "outputs": [],
   "source": [
    "driver=webdriver.Chrome(executable_path='chromedriver.exe')\n",
    "\n",
    "driver.implicitly_wait(5)\n",
    "\n",
    "driver.maximize_window() ##maximizes the window\n",
    "driver.get('https://www.expedia.com/')\n",
    "\n",
    "#driver.find_element_by_id(\"tab-flight-tab-hp\").click()\n",
    "#OR\n",
    "driver.find_element(By.ID,\"tab-flight-tab-hp\").click()\n",
    "\n",
    "time.sleep(2)\n",
    "\n",
    "driver.find_element(By.ID,\"flight-origin-hp-flight\").send_keys(\"SFO\") ###origin\n",
    "\n",
    "time.sleep(2)\n",
    "\n",
    "driver.find_element(By.ID,\"flight-destination-hp-flight\").send_keys(\"NYC\")  ###destination\n",
    "\n",
    "time.sleep(2)\n",
    "\n",
    "driver.find_element(By.ID,\"flight-departing-hp-flight\").clear() #clear the field\n",
    "time.sleep(2)\n",
    "driver.find_element(By.ID,\"flight-departing-hp-flight\").send_keys(\"12/10/2020\") ##departing time\n",
    "\n",
    "time.sleep(2)\n",
    "\n",
    "driver.find_element(By.ID,\"flight-returning-hp-flight\").clear() #clear the field\n",
    "time.sleep(2)\n",
    "\n",
    "returnDate = driver.find_element(By.ID, \"flight-returning-hp-flight\")\n",
    "\n",
    "##### send_keys(key1,key2,key3) #### all keys override one after another\n",
    "### Keys.<keyboard key(non numaric and non alphabetic)>\n",
    "returnDate.send_keys(Keys.CONTROL + \"a\", Keys.DELETE) ## select all and delete on returning date, otherwise not work\n",
    "returnDate.send_keys(\"15/10/2020\") ### returning time\n",
    "\n",
    "\n",
    "time.sleep(2)\n",
    "\n",
    "#driver.find_element_by_xpath('//*[@id=\"gcw-flights-form-hp-flight\"]/div[8]/label/button')\n",
    "#OR\n",
    "try:\n",
    "    driver.find_element(By.XPATH,'//*[@id=\"gcw-flights-form-hp-flight\"]/div[7]/label/button').click() ## search\n",
    "except:\n",
    "    driver.find_element(By.XPATH,'//*[@id=\"gcw-flights-form-hp-flight\"]/div[8]/label/button').click() ## search\n",
    "\n",
    "######## Explicit wait #########\n",
    "############### WebDeiverWait can add time as well as other conditions for waiting ####\n",
    "wait=WebDriverWait(driver,10) ## Maximum_time_out at the time of obj creation, wait maximum upto this time\n",
    "\n",
    "#### other condition\n",
    "click_element=wait.until(EC.element_to_be_clickable((By.XPATH,'//*[@id=\"stopFilter_stops-0\"]')))\n",
    "\n",
    "click_element.click()\n",
    "\n",
    "time.sleep(3)\n",
    "\n",
    "driver.quit()"
   ]
  },
  {
   "cell_type": "code",
   "execution_count": null,
   "metadata": {},
   "outputs": [],
   "source": []
  },
  {
   "cell_type": "code",
   "execution_count": null,
   "metadata": {},
   "outputs": [],
   "source": []
  }
 ],
 "metadata": {
  "kernelspec": {
   "display_name": "Python 3",
   "language": "python",
   "name": "python3"
  },
  "language_info": {
   "codemirror_mode": {
    "name": "ipython",
    "version": 3
   },
   "file_extension": ".py",
   "mimetype": "text/x-python",
   "name": "python",
   "nbconvert_exporter": "python",
   "pygments_lexer": "ipython3",
   "version": "3.7.3"
  }
 },
 "nbformat": 4,
 "nbformat_minor": 2
}
