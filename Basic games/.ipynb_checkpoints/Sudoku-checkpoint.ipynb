{
 "cells": [
  {
   "cell_type": "markdown",
   "metadata": {},
   "source": [
    "# Backtracking"
   ]
  },
  {
   "cell_type": "code",
   "execution_count": 7,
   "metadata": {},
   "outputs": [],
   "source": [
    "import numpy as np\n",
    "listed_game=[\n",
    "    [5,3,0,0,7,0,0,0,0],\n",
    "    [6,0,0,1,9,5,0,0,0],\n",
    "    [0,9,8,0,0,0,0,6,0],\n",
    "    [8,0,0,0,6,0,0,0,3],\n",
    "    [4,0,0,8,0,3,0,0,1],\n",
    "    [7,0,0,0,2,0,0,0,6],\n",
    "    [0,6,0,0,0,0,2,8,0],\n",
    "    [0,0,0,4,1,9,0,0,5],\n",
    "    [0,0,0,0,8,0,0,7,9]\n",
    "]\n",
    "matrix_game=np.matrix(listed_game)"
   ]
  },
  {
   "cell_type": "code",
   "execution_count": 8,
   "metadata": {},
   "outputs": [
    {
     "data": {
      "text/plain": [
       "matrix([[5, 3, 0, 0, 7, 0, 0, 0, 0],\n",
       "        [6, 0, 0, 1, 9, 5, 0, 0, 0],\n",
       "        [0, 9, 8, 0, 0, 0, 0, 6, 0],\n",
       "        [8, 0, 0, 0, 6, 0, 0, 0, 3],\n",
       "        [4, 0, 0, 8, 0, 3, 0, 0, 1],\n",
       "        [7, 0, 0, 0, 2, 0, 0, 0, 6],\n",
       "        [0, 6, 0, 0, 0, 0, 2, 8, 0],\n",
       "        [0, 0, 0, 4, 1, 9, 0, 0, 5],\n",
       "        [0, 0, 0, 0, 8, 0, 0, 7, 9]])"
      ]
     },
     "execution_count": 8,
     "metadata": {},
     "output_type": "execute_result"
    }
   ],
   "source": [
    "matrix_game"
   ]
  },
  {
   "cell_type": "code",
   "execution_count": 9,
   "metadata": {},
   "outputs": [],
   "source": [
    "def check_column(num,col):\n",
    "    global matrix_game\n",
    "    for r in range(0,9):\n",
    "        if matrix_game[r,col]==num:\n",
    "            return True\n",
    "    return False\n",
    "\n",
    "def check_row(num,row):\n",
    "    global matrix_game\n",
    "    for c in range(0,9):\n",
    "        if matrix_game[row,c]==num:\n",
    "            return True\n",
    "    return False\n",
    "\n",
    "def check_box(num,row,col):\n",
    "    global matrix_game\n",
    "    ranges=[[0,1,2],[3,4,5],[6,7,8]]\n",
    "    rows=ranges[int(row/3)]\n",
    "    cols=ranges[int(col/3)]\n",
    "    for r in rows:\n",
    "        for c in cols:\n",
    "            if matrix_game[r,c]==num:\n",
    "                return True\n",
    "    return False    \n",
    "\n",
    "def possible(num,row,col):\n",
    "    global matrix_game\n",
    "    if  not check_column(num,col) and not check_row(num,row) and not check_box(num,row,col):\n",
    "        return True\n",
    "    else:\n",
    "        return False\n"
   ]
  },
  {
   "cell_type": "code",
   "execution_count": 10,
   "metadata": {},
   "outputs": [
    {
     "name": "stdout",
     "output_type": "stream",
     "text": [
      "False True True False 1\n",
      "False True False True 2\n",
      "False False True True 3\n",
      "False False True False 4\n",
      "True False False False 5\n",
      "False True False True 6\n",
      "False True False False 7\n",
      "False True True True 8\n",
      "False True False False 9\n"
     ]
    }
   ],
   "source": [
    "for i in range(1,10):\n",
    "    print(possible(i,4,4),check_column(i,4),check_row(i,4),check_box(i,4,4),i)"
   ]
  },
  {
   "cell_type": "code",
   "execution_count": 11,
   "metadata": {},
   "outputs": [],
   "source": [
    "def solve():\n",
    "    global matrix_game\n",
    "    for r in range(9):\n",
    "        for c in range(9):\n",
    "            if matrix_game[r,c]==0:\n",
    "                for n in range(1,10):\n",
    "                    if possible(n,r,c): ### recurssion termination condition\n",
    "                        matrix_game[r,c]=n\n",
    "                        solve()   ######branching\n",
    "                        matrix_game[r,c]=0 ### backtracking\n",
    "            if matrix_game[r,c]==0:\n",
    "                return ###matrix_game[r,c]==0 but unable to place any value between 1-9 ##deadend\n",
    "    print(matrix_game)"
   ]
  },
  {
   "cell_type": "code",
   "execution_count": 12,
   "metadata": {},
   "outputs": [
    {
     "name": "stdout",
     "output_type": "stream",
     "text": [
      "[[5 3 4 6 7 8 9 1 2]\n",
      " [6 7 2 1 9 5 3 4 8]\n",
      " [1 9 8 3 4 2 5 6 7]\n",
      " [8 5 9 7 6 1 4 2 3]\n",
      " [4 2 6 8 5 3 7 9 1]\n",
      " [7 1 3 9 2 4 8 5 6]\n",
      " [9 6 1 5 3 7 2 8 4]\n",
      " [2 8 7 4 1 9 6 3 5]\n",
      " [3 4 5 2 8 6 1 7 9]]\n"
     ]
    }
   ],
   "source": [
    "solve()"
   ]
  },
  {
   "cell_type": "code",
   "execution_count": null,
   "metadata": {},
   "outputs": [],
   "source": []
  },
  {
   "cell_type": "code",
   "execution_count": null,
   "metadata": {},
   "outputs": [],
   "source": []
  },
  {
   "cell_type": "code",
   "execution_count": null,
   "metadata": {},
   "outputs": [],
   "source": []
  },
  {
   "cell_type": "code",
   "execution_count": null,
   "metadata": {},
   "outputs": [],
   "source": []
  },
  {
   "cell_type": "code",
   "execution_count": null,
   "metadata": {},
   "outputs": [],
   "source": []
  },
  {
   "cell_type": "code",
   "execution_count": null,
   "metadata": {},
   "outputs": [],
   "source": []
  }
 ],
 "metadata": {
  "kernelspec": {
   "display_name": "Python 3",
   "language": "python",
   "name": "python3"
  },
  "language_info": {
   "codemirror_mode": {
    "name": "ipython",
    "version": 3
   },
   "file_extension": ".py",
   "mimetype": "text/x-python",
   "name": "python",
   "nbconvert_exporter": "python",
   "pygments_lexer": "ipython3",
   "version": "3.7.3"
  }
 },
 "nbformat": 4,
 "nbformat_minor": 2
}
