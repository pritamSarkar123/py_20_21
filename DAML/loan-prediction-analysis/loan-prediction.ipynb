{
 "cells": [
  {
   "cell_type": "code",
   "execution_count": 28,
   "metadata": {},
   "outputs": [],
   "source": [
    "import pandas as pd\n",
    "import numpy as np\n",
    "from sklearn import svm\n",
    "from sklearn.model_selection import train_test_split\n",
    "from sklearn.metrics import accuracy_score,confusion_matrix\n",
    "from imblearn.over_sampling import SMOTE\n",
    "from sklearn.preprocessing import MinMaxScaler\n",
    "import warnings\n",
    "from collections import Counter\n",
    "warnings.filterwarnings('ignore')\n",
    "import seaborn as sns\n",
    "import matplotlib.pyplot as plt\n",
    "from keras import Sequential\n",
    "from keras.layers import Dense\n",
    "import pickle\n",
    "from sklearn.externals import joblib\n",
    "from sklearn.model_selection import cross_val_score\n"
   ]
  },
  {
   "cell_type": "code",
   "execution_count": 29,
   "metadata": {},
   "outputs": [
    {
     "name": "stdout",
     "output_type": "stream",
     "text": [
      "Counter({'Y': 332, 'N': 148})\n",
      "0.6916666666666667\n"
     ]
    }
   ],
   "source": [
    "df=pd.read_csv('bankloan.csv')\n",
    "df=df.dropna()\n",
    "df.isna().any()\n",
    "df=df.drop('Loan_ID',axis=1)\n",
    "df['LoanAmount']=(df['LoanAmount']*1000).astype(int)\n",
    "print(Counter(df['Loan_Status']))\n",
    "print(Counter(df['Loan_Status'])['Y']/df['Loan_Status'].size)"
   ]
  },
  {
   "cell_type": "code",
   "execution_count": 30,
   "metadata": {},
   "outputs": [],
   "source": [
    "df['TotalIncome']=df['ApplicantIncome']+df['CoapplicantIncome']"
   ]
  },
  {
   "cell_type": "code",
   "execution_count": 31,
   "metadata": {},
   "outputs": [
    {
     "data": {
      "text/html": [
       "<div>\n",
       "<style scoped>\n",
       "    .dataframe tbody tr th:only-of-type {\n",
       "        vertical-align: middle;\n",
       "    }\n",
       "\n",
       "    .dataframe tbody tr th {\n",
       "        vertical-align: top;\n",
       "    }\n",
       "\n",
       "    .dataframe thead th {\n",
       "        text-align: right;\n",
       "    }\n",
       "</style>\n",
       "<table border=\"1\" class=\"dataframe\">\n",
       "  <thead>\n",
       "    <tr style=\"text-align: right;\">\n",
       "      <th></th>\n",
       "      <th>Gender</th>\n",
       "      <th>Married</th>\n",
       "      <th>Dependents</th>\n",
       "      <th>Education</th>\n",
       "      <th>Self_Employed</th>\n",
       "      <th>ApplicantIncome</th>\n",
       "      <th>CoapplicantIncome</th>\n",
       "      <th>LoanAmount</th>\n",
       "      <th>Loan_Amount_Term</th>\n",
       "      <th>Credit_History</th>\n",
       "      <th>Property_Area</th>\n",
       "      <th>TotalIncome</th>\n",
       "    </tr>\n",
       "  </thead>\n",
       "  <tbody>\n",
       "    <tr>\n",
       "      <th>1</th>\n",
       "      <td>Male</td>\n",
       "      <td>Yes</td>\n",
       "      <td>1.0</td>\n",
       "      <td>Graduate</td>\n",
       "      <td>No</td>\n",
       "      <td>4583</td>\n",
       "      <td>1508.0</td>\n",
       "      <td>128000</td>\n",
       "      <td>360.0</td>\n",
       "      <td>1.0</td>\n",
       "      <td>Rural</td>\n",
       "      <td>6091.0</td>\n",
       "    </tr>\n",
       "    <tr>\n",
       "      <th>2</th>\n",
       "      <td>Male</td>\n",
       "      <td>Yes</td>\n",
       "      <td>0.0</td>\n",
       "      <td>Graduate</td>\n",
       "      <td>Yes</td>\n",
       "      <td>3000</td>\n",
       "      <td>0.0</td>\n",
       "      <td>66000</td>\n",
       "      <td>360.0</td>\n",
       "      <td>1.0</td>\n",
       "      <td>Urban</td>\n",
       "      <td>3000.0</td>\n",
       "    </tr>\n",
       "    <tr>\n",
       "      <th>3</th>\n",
       "      <td>Male</td>\n",
       "      <td>Yes</td>\n",
       "      <td>0.0</td>\n",
       "      <td>Not Graduate</td>\n",
       "      <td>No</td>\n",
       "      <td>2583</td>\n",
       "      <td>2358.0</td>\n",
       "      <td>120000</td>\n",
       "      <td>360.0</td>\n",
       "      <td>1.0</td>\n",
       "      <td>Urban</td>\n",
       "      <td>4941.0</td>\n",
       "    </tr>\n",
       "    <tr>\n",
       "      <th>4</th>\n",
       "      <td>Male</td>\n",
       "      <td>No</td>\n",
       "      <td>0.0</td>\n",
       "      <td>Graduate</td>\n",
       "      <td>No</td>\n",
       "      <td>6000</td>\n",
       "      <td>0.0</td>\n",
       "      <td>141000</td>\n",
       "      <td>360.0</td>\n",
       "      <td>1.0</td>\n",
       "      <td>Urban</td>\n",
       "      <td>6000.0</td>\n",
       "    </tr>\n",
       "    <tr>\n",
       "      <th>5</th>\n",
       "      <td>Male</td>\n",
       "      <td>Yes</td>\n",
       "      <td>2.0</td>\n",
       "      <td>Graduate</td>\n",
       "      <td>Yes</td>\n",
       "      <td>5417</td>\n",
       "      <td>4196.0</td>\n",
       "      <td>267000</td>\n",
       "      <td>360.0</td>\n",
       "      <td>1.0</td>\n",
       "      <td>Urban</td>\n",
       "      <td>9613.0</td>\n",
       "    </tr>\n",
       "  </tbody>\n",
       "</table>\n",
       "</div>"
      ],
      "text/plain": [
       "  Gender Married  Dependents     Education Self_Employed  ApplicantIncome  \\\n",
       "1   Male     Yes         1.0      Graduate            No             4583   \n",
       "2   Male     Yes         0.0      Graduate           Yes             3000   \n",
       "3   Male     Yes         0.0  Not Graduate            No             2583   \n",
       "4   Male      No         0.0      Graduate            No             6000   \n",
       "5   Male     Yes         2.0      Graduate           Yes             5417   \n",
       "\n",
       "   CoapplicantIncome  LoanAmount  Loan_Amount_Term  Credit_History  \\\n",
       "1             1508.0      128000             360.0             1.0   \n",
       "2                0.0       66000             360.0             1.0   \n",
       "3             2358.0      120000             360.0             1.0   \n",
       "4                0.0      141000             360.0             1.0   \n",
       "5             4196.0      267000             360.0             1.0   \n",
       "\n",
       "  Property_Area  TotalIncome  \n",
       "1         Rural       6091.0  \n",
       "2         Urban       3000.0  \n",
       "3         Urban       4941.0  \n",
       "4         Urban       6000.0  \n",
       "5         Urban       9613.0  "
      ]
     },
     "execution_count": 31,
     "metadata": {},
     "output_type": "execute_result"
    }
   ],
   "source": [
    "pre_y=df['Loan_Status']\n",
    "pre_x=df.drop('Loan_Status',axis=1)\n",
    "pre_x.head()"
   ]
  },
  {
   "cell_type": "code",
   "execution_count": 32,
   "metadata": {},
   "outputs": [],
   "source": [
    "###https://pandas.pydata.org/pandas-docs/stable/reference/api/pandas.get_dummies.html\n",
    "dum_x=pd.get_dummies(pre_x)\n",
    "dum_y=pd.DataFrame(columns=['LoanStatus'])\n",
    "dummyfied_y=pre_y.map(dict(Y=1,N=0))"
   ]
  },
  {
   "cell_type": "code",
   "execution_count": 33,
   "metadata": {},
   "outputs": [
    {
     "data": {
      "text/html": [
       "<div>\n",
       "<style scoped>\n",
       "    .dataframe tbody tr th:only-of-type {\n",
       "        vertical-align: middle;\n",
       "    }\n",
       "\n",
       "    .dataframe tbody tr th {\n",
       "        vertical-align: top;\n",
       "    }\n",
       "\n",
       "    .dataframe thead th {\n",
       "        text-align: right;\n",
       "    }\n",
       "</style>\n",
       "<table border=\"1\" class=\"dataframe\">\n",
       "  <thead>\n",
       "    <tr style=\"text-align: right;\">\n",
       "      <th></th>\n",
       "      <th>LoanStatus</th>\n",
       "    </tr>\n",
       "  </thead>\n",
       "  <tbody>\n",
       "    <tr>\n",
       "      <th>1</th>\n",
       "      <td>0</td>\n",
       "    </tr>\n",
       "    <tr>\n",
       "      <th>2</th>\n",
       "      <td>1</td>\n",
       "    </tr>\n",
       "    <tr>\n",
       "      <th>3</th>\n",
       "      <td>1</td>\n",
       "    </tr>\n",
       "    <tr>\n",
       "      <th>4</th>\n",
       "      <td>1</td>\n",
       "    </tr>\n",
       "    <tr>\n",
       "      <th>5</th>\n",
       "      <td>1</td>\n",
       "    </tr>\n",
       "  </tbody>\n",
       "</table>\n",
       "</div>"
      ],
      "text/plain": [
       "   LoanStatus\n",
       "1           0\n",
       "2           1\n",
       "3           1\n",
       "4           1\n",
       "5           1"
      ]
     },
     "execution_count": 33,
     "metadata": {},
     "output_type": "execute_result"
    }
   ],
   "source": [
    "dum_y['LoanStatus']=dummyfied_y\n",
    "dum_y.head()"
   ]
  },
  {
   "cell_type": "code",
   "execution_count": 34,
   "metadata": {},
   "outputs": [],
   "source": [
    "dum_x.head()\n",
    "dum_x.to_csv('dummyx.csv',index=False)\n",
    "dum_y.to_csv('dummyy.csv',index=False)"
   ]
  },
  {
   "cell_type": "code",
   "execution_count": 35,
   "metadata": {},
   "outputs": [],
   "source": [
    "#https://imbalanced-learn.readthedocs.io/en/stable/generated/imblearn.over_sampling.SMOTE.html\n",
    "#### equal amount of Y and N , nd equal to the no of less values x\n",
    "smote=SMOTE(ratio='minority')\n",
    "X1,y=smote.fit_sample(dum_x,dum_y)"
   ]
  },
  {
   "cell_type": "code",
   "execution_count": 36,
   "metadata": {},
   "outputs": [
    {
     "data": {
      "text/plain": [
       "['scale_model.pkl']"
      ]
     },
     "execution_count": 36,
     "metadata": {},
     "output_type": "execute_result"
    }
   ],
   "source": [
    "sc=MinMaxScaler()\n",
    "X=sc.fit_transform(X1)\n",
    "filename='scale_model.pkl'\n",
    "joblib.dump(sc,filename)"
   ]
  },
  {
   "cell_type": "code",
   "execution_count": 37,
   "metadata": {},
   "outputs": [
    {
     "data": {
      "text/plain": [
       "Counter({0: 332, 1: 332})"
      ]
     },
     "execution_count": 37,
     "metadata": {},
     "output_type": "execute_result"
    }
   ],
   "source": [
    "Counter(y)"
   ]
  },
  {
   "cell_type": "code",
   "execution_count": 38,
   "metadata": {},
   "outputs": [],
   "source": [
    "X_train,X_test,y_train,y_test=train_test_split(X,y,test_size=0.2,random_state=42,shuffle=True)"
   ]
  },
  {
   "cell_type": "code",
   "execution_count": 39,
   "metadata": {},
   "outputs": [
    {
     "data": {
      "text/plain": [
       "18"
      ]
     },
     "execution_count": 39,
     "metadata": {},
     "output_type": "execute_result"
    }
   ],
   "source": [
    "X_train.shape[1]"
   ]
  },
  {
   "cell_type": "code",
   "execution_count": 40,
   "metadata": {},
   "outputs": [
    {
     "name": "stdout",
     "output_type": "stream",
     "text": [
      "531/531 [==============================] - 1s 1ms/step\n",
      "accuracy 89.6421845574388\n"
     ]
    },
    {
     "data": {
      "text/plain": [
       "['loan_model.pkl']"
      ]
     },
     "execution_count": 40,
     "metadata": {},
     "output_type": "execute_result"
    }
   ],
   "source": [
    "###### Alert !!!! only testing\n",
    "\n",
    "dic={1:[200,400,4,1,50],2:[400,800,10,1,50],3:[400,800,100,1,50],\n",
    "    4:[200,400,4,1,100],5:[400,800,10,1,100],6:[400,800,100,1,100]}\n",
    "\n",
    "def get_pred_threshold(X_test,y_test,classifier): ### gives the threshold for which accuracy gone maximum\n",
    "    th_list=list(np.arange(0,2,0.05))\n",
    "    max_accuracy=0\n",
    "    max_th=0\n",
    "    predicted=classifier.predict(X_test)\n",
    "    for th in th_list:\n",
    "        y_pred=[]\n",
    "        y_pred=predicted\n",
    "        y_pred=(y_pred>th)\n",
    "        cm=confusion_matrix(y_test,y_pred)\n",
    "        acc=((cm[0,0]+cm[1,1])*100)/(cm[0,0]+cm[0,1]+cm[1,0]+cm[1,1])\n",
    "        if acc>max_accuracy:\n",
    "            max_accuracy=acc\n",
    "            max_th=th\n",
    "    return max_th\n",
    "\n",
    "\n",
    "def get_best_classifier():\n",
    "    max_acc=0\n",
    "    best_key=0\n",
    "    best_classifier=0\n",
    "    max_th=0\n",
    "    for k in dic.keys():\n",
    "        classifier=Sequential()\n",
    "        classifier.add(Dense(dic[k][0],activation='relu',kernel_initializer='random_normal',input_dim=X_train.shape[1]))\n",
    "        classifier.add(Dense(dic[k][1],activation='relu',kernel_initializer='random_normal'))\n",
    "        classifier.add(Dense(dic[k][2],activation='relu',kernel_initializer='random_normal'))\n",
    "        classifier.add(Dense(dic[k][3],activation='sigmoid',kernel_initializer='random_normal'))\n",
    "        classifier.compile(optimizer='adam',loss='binary_crossentropy',metrics=['accuracy'])\n",
    "        #### as binary prediction so binary_cross entropy\n",
    "        classifier.fit(X_train,y_train,batch_size=20,epochs=dic[k][4],verbose=0)\n",
    "        \n",
    "        th=get_pred_threshold(X_test,y_test,classifier)\n",
    "\n",
    "        y_pred=classifier.predict(X_test)\n",
    "        y_pred=(y_pred>th)\n",
    "        cm=confusion_matrix(y_test,y_pred)\n",
    "        acc=((cm[0,0]+cm[1,1])*100)/(cm[0,0]+cm[0,1]+cm[1,0]+cm[1,1])\n",
    "        if acc> max_acc:\n",
    "            max_acc=acc\n",
    "            best_key=k\n",
    "            best_classifier=classifier\n",
    "            max_th=th\n",
    "            filename='maximum_th.pkl'\n",
    "            joblib.dump(max_th,filename)\n",
    "    return best_classifier\n",
    "            \n",
    "\n",
    "classifier=get_best_classifier()\n",
    "\n",
    "eval_model=classifier.evaluate(X_train,y_train)\n",
    "print(f'accuracy {eval_model[1]*100}')\n",
    "filename='loan_model.pkl'\n",
    "joblib.dump(classifier,filename)"
   ]
  },
  {
   "cell_type": "code",
   "execution_count": null,
   "metadata": {},
   "outputs": [],
   "source": []
  },
  {
   "cell_type": "code",
   "execution_count": 41,
   "metadata": {},
   "outputs": [
    {
     "data": {
      "text/plain": [
       "\"classifier=Sequential()\\nclassifier.add(Dense(200,activation='relu',kernel_initializer='random_normal',input_dim=X_train.shape[1]))\\nclassifier.add(Dense(400,activation='relu',kernel_initializer='random_normal'))\\nclassifier.add(Dense(4,activation='relu',kernel_initializer='random_normal'))\\nclassifier.add(Dense(1,activation='sigmoid',kernel_initializer='random_normal'))\\nclassifier.compile(optimizer='adam',loss='binary_crossentropy',metrics=['accuracy'])\\n#### as binary prediction so binary_cross entropy\\nclassifier.fit(X_train,y_train,batch_size=20,epochs=50,verbose=0)\\neval_model=classifier.evaluate(X_train,y_train)\\neval_model\""
      ]
     },
     "execution_count": 41,
     "metadata": {},
     "output_type": "execute_result"
    }
   ],
   "source": [
    "'''classifier=Sequential()\n",
    "classifier.add(Dense(200,activation='relu',kernel_initializer='random_normal',input_dim=X_train.shape[1]))\n",
    "classifier.add(Dense(400,activation='relu',kernel_initializer='random_normal'))\n",
    "classifier.add(Dense(4,activation='relu',kernel_initializer='random_normal'))\n",
    "classifier.add(Dense(1,activation='sigmoid',kernel_initializer='random_normal'))\n",
    "classifier.compile(optimizer='adam',loss='binary_crossentropy',metrics=['accuracy'])\n",
    "#### as binary prediction so binary_cross entropy\n",
    "classifier.fit(X_train,y_train,batch_size=20,epochs=50,verbose=0)\n",
    "eval_model=classifier.evaluate(X_train,y_train)\n",
    "eval_model'''"
   ]
  },
  {
   "cell_type": "code",
   "execution_count": 42,
   "metadata": {},
   "outputs": [],
   "source": [
    "max_th=joblib.load('maximum_th.pkl')"
   ]
  },
  {
   "cell_type": "code",
   "execution_count": null,
   "metadata": {},
   "outputs": [],
   "source": []
  },
  {
   "cell_type": "code",
   "execution_count": null,
   "metadata": {},
   "outputs": [],
   "source": []
  },
  {
   "cell_type": "code",
   "execution_count": 43,
   "metadata": {},
   "outputs": [],
   "source": [
    "\n",
    "y_pred=classifier.predict(X_test)\n",
    "y_pred=(y_pred>max_th)\n"
   ]
  },
  {
   "cell_type": "code",
   "execution_count": 44,
   "metadata": {},
   "outputs": [],
   "source": [
    "cm=confusion_matrix(y_test,y_pred)\n"
   ]
  },
  {
   "cell_type": "code",
   "execution_count": 45,
   "metadata": {},
   "outputs": [
    {
     "data": {
      "text/plain": [
       "array([[46, 19],\n",
       "       [ 5, 63]], dtype=int64)"
      ]
     },
     "execution_count": 45,
     "metadata": {},
     "output_type": "execute_result"
    }
   ],
   "source": [
    "cm"
   ]
  },
  {
   "cell_type": "code",
   "execution_count": 46,
   "metadata": {},
   "outputs": [
    {
     "data": {
      "text/plain": [
       "[Text(0, 0.5, 'No'), Text(0, 1.5, 'Yes')]"
      ]
     },
     "execution_count": 46,
     "metadata": {},
     "output_type": "execute_result"
    },
    {
     "data": {
      "image/png": "[encoded data removed]",
      "text/plain": [
       "<Figure size 432x288 with 2 Axes>"
      ]
     },
     "metadata": {
      "needs_background": "light"
     },
     "output_type": "display_data"
    }
   ],
   "source": [
    "ax=plt.subplot()\n",
    "sns.heatmap(cm,annot=True,ax=ax)# annot true anote the cells\n",
    "ax.set_xlabel('Predicted')\n",
    "ax.set_ylabel('Actual')\n",
    "ax.set_title('Confusion Matrix');\n",
    "ax.xaxis.set_ticklabels(['No','Yes'])\n",
    "ax.yaxis.set_ticklabels(['No','Yes'])"
   ]
  },
  {
   "cell_type": "code",
   "execution_count": null,
   "metadata": {},
   "outputs": [],
   "source": []
  },
  {
   "cell_type": "code",
   "execution_count": 47,
   "metadata": {},
   "outputs": [
    {
     "name": "stdout",
     "output_type": "stream",
     "text": [
      "442/442 [==============================] - 1s 2ms/step\n",
      "88.23529398279493\n",
      "442/442 [==============================] - 1s 2ms/step\n",
      "86.65158376434809\n",
      "444/444 [==============================] - 1s 2ms/step\n",
      "88.06306306306307\n",
      "87.6499802700687\n"
     ]
    }
   ],
   "source": [
    "from sklearn.model_selection import StratifiedKFold\n",
    "kfold = StratifiedKFold(n_splits=3,shuffle=True,random_state=0)\n",
    "cvscore=[]\n",
    "for train_index, test_index in kfold.split(X, y): #generator ## each time generates list of indices\n",
    "    classifier=Sequential()\n",
    "    classifier.add(Dense(200,activation='relu',kernel_initializer='random_normal',input_dim=X.shape[1]))\n",
    "    classifier.add(Dense(400,activation='relu',kernel_initializer='random_normal'))\n",
    "    classifier.add(Dense(4,activation='relu',kernel_initializer='random_normal'))\n",
    "    classifier.add(Dense(1,activation='sigmoid',kernel_initializer='random_normal'))\n",
    "    classifier.compile(optimizer='adam',loss='binary_crossentropy',metrics=['accuracy'])\n",
    "    #### as binary prediction so binary_cross entropy\n",
    "    classifier.fit(X[train_index],y[train_index],batch_size=20,epochs=50,verbose=0)\n",
    "    eval_model=classifier.evaluate(X[train_index],y[train_index])\n",
    "    score=eval_model[1]*100\n",
    "    cvscore.append(score)\n",
    "    print(score)\n",
    "print(np.mean(cvscore))"
   ]
  },
  {
   "cell_type": "code",
   "execution_count": 48,
   "metadata": {},
   "outputs": [],
   "source": [
    "y_pred=classifier.predict(X_test)\n",
    "\n",
    "max_th=get_pred_threshold(X_test,y_test,classifier)\n",
    "\n",
    "y_pred=(y_pred>max_th)\n",
    "\n",
    "cm=confusion_matrix(y_test,y_pred)\n"
   ]
  },
  {
   "cell_type": "code",
   "execution_count": 49,
   "metadata": {},
   "outputs": [
    {
     "data": {
      "text/plain": [
       "array([[54, 11],\n",
       "       [ 3, 65]], dtype=int64)"
      ]
     },
     "execution_count": 49,
     "metadata": {},
     "output_type": "execute_result"
    }
   ],
   "source": [
    "cm"
   ]
  },
  {
   "cell_type": "code",
   "execution_count": 50,
   "metadata": {},
   "outputs": [
    {
     "data": {
      "text/plain": [
       "[Text(0, 0.5, 'No'), Text(0, 1.5, 'Yes')]"
      ]
     },
     "execution_count": 50,
     "metadata": {},
     "output_type": "execute_result"
    },
    {
     "data": {
      "image/png": "[encoded data removed]",
      "text/plain": [
       "<Figure size 432x288 with 2 Axes>"
      ]
     },
     "metadata": {
      "needs_background": "light"
     },
     "output_type": "display_data"
    }
   ],
   "source": [
    "ax=plt.subplot()\n",
    "sns.heatmap(cm,annot=True,ax=ax)# annot true anote the cells\n",
    "ax.set_xlabel('Predicted')\n",
    "ax.set_ylabel('Actual')\n",
    "ax.set_title('Confusion Matrix');\n",
    "ax.xaxis.set_ticklabels(['No','Yes'])\n",
    "ax.yaxis.set_ticklabels(['No','Yes'])"
   ]
  },
  {
   "cell_type": "markdown",
   "metadata": {},
   "source": [
    "# Prediction"
   ]
  },
  {
   "cell_type": "code",
   "execution_count": 51,
   "metadata": {},
   "outputs": [],
   "source": [
    "import pickle\n",
    "from sklearn.externals import joblib\n",
    "import numpy as np\n",
    "import pandas as pd\n",
    "from sklearn.preprocessing import MinMaxScaler\n",
    "from imblearn.over_sampling import SMOTE"
   ]
  },
  {
   "cell_type": "code",
   "execution_count": 52,
   "metadata": {},
   "outputs": [],
   "source": [
    "###TODO Modifiable finction in Django\n",
    "sc=joblib.load('scale_model.pkl')\n",
    "model=joblib.load('loan_model.pkl')\n",
    "max_th=joblib.load('maximum_th.pkl')\n",
    "def fill_df(ip):\n",
    "    ip_scaled=sc.transform(ip)   \n",
    "    op=model.predict(ip_scaled)\n",
    "    if(op>max_th):\n",
    "        print('Loan Available')\n",
    "    else:\n",
    "        print('Loan Not Available')"
   ]
  },
  {
   "cell_type": "code",
   "execution_count": 53,
   "metadata": {},
   "outputs": [
    {
     "name": "stdout",
     "output_type": "stream",
     "text": [
      "Loan Available\n",
      "Loan Available\n",
      "Loan Available\n",
      "Loan Available\n",
      "Loan Available\n",
      "Loan Available\n",
      "Loan Not Available\n",
      "Loan Available\n",
      "Loan Not Available\n",
      "Loan Available\n"
     ]
    }
   ],
   "source": [
    "dx=pd.read_csv('dummyx.csv')\n",
    "dy=pd.read_csv('dummyy.csv')\n",
    "for i in range(10):\n",
    "    fill_df(np.array(dx.loc[i]).reshape(1,18))"
   ]
  },
  {
   "cell_type": "code",
   "execution_count": null,
   "metadata": {},
   "outputs": [],
   "source": []
  },
  {
   "cell_type": "code",
   "execution_count": null,
   "metadata": {},
   "outputs": [],
   "source": []
  },
  {
   "cell_type": "code",
   "execution_count": null,
   "metadata": {},
   "outputs": [],
   "source": []
  },
  {
   "cell_type": "code",
   "execution_count": null,
   "metadata": {},
   "outputs": [],
   "source": []
  },
  {
   "cell_type": "code",
   "execution_count": null,
   "metadata": {},
   "outputs": [],
   "source": []
  },
  {
   "cell_type": "code",
   "execution_count": 54,
   "metadata": {},
   "outputs": [
    {
     "data": {
      "text/plain": [
       "0.35000000000000003"
      ]
     },
     "execution_count": 54,
     "metadata": {},
     "output_type": "execute_result"
    }
   ],
   "source": [
    "max_th"
   ]
  },
  {
   "cell_type": "code",
   "execution_count": null,
   "metadata": {},
   "outputs": [],
   "source": []
  },
  {
   "cell_type": "code",
   "execution_count": null,
   "metadata": {},
   "outputs": [],
   "source": []
  },
  {
   "cell_type": "code",
   "execution_count": null,
   "metadata": {},
   "outputs": [],
   "source": []
  }
 ],
 "metadata": {
  "kernelspec": {
   "display_name": "Python 3",
   "language": "python",
   "name": "python3"
  },
  "language_info": {
   "codemirror_mode": {
    "name": "ipython",
    "version": 3
   },
   "file_extension": ".py",
   "mimetype": "text/x-python",
   "name": "python",
   "nbconvert_exporter": "python",
   "pygments_lexer": "ipython3",
   "version": "3.7.3"
  }
 },
 "nbformat": 4,
 "nbformat_minor": 2
}
