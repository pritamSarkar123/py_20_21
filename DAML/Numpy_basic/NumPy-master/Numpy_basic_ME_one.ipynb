{
 "cells": [
  {
   "cell_type": "markdown",
   "metadata": {},
   "source": [
    "# Learnt From"
   ]
  },
  {
   "cell_type": "code",
   "execution_count": 1,
   "metadata": {},
   "outputs": [],
   "source": [
    "#https://youtu.be/GB9ByFAIAH4?list=PLuueT5PsexC99xgXJh62KO-J1wMt1kQ9j"
   ]
  },
  {
   "cell_type": "markdown",
   "metadata": {},
   "source": [
    "# Numpy faster than List"
   ]
  },
  {
   "cell_type": "code",
   "execution_count": 1,
   "metadata": {},
   "outputs": [
    {
     "data": {
      "text/plain": [
       "'\\nlist(built in int type): slow because\\n    1.uses variable types\\n    2.uses more bytes to store as to store and read  each element we have to fill:\\n        1.size(4 Bytes)\\n        2.Reference Count(8 Bytes)\\n        3.Object type(8 Bytes)\\n        4.Object value(8 Bytes)\\n    3. type checking required before each entry \\n    4.not contiguous memory(may be using pointer or linked list)//sequential access\\nNumpy: faster because\\n    1.usess fixed types,\\n    2.uses less bytes of memory to storeand read\\n    3.no type checking is required\\n    4.uses contiguous memory//indexed access\\n    5.so vector processor unit can easily operate on SIMD\\n    6.Effective cache utilization, locality of reference is available\\n    \\neg: 5->00000101 stored in:\\n    Numpy{int32->4 Byte/int16->2 Byte/int8->1 Byte}\\n    Lists{int32->(4+8+8+8)Byte}\\n'"
      ]
     },
     "execution_count": 1,
     "metadata": {},
     "output_type": "execute_result"
    }
   ],
   "source": [
    "'''\n",
    "list(built in int type): slow because\n",
    "    1.uses variable types\n",
    "    2.uses more bytes to store as to store and read  each element we have to fill:\n",
    "        1.size(4 Bytes)\n",
    "        2.Reference Count(8 Bytes)\n",
    "        3.Object type(8 Bytes)\n",
    "        4.Object value(8 Bytes)\n",
    "    3. type checking required before each entry \n",
    "    4.not contiguous memory(may be using pointer or linked list)//sequential access\n",
    "Numpy: faster because\n",
    "    1.usess fixed types,\n",
    "    2.uses less bytes of memory to storeand read\n",
    "    3.no type checking is required\n",
    "    4.uses contiguous memory//indexed access\n",
    "    5.so vector processor unit can easily operate on SIMD\n",
    "    6.Effective cache utilization, locality of reference is available\n",
    "    \n",
    "eg: 5->00000101 stored in:\n",
    "    Numpy{int32->4 Byte/int16->2 Byte/int8->1 Byte}\n",
    "    Lists{int32->(4+8+8+8)Byte}\n",
    "'''"
   ]
  },
  {
   "cell_type": "markdown",
   "metadata": {},
   "source": [
    "# other"
   ]
  },
  {
   "cell_type": "code",
   "execution_count": 2,
   "metadata": {},
   "outputs": [
    {
     "data": {
      "text/plain": [
       "'\\n1.insertion deletion appending concatination available for both\\n2.but numpy has lots more functionlaties to perform\\n3.numpy is better in(Math,Plotting,Backend,Machine Learning**)\\na=[1,3,5]\\nb=[1,2,3]\\n\\na*b--->Error\\n\\na=np.array([1,3,5])\\nb=np.array([1,2,3])\\n\\na*b=np.array([1,6,15]) // element wise multiplication\\n\\n'"
      ]
     },
     "execution_count": 2,
     "metadata": {},
     "output_type": "execute_result"
    }
   ],
   "source": [
    "'''\n",
    "1.insertion deletion appending concatination available for both\n",
    "2.but numpy has lots more functionlaties to perform\n",
    "3.numpy is better in(Math,Plotting,Backend,Machine Learning**)\n",
    "a=[1,3,5]\n",
    "b=[1,2,3]\n",
    "\n",
    "a*b--->Error\n",
    "\n",
    "a=np.array([1,3,5])\n",
    "b=np.array([1,2,3])\n",
    "\n",
    "a*b=np.array([1,6,15]) // element wise multiplication\n",
    "\n",
    "'''"
   ]
  },
  {
   "cell_type": "code",
   "execution_count": 3,
   "metadata": {},
   "outputs": [],
   "source": [
    "import numpy as np"
   ]
  },
  {
   "cell_type": "markdown",
   "metadata": {},
   "source": [
    "# Basic"
   ]
  },
  {
   "cell_type": "code",
   "execution_count": 4,
   "metadata": {},
   "outputs": [
    {
     "name": "stdout",
     "output_type": "stream",
     "text": [
      "[1 2 3]\n",
      "1\n",
      "(3,)\n",
      "int16\n",
      "2\n",
      "3\n",
      "6\n"
     ]
    }
   ],
   "source": [
    "a=np.array([1,2,3],dtype='int16') #otherwise by default int32\n",
    "print(a)\n",
    "print(a.ndim)\n",
    "print(a.shape)\n",
    "print(a.dtype)\n",
    "print(a.itemsize) ## tells each itemsize\n",
    "print(a.size)### total number of elements used\n",
    "print(a.size*a.itemsize) ##total size"
   ]
  },
  {
   "cell_type": "code",
   "execution_count": 5,
   "metadata": {},
   "outputs": [
    {
     "name": "stdout",
     "output_type": "stream",
     "text": [
      "[[9.  8.6 7.8]\n",
      " [1.2 3.4 5.6]]\n",
      "2\n",
      "(2, 3)\n",
      "float64\n",
      "8\n",
      "6\n",
      "48\n"
     ]
    }
   ],
   "source": [
    "b=np.array([[9.0,8.6,7.8],[1.2,3.4,5.6]])\n",
    "print(b)\n",
    "print(b.ndim)\n",
    "print(b.shape)\n",
    "print(b.dtype)\n",
    "print(b.itemsize)\n",
    "print(b.size)\n",
    "print(b.size*b.itemsize)"
   ]
  },
  {
   "cell_type": "code",
   "execution_count": 6,
   "metadata": {},
   "outputs": [
    {
     "name": "stdout",
     "output_type": "stream",
     "text": [
      "[list([9.0, 8.6]) list([1.2, 3.4, 5.6])]\n",
      "1\n",
      "(2,)\n",
      "object\n",
      "8\n",
      "2\n",
      "16\n"
     ]
    }
   ],
   "source": [
    "### vvi <<- disimilar elements\n",
    "b=np.array([[9.0,8.6],[1.2,3.4,5.6]])\n",
    "print(b)\n",
    "print(b.ndim)\n",
    "print(b.shape)\n",
    "print(b.dtype)\n",
    "print(b.itemsize)\n",
    "print(b.size) \n",
    "print(b.size*b.itemsize)"
   ]
  },
  {
   "cell_type": "markdown",
   "metadata": {},
   "source": [
    "# Accesing chnging element/row/column"
   ]
  },
  {
   "cell_type": "code",
   "execution_count": 7,
   "metadata": {},
   "outputs": [
    {
     "name": "stdout",
     "output_type": "stream",
     "text": [
      "[[ 1  2  3  4  5  6  7]\n",
      " [ 8  9 10 11 12 13 14]]\n",
      "(2, 7)\n"
     ]
    }
   ],
   "source": [
    "a=np.array([[1,2,3,4,5,6,7],[8,9,10,11,12,13,14]])\n",
    "print(a)\n",
    "print(a.shape)"
   ]
  },
  {
   "cell_type": "code",
   "execution_count": 8,
   "metadata": {},
   "outputs": [
    {
     "name": "stdout",
     "output_type": "stream",
     "text": [
      "13\n",
      "13\n"
     ]
    }
   ],
   "source": [
    "print(a[1,5])\n",
    "print(a[1,-2])"
   ]
  },
  {
   "cell_type": "code",
   "execution_count": 9,
   "metadata": {},
   "outputs": [
    {
     "name": "stdout",
     "output_type": "stream",
     "text": [
      "[ 8  9 10 11 12 13 14]\n",
      "[ 8  9 10 11 12 13 14]\n"
     ]
    }
   ],
   "source": [
    "print(a[1])\n",
    "print(a[1,:])"
   ]
  },
  {
   "cell_type": "code",
   "execution_count": 10,
   "metadata": {},
   "outputs": [
    {
     "name": "stdout",
     "output_type": "stream",
     "text": [
      "[ 3 10]\n"
     ]
    }
   ],
   "source": [
    "print(a[:,2])"
   ]
  },
  {
   "cell_type": "code",
   "execution_count": 11,
   "metadata": {},
   "outputs": [
    {
     "name": "stdout",
     "output_type": "stream",
     "text": [
      "[2 4 6]\n",
      "[2 4 6]\n"
     ]
    }
   ],
   "source": [
    "##[start:end:step  ,  start:end:step]\n",
    "print(a[0, 1:6:2])\n",
    "print(a[0, 1:-1:2])"
   ]
  },
  {
   "cell_type": "code",
   "execution_count": 12,
   "metadata": {},
   "outputs": [
    {
     "name": "stdout",
     "output_type": "stream",
     "text": [
      "[[ 1  2  3  4  5  6  7]\n",
      " [ 8  9 10 11 12 20 14]]\n"
     ]
    }
   ],
   "source": [
    "a[1,5]=20\n",
    "print(a)"
   ]
  },
  {
   "cell_type": "code",
   "execution_count": 13,
   "metadata": {},
   "outputs": [
    {
     "name": "stdout",
     "output_type": "stream",
     "text": [
      "[[1 2 3 4 5 6 7]\n",
      " [5 5 5 5 5 5 5]]\n"
     ]
    }
   ],
   "source": [
    "a[1,:]=5\n",
    "print(a)"
   ]
  },
  {
   "cell_type": "code",
   "execution_count": 14,
   "metadata": {},
   "outputs": [
    {
     "name": "stdout",
     "output_type": "stream",
     "text": [
      "[[ 1  2 20  4  5  6  7]\n",
      " [ 5  5  3  5  5  5  5]]\n"
     ]
    }
   ],
   "source": [
    "a[:,2]=[20,3] ### column wise sequentially value change\n",
    "print(a)"
   ]
  },
  {
   "cell_type": "code",
   "execution_count": 15,
   "metadata": {},
   "outputs": [
    {
     "name": "stdout",
     "output_type": "stream",
     "text": [
      "[[ 1  2 20  4  5  6  7]\n",
      " [ 9 10 11  5  5  5  5]]\n"
     ]
    }
   ],
   "source": [
    "a[1,0:3]=[9,10,11] ### row wise sequentially value change\n",
    "print(a)"
   ]
  },
  {
   "cell_type": "markdown",
   "metadata": {},
   "source": [
    "# 3d example"
   ]
  },
  {
   "cell_type": "code",
   "execution_count": 16,
   "metadata": {},
   "outputs": [
    {
     "name": "stdout",
     "output_type": "stream",
     "text": [
      "[[[1 2 3]\n",
      "  [4 5 6]\n",
      "  [1 1 4]]\n",
      "\n",
      " [[5 9 3]\n",
      "  [9 9 9]\n",
      "  [3 4 5]]\n",
      "\n",
      " [[4 5 6]\n",
      "  [4 5 9]\n",
      "  [1 2 3]]]\n",
      "3\n",
      "(3, 3, 3)\n",
      "int32\n",
      "4\n",
      "27\n",
      "108\n"
     ]
    }
   ],
   "source": [
    "b=np.array([\n",
    "    [  [1,2,3],[4,5,6],[1,1,4]  ],## layer 1\n",
    "    [  [5,9,3],[9,9,9],[3,4,5]  ],## layer 2\n",
    "    [  [4,5,6],[4,5,9],[1,2,3]  ] ## layer 3\n",
    "])\n",
    "print(b)\n",
    "print(b.ndim)\n",
    "print(b.shape)\n",
    "print(b.dtype)\n",
    "print(b.itemsize)\n",
    "print(b.size) \n",
    "print(b.size*b.itemsize)"
   ]
  },
  {
   "cell_type": "code",
   "execution_count": 17,
   "metadata": {},
   "outputs": [
    {
     "name": "stdout",
     "output_type": "stream",
     "text": [
      "9\n",
      "[5 9 3]\n",
      "[9 9 4]\n"
     ]
    }
   ],
   "source": [
    "##[start:end:step  ,  start:end:step  , start:end:step]\n",
    "print(b[1,0,1])\n",
    "print(b[1,0,:])\n",
    "print(b[1,:,1])"
   ]
  },
  {
   "cell_type": "code",
   "execution_count": 18,
   "metadata": {},
   "outputs": [
    {
     "name": "stdout",
     "output_type": "stream",
     "text": [
      "[[4 5 6]\n",
      " [9 9 9]\n",
      " [4 5 9]]\n",
      "[[-1 -1 -1]\n",
      " [-2 -2 -2]\n",
      " [-3 -3 -3]]\n"
     ]
    }
   ],
   "source": [
    "print(b[:,1,:])\n",
    "\n",
    "### replacing\n",
    "b[:,1,:]=[[-1,-1,-1],[-2,-2,-2],[-3,-3,-3]]\n",
    "\n",
    "print(b[:,1,:])"
   ]
  },
  {
   "cell_type": "markdown",
   "metadata": {},
   "source": [
    "# Initializations ###"
   ]
  },
  {
   "cell_type": "code",
   "execution_count": 19,
   "metadata": {},
   "outputs": [
    {
     "name": "stdout",
     "output_type": "stream",
     "text": [
      "[[[[[0 0 0 0]\n",
      "    [0 0 0 0]\n",
      "    [0 0 0 0]\n",
      "    [0 0 0 0]\n",
      "    [0 0 0 0]]\n",
      "\n",
      "   [[0 0 0 0]\n",
      "    [0 0 0 0]\n",
      "    [0 0 0 0]\n",
      "    [0 0 0 0]\n",
      "    [0 0 0 0]]\n",
      "\n",
      "   [[0 0 0 0]\n",
      "    [0 0 0 0]\n",
      "    [0 0 0 0]\n",
      "    [0 0 0 0]\n",
      "    [0 0 0 0]]\n",
      "\n",
      "   [[0 0 0 0]\n",
      "    [0 0 0 0]\n",
      "    [0 0 0 0]\n",
      "    [0 0 0 0]\n",
      "    [0 0 0 0]]\n",
      "\n",
      "   [[0 0 0 0]\n",
      "    [0 0 0 0]\n",
      "    [0 0 0 0]\n",
      "    [0 0 0 0]\n",
      "    [0 0 0 0]]]\n",
      "\n",
      "\n",
      "  [[[0 0 0 0]\n",
      "    [0 0 0 0]\n",
      "    [0 0 0 0]\n",
      "    [0 0 0 0]\n",
      "    [0 0 0 0]]\n",
      "\n",
      "   [[0 0 0 0]\n",
      "    [0 0 0 0]\n",
      "    [0 0 0 0]\n",
      "    [0 0 0 0]\n",
      "    [0 0 0 0]]\n",
      "\n",
      "   [[0 0 0 0]\n",
      "    [0 0 0 0]\n",
      "    [0 0 0 0]\n",
      "    [0 0 0 0]\n",
      "    [0 0 0 0]]\n",
      "\n",
      "   [[0 0 0 0]\n",
      "    [0 0 0 0]\n",
      "    [0 0 0 0]\n",
      "    [0 0 0 0]\n",
      "    [0 0 0 0]]\n",
      "\n",
      "   [[0 0 0 0]\n",
      "    [0 0 0 0]\n",
      "    [0 0 0 0]\n",
      "    [0 0 0 0]\n",
      "    [0 0 0 0]]]\n",
      "\n",
      "\n",
      "  [[[0 0 0 0]\n",
      "    [0 0 0 0]\n",
      "    [0 0 0 0]\n",
      "    [0 0 0 0]\n",
      "    [0 0 0 0]]\n",
      "\n",
      "   [[0 0 0 0]\n",
      "    [0 0 0 0]\n",
      "    [0 0 0 0]\n",
      "    [0 0 0 0]\n",
      "    [0 0 0 0]]\n",
      "\n",
      "   [[0 0 0 0]\n",
      "    [0 0 0 0]\n",
      "    [0 0 0 0]\n",
      "    [0 0 0 0]\n",
      "    [0 0 0 0]]\n",
      "\n",
      "   [[0 0 0 0]\n",
      "    [0 0 0 0]\n",
      "    [0 0 0 0]\n",
      "    [0 0 0 0]\n",
      "    [0 0 0 0]]\n",
      "\n",
      "   [[0 0 0 0]\n",
      "    [0 0 0 0]\n",
      "    [0 0 0 0]\n",
      "    [0 0 0 0]\n",
      "    [0 0 0 0]]]]\n",
      "\n",
      "\n",
      "\n",
      " [[[[0 0 0 0]\n",
      "    [0 0 0 0]\n",
      "    [0 0 0 0]\n",
      "    [0 0 0 0]\n",
      "    [0 0 0 0]]\n",
      "\n",
      "   [[0 0 0 0]\n",
      "    [0 0 0 0]\n",
      "    [0 0 0 0]\n",
      "    [0 0 0 0]\n",
      "    [0 0 0 0]]\n",
      "\n",
      "   [[0 0 0 0]\n",
      "    [0 0 0 0]\n",
      "    [0 0 0 0]\n",
      "    [0 0 0 0]\n",
      "    [0 0 0 0]]\n",
      "\n",
      "   [[0 0 0 0]\n",
      "    [0 0 0 0]\n",
      "    [0 0 0 0]\n",
      "    [0 0 0 0]\n",
      "    [0 0 0 0]]\n",
      "\n",
      "   [[0 0 0 0]\n",
      "    [0 0 0 0]\n",
      "    [0 0 0 0]\n",
      "    [0 0 0 0]\n",
      "    [0 0 0 0]]]\n",
      "\n",
      "\n",
      "  [[[0 0 0 0]\n",
      "    [0 0 0 0]\n",
      "    [0 0 0 0]\n",
      "    [0 0 0 0]\n",
      "    [0 0 0 0]]\n",
      "\n",
      "   [[0 0 0 0]\n",
      "    [0 0 0 0]\n",
      "    [0 0 0 0]\n",
      "    [0 0 0 0]\n",
      "    [0 0 0 0]]\n",
      "\n",
      "   [[0 0 0 0]\n",
      "    [0 0 0 0]\n",
      "    [0 0 0 0]\n",
      "    [0 0 0 0]\n",
      "    [0 0 0 0]]\n",
      "\n",
      "   [[0 0 0 0]\n",
      "    [0 0 0 0]\n",
      "    [0 0 0 0]\n",
      "    [0 0 0 0]\n",
      "    [0 0 0 0]]\n",
      "\n",
      "   [[0 0 0 0]\n",
      "    [0 0 0 0]\n",
      "    [0 0 0 0]\n",
      "    [0 0 0 0]\n",
      "    [0 0 0 0]]]\n",
      "\n",
      "\n",
      "  [[[0 0 0 0]\n",
      "    [0 0 0 0]\n",
      "    [0 0 0 0]\n",
      "    [0 0 0 0]\n",
      "    [0 0 0 0]]\n",
      "\n",
      "   [[0 0 0 0]\n",
      "    [0 0 0 0]\n",
      "    [0 0 0 0]\n",
      "    [0 0 0 0]\n",
      "    [0 0 0 0]]\n",
      "\n",
      "   [[0 0 0 0]\n",
      "    [0 0 0 0]\n",
      "    [0 0 0 0]\n",
      "    [0 0 0 0]\n",
      "    [0 0 0 0]]\n",
      "\n",
      "   [[0 0 0 0]\n",
      "    [0 0 0 0]\n",
      "    [0 0 0 0]\n",
      "    [0 0 0 0]\n",
      "    [0 0 0 0]]\n",
      "\n",
      "   [[0 0 0 0]\n",
      "    [0 0 0 0]\n",
      "    [0 0 0 0]\n",
      "    [0 0 0 0]\n",
      "    [0 0 0 0]]]]]\n",
      "5\n",
      "(2, 3, 5, 5, 4)\n",
      "int32\n",
      "4\n",
      "600\n",
      "2400\n"
     ]
    }
   ],
   "source": [
    "#all zeroes int of dim 3\n",
    "b=np.zeros((2,3,5,5,4),dtype='int32')\n",
    "print(b)\n",
    "print(b.ndim)\n",
    "print(b.shape)\n",
    "print(b.dtype)\n",
    "print(b.itemsize)\n",
    "print(b.size) \n",
    "print(b.size*b.itemsize)"
   ]
  },
  {
   "cell_type": "code",
   "execution_count": 20,
   "metadata": {},
   "outputs": [
    {
     "name": "stdout",
     "output_type": "stream",
     "text": [
      "[[[[[1. 1. 1. 1.]\n",
      "    [1. 1. 1. 1.]\n",
      "    [1. 1. 1. 1.]\n",
      "    [1. 1. 1. 1.]\n",
      "    [1. 1. 1. 1.]]\n",
      "\n",
      "   [[1. 1. 1. 1.]\n",
      "    [1. 1. 1. 1.]\n",
      "    [1. 1. 1. 1.]\n",
      "    [1. 1. 1. 1.]\n",
      "    [1. 1. 1. 1.]]\n",
      "\n",
      "   [[1. 1. 1. 1.]\n",
      "    [1. 1. 1. 1.]\n",
      "    [1. 1. 1. 1.]\n",
      "    [1. 1. 1. 1.]\n",
      "    [1. 1. 1. 1.]]\n",
      "\n",
      "   [[1. 1. 1. 1.]\n",
      "    [1. 1. 1. 1.]\n",
      "    [1. 1. 1. 1.]\n",
      "    [1. 1. 1. 1.]\n",
      "    [1. 1. 1. 1.]]\n",
      "\n",
      "   [[1. 1. 1. 1.]\n",
      "    [1. 1. 1. 1.]\n",
      "    [1. 1. 1. 1.]\n",
      "    [1. 1. 1. 1.]\n",
      "    [1. 1. 1. 1.]]]\n",
      "\n",
      "\n",
      "  [[[1. 1. 1. 1.]\n",
      "    [1. 1. 1. 1.]\n",
      "    [1. 1. 1. 1.]\n",
      "    [1. 1. 1. 1.]\n",
      "    [1. 1. 1. 1.]]\n",
      "\n",
      "   [[1. 1. 1. 1.]\n",
      "    [1. 1. 1. 1.]\n",
      "    [1. 1. 1. 1.]\n",
      "    [1. 1. 1. 1.]\n",
      "    [1. 1. 1. 1.]]\n",
      "\n",
      "   [[1. 1. 1. 1.]\n",
      "    [1. 1. 1. 1.]\n",
      "    [1. 1. 1. 1.]\n",
      "    [1. 1. 1. 1.]\n",
      "    [1. 1. 1. 1.]]\n",
      "\n",
      "   [[1. 1. 1. 1.]\n",
      "    [1. 1. 1. 1.]\n",
      "    [1. 1. 1. 1.]\n",
      "    [1. 1. 1. 1.]\n",
      "    [1. 1. 1. 1.]]\n",
      "\n",
      "   [[1. 1. 1. 1.]\n",
      "    [1. 1. 1. 1.]\n",
      "    [1. 1. 1. 1.]\n",
      "    [1. 1. 1. 1.]\n",
      "    [1. 1. 1. 1.]]]\n",
      "\n",
      "\n",
      "  [[[1. 1. 1. 1.]\n",
      "    [1. 1. 1. 1.]\n",
      "    [1. 1. 1. 1.]\n",
      "    [1. 1. 1. 1.]\n",
      "    [1. 1. 1. 1.]]\n",
      "\n",
      "   [[1. 1. 1. 1.]\n",
      "    [1. 1. 1. 1.]\n",
      "    [1. 1. 1. 1.]\n",
      "    [1. 1. 1. 1.]\n",
      "    [1. 1. 1. 1.]]\n",
      "\n",
      "   [[1. 1. 1. 1.]\n",
      "    [1. 1. 1. 1.]\n",
      "    [1. 1. 1. 1.]\n",
      "    [1. 1. 1. 1.]\n",
      "    [1. 1. 1. 1.]]\n",
      "\n",
      "   [[1. 1. 1. 1.]\n",
      "    [1. 1. 1. 1.]\n",
      "    [1. 1. 1. 1.]\n",
      "    [1. 1. 1. 1.]\n",
      "    [1. 1. 1. 1.]]\n",
      "\n",
      "   [[1. 1. 1. 1.]\n",
      "    [1. 1. 1. 1.]\n",
      "    [1. 1. 1. 1.]\n",
      "    [1. 1. 1. 1.]\n",
      "    [1. 1. 1. 1.]]]]\n",
      "\n",
      "\n",
      "\n",
      " [[[[1. 1. 1. 1.]\n",
      "    [1. 1. 1. 1.]\n",
      "    [1. 1. 1. 1.]\n",
      "    [1. 1. 1. 1.]\n",
      "    [1. 1. 1. 1.]]\n",
      "\n",
      "   [[1. 1. 1. 1.]\n",
      "    [1. 1. 1. 1.]\n",
      "    [1. 1. 1. 1.]\n",
      "    [1. 1. 1. 1.]\n",
      "    [1. 1. 1. 1.]]\n",
      "\n",
      "   [[1. 1. 1. 1.]\n",
      "    [1. 1. 1. 1.]\n",
      "    [1. 1. 1. 1.]\n",
      "    [1. 1. 1. 1.]\n",
      "    [1. 1. 1. 1.]]\n",
      "\n",
      "   [[1. 1. 1. 1.]\n",
      "    [1. 1. 1. 1.]\n",
      "    [1. 1. 1. 1.]\n",
      "    [1. 1. 1. 1.]\n",
      "    [1. 1. 1. 1.]]\n",
      "\n",
      "   [[1. 1. 1. 1.]\n",
      "    [1. 1. 1. 1.]\n",
      "    [1. 1. 1. 1.]\n",
      "    [1. 1. 1. 1.]\n",
      "    [1. 1. 1. 1.]]]\n",
      "\n",
      "\n",
      "  [[[1. 1. 1. 1.]\n",
      "    [1. 1. 1. 1.]\n",
      "    [1. 1. 1. 1.]\n",
      "    [1. 1. 1. 1.]\n",
      "    [1. 1. 1. 1.]]\n",
      "\n",
      "   [[1. 1. 1. 1.]\n",
      "    [1. 1. 1. 1.]\n",
      "    [1. 1. 1. 1.]\n",
      "    [1. 1. 1. 1.]\n",
      "    [1. 1. 1. 1.]]\n",
      "\n",
      "   [[1. 1. 1. 1.]\n",
      "    [1. 1. 1. 1.]\n",
      "    [1. 1. 1. 1.]\n",
      "    [1. 1. 1. 1.]\n",
      "    [1. 1. 1. 1.]]\n",
      "\n",
      "   [[1. 1. 1. 1.]\n",
      "    [1. 1. 1. 1.]\n",
      "    [1. 1. 1. 1.]\n",
      "    [1. 1. 1. 1.]\n",
      "    [1. 1. 1. 1.]]\n",
      "\n",
      "   [[1. 1. 1. 1.]\n",
      "    [1. 1. 1. 1.]\n",
      "    [1. 1. 1. 1.]\n",
      "    [1. 1. 1. 1.]\n",
      "    [1. 1. 1. 1.]]]\n",
      "\n",
      "\n",
      "  [[[1. 1. 1. 1.]\n",
      "    [1. 1. 1. 1.]\n",
      "    [1. 1. 1. 1.]\n",
      "    [1. 1. 1. 1.]\n",
      "    [1. 1. 1. 1.]]\n",
      "\n",
      "   [[1. 1. 1. 1.]\n",
      "    [1. 1. 1. 1.]\n",
      "    [1. 1. 1. 1.]\n",
      "    [1. 1. 1. 1.]\n",
      "    [1. 1. 1. 1.]]\n",
      "\n",
      "   [[1. 1. 1. 1.]\n",
      "    [1. 1. 1. 1.]\n",
      "    [1. 1. 1. 1.]\n",
      "    [1. 1. 1. 1.]\n",
      "    [1. 1. 1. 1.]]\n",
      "\n",
      "   [[1. 1. 1. 1.]\n",
      "    [1. 1. 1. 1.]\n",
      "    [1. 1. 1. 1.]\n",
      "    [1. 1. 1. 1.]\n",
      "    [1. 1. 1. 1.]]\n",
      "\n",
      "   [[1. 1. 1. 1.]\n",
      "    [1. 1. 1. 1.]\n",
      "    [1. 1. 1. 1.]\n",
      "    [1. 1. 1. 1.]\n",
      "    [1. 1. 1. 1.]]]]]\n",
      "5\n",
      "(2, 3, 5, 5, 4)\n",
      "float64\n",
      "8\n",
      "600\n",
      "4800\n"
     ]
    }
   ],
   "source": [
    "#all zeroes int of dim 3\n",
    "b=np.ones((2,3,5,5,4))\n",
    "print(b)\n",
    "print(b.ndim)\n",
    "print(b.shape)\n",
    "print(b.dtype)\n",
    "print(b.itemsize)\n",
    "print(b.size) \n",
    "print(b.size*b.itemsize)"
   ]
  },
  {
   "cell_type": "code",
   "execution_count": 21,
   "metadata": {},
   "outputs": [
    {
     "name": "stdout",
     "output_type": "stream",
     "text": [
      "[[[99. 99. 99. 99. 99.]\n",
      "  [99. 99. 99. 99. 99.]\n",
      "  [99. 99. 99. 99. 99.]]\n",
      "\n",
      " [[99. 99. 99. 99. 99.]\n",
      "  [99. 99. 99. 99. 99.]\n",
      "  [99. 99. 99. 99. 99.]]]\n",
      "3\n",
      "(2, 3, 5)\n",
      "float32\n",
      "4\n",
      "30\n",
      "120\n"
     ]
    }
   ],
   "source": [
    "#any other number fill up\n",
    "b=np.full((2,3,5),99,dtype='float32')\n",
    "print(b)\n",
    "print(b.ndim)\n",
    "print(b.shape)\n",
    "print(b.dtype)\n",
    "print(b.itemsize)\n",
    "print(b.size) \n",
    "print(b.size*b.itemsize)"
   ]
  },
  {
   "cell_type": "code",
   "execution_count": 22,
   "metadata": {},
   "outputs": [
    {
     "name": "stdout",
     "output_type": "stream",
     "text": [
      "[[4 4 4 4 4 4 4]\n",
      " [4 4 4 4 4 4 4]]\n",
      "2\n",
      "(2, 7)\n",
      "int32\n",
      "4\n",
      "14\n",
      "56\n"
     ]
    }
   ],
   "source": [
    "#full like the array _ with the value _\n",
    "a=np.array([[1,2,3,4,5,6,7],[8,9,10,11,12,13,14]])\n",
    "b=np.full_like(a,4)\n",
    "print(b)\n",
    "print(b.ndim)\n",
    "print(b.shape)\n",
    "print(b.dtype)\n",
    "print(b.itemsize)\n",
    "print(b.size) \n",
    "print(b.size*b.itemsize)"
   ]
  },
  {
   "cell_type": "code",
   "execution_count": 23,
   "metadata": {},
   "outputs": [
    {
     "name": "stdout",
     "output_type": "stream",
     "text": [
      "[[[0.51528065 0.9255182  0.04813271]\n",
      "  [0.87488143 0.2634462  0.5814843 ]]\n",
      "\n",
      " [[0.94645985 0.40554485 0.60303933]\n",
      "  [0.47671789 0.06732278 0.04303139]]\n",
      "\n",
      " [[0.62867361 0.78332798 0.18267772]\n",
      "  [0.74307751 0.63267074 0.80818916]]\n",
      "\n",
      " [[0.51631923 0.73851276 0.03569057]\n",
      "  [0.23116391 0.10636707 0.93301696]]]\n",
      "3\n",
      "(4, 2, 3)\n",
      "float64\n",
      "8\n",
      "24\n",
      "192\n"
     ]
    }
   ],
   "source": [
    "#random decimal numbers fills with shape->(shape)\n",
    "b=np.random.rand(4,2,3)\n",
    "print(b)\n",
    "print(b.ndim)\n",
    "print(b.shape)\n",
    "print(b.dtype)\n",
    "print(b.itemsize)\n",
    "print(b.size) \n",
    "print(b.size*b.itemsize)"
   ]
  },
  {
   "cell_type": "code",
   "execution_count": 24,
   "metadata": {},
   "outputs": [
    {
     "name": "stdout",
     "output_type": "stream",
     "text": [
      "[[0.95579557 0.14483379 0.2473039  0.0459653  0.71894631 0.60931345\n",
      "  0.98735645]\n",
      " [0.2472207  0.72315301 0.96884149 0.46132605 0.85676567 0.78434629\n",
      "  0.13145831]]\n",
      "2\n",
      "(2, 7)\n",
      "float64\n",
      "8\n",
      "14\n",
      "112\n"
     ]
    }
   ],
   "source": [
    "#random decimal numbers fills with shape->(anpther_array.shape)\n",
    "a=np.array([[1,2,3,4,5,6,7],[8,9,10,11,12,13,14]])\n",
    "b=np.random.random_sample(a.shape)\n",
    "print(b)\n",
    "print(b.ndim)\n",
    "print(b.shape)\n",
    "print(b.dtype)\n",
    "print(b.itemsize)\n",
    "print(b.size) \n",
    "print(b.size*b.itemsize)"
   ]
  },
  {
   "cell_type": "code",
   "execution_count": 25,
   "metadata": {},
   "outputs": [
    {
     "name": "stdout",
     "output_type": "stream",
     "text": [
      "[[[ -5   6]\n",
      "  [ -2  -6]\n",
      "  [ -5  -2]]\n",
      "\n",
      " [[ -9 -10]\n",
      "  [  7  -4]\n",
      "  [-10   7]]]\n",
      "3\n",
      "(2, 3, 2)\n",
      "int32\n",
      "4\n",
      "12\n",
      "48\n"
     ]
    }
   ],
   "source": [
    "### starting by default 0\n",
    "##(start,end_excluding,size)\n",
    "b=np.random.randint(-10,10,size=(2,3,2))\n",
    "print(b)\n",
    "print(b.ndim)\n",
    "print(b.shape)\n",
    "print(b.dtype)\n",
    "print(b.itemsize)\n",
    "print(b.size) \n",
    "print(b.size*b.itemsize)"
   ]
  },
  {
   "cell_type": "code",
   "execution_count": 26,
   "metadata": {},
   "outputs": [
    {
     "name": "stdout",
     "output_type": "stream",
     "text": [
      "[[-8  5  8 -9 -4  3  8]\n",
      " [ 9  8  4 -1 -9 -9  0]]\n",
      "2\n",
      "(2, 7)\n",
      "int32\n",
      "4\n",
      "14\n",
      "56\n"
     ]
    }
   ],
   "source": [
    "### starting by default 0\n",
    "##(start,end_excluding,size==shape of a)\n",
    "a=np.array([[1,2,3,4,5,6,7],[8,9,10,11,12,13,14]])\n",
    "b=np.random.randint(-10,10,size=a.shape)\n",
    "print(b)\n",
    "print(b.ndim)\n",
    "print(b.shape)\n",
    "print(b.dtype)\n",
    "print(b.itemsize)\n",
    "print(b.size) \n",
    "print(b.size*b.itemsize)"
   ]
  },
  {
   "cell_type": "code",
   "execution_count": 27,
   "metadata": {},
   "outputs": [
    {
     "name": "stdout",
     "output_type": "stream",
     "text": [
      "[[1 0 0 0 0]\n",
      " [0 1 0 0 0]\n",
      " [0 0 1 0 0]\n",
      " [0 0 0 1 0]\n",
      " [0 0 0 0 1]]\n",
      "2\n",
      "(5, 5)\n",
      "int32\n",
      "4\n",
      "25\n",
      "100\n"
     ]
    }
   ],
   "source": [
    "#identity matrix\n",
    "b=np.identity(5,dtype='int32') ## by default float\n",
    "print(b)\n",
    "print(b.ndim)\n",
    "print(b.shape)\n",
    "print(b.dtype)\n",
    "print(b.itemsize)\n",
    "print(b.size) \n",
    "print(b.size*b.itemsize)"
   ]
  },
  {
   "cell_type": "code",
   "execution_count": 28,
   "metadata": {},
   "outputs": [
    {
     "name": "stdout",
     "output_type": "stream",
     "text": [
      "[[1 2 3]\n",
      " [4 5 6]]\n",
      "2\n",
      "[[1 2 3]\n",
      " [1 2 3]\n",
      " [1 2 3]\n",
      " [4 5 6]\n",
      " [4 5 6]\n",
      " [4 5 6]]\n",
      "[[1 1 1 2 2 2 3 3 3]\n",
      " [4 4 4 5 5 5 6 6 6]]\n"
     ]
    }
   ],
   "source": [
    "### repetation\n",
    "a=np.array([[1,2,3],[4,5,6]])\n",
    "print(a)\n",
    "print(a.ndim)\n",
    "repeat_row=np.repeat(a,3,axis=0) #(array,repeat times,axis=0(row))\n",
    "repeat_column=np.repeat(a,3,axis=1) #(array,repeat times,axis=1(column))\n",
    "print(repeat_row)\n",
    "print(repeat_column)"
   ]
  },
  {
   "cell_type": "markdown",
   "metadata": {},
   "source": [
    "# Example 1"
   ]
  },
  {
   "cell_type": "code",
   "execution_count": 29,
   "metadata": {},
   "outputs": [
    {
     "data": {
      "text/plain": [
       "'\\n    11111\\n    10001\\n    10901\\n    10001\\n    11111\\n'"
      ]
     },
     "execution_count": 29,
     "metadata": {},
     "output_type": "execute_result"
    }
   ],
   "source": [
    "'''\n",
    "    11111\n",
    "    10001\n",
    "    10901\n",
    "    10001\n",
    "    11111\n",
    "'''"
   ]
  },
  {
   "cell_type": "code",
   "execution_count": 30,
   "metadata": {},
   "outputs": [
    {
     "name": "stdout",
     "output_type": "stream",
     "text": [
      "[[1 1 1 1 1]\n",
      " [1 0 0 0 1]\n",
      " [1 0 9 0 1]\n",
      " [1 0 0 0 1]\n",
      " [1 1 1 1 1]]\n"
     ]
    }
   ],
   "source": [
    "out=np.ones((5,5),dtype='int32')\n",
    "middle=np.zeros((3,3),dtype='int32')\n",
    "middle[1,1]=9\n",
    "out[1:4,1:4]=middle\n",
    "print(out)"
   ]
  },
  {
   "cell_type": "markdown",
   "metadata": {},
   "source": [
    "# BE careful###"
   ]
  },
  {
   "cell_type": "code",
   "execution_count": 31,
   "metadata": {
    "scrolled": true
   },
   "outputs": [
    {
     "name": "stdout",
     "output_type": "stream",
     "text": [
      "[100   2   3]\n",
      "[100   2   3]\n"
     ]
    }
   ],
   "source": [
    "a=np.array([1,2,3])\n",
    "b=a   ##### because b is a reference to a ***\n",
    "###now change in b reflects to a\n",
    "b[0]=100\n",
    "print(b)\n",
    "print(a) ### a should not be changed #but a got changed"
   ]
  },
  {
   "cell_type": "code",
   "execution_count": 32,
   "metadata": {},
   "outputs": [
    {
     "name": "stdout",
     "output_type": "stream",
     "text": [
      "[100   2   3]\n",
      "[1 2 3]\n"
     ]
    }
   ],
   "source": [
    "a=np.array([1,2,3])\n",
    "b=a.copy() ### thats the correct way\n",
    "b[0]=100 ## it will not be reflected to a\n",
    "print(b)\n",
    "print(a)"
   ]
  },
  {
   "cell_type": "markdown",
   "metadata": {},
   "source": [
    "# Mathematics"
   ]
  },
  {
   "cell_type": "code",
   "execution_count": 33,
   "metadata": {},
   "outputs": [],
   "source": [
    "### Element wise ##\n",
    "a=np.array([1,2,3,4])\n",
    "b=np.array([5,6,7,8])"
   ]
  },
  {
   "cell_type": "code",
   "execution_count": 34,
   "metadata": {},
   "outputs": [
    {
     "name": "stdout",
     "output_type": "stream",
     "text": [
      "[3 4 5 6]\n",
      "[2 4 6 8]\n",
      "[-1  0  1  2]\n",
      "[0.5 1.  1.5 2. ]\n",
      "[1 0 1 0]\n",
      "[ 1  4  9 16]\n"
     ]
    }
   ],
   "source": [
    "#### not permanent ####\n",
    "## array opp constant\n",
    "print(a+2)\n",
    "print(a*2)\n",
    "print(a-2)\n",
    "print(a/2)\n",
    "print(a%2)\n",
    "print(a**2)"
   ]
  },
  {
   "cell_type": "code",
   "execution_count": 35,
   "metadata": {},
   "outputs": [
    {
     "name": "stdout",
     "output_type": "stream",
     "text": [
      "[ 6  8 10 12]\n",
      "[ 5 12 21 32]\n",
      "[-4 -4 -4 -4]\n",
      "[0.2        0.33333333 0.42857143 0.5       ]\n",
      "[1 2 3 4]\n",
      "[    1    64  2187 65536]\n"
     ]
    }
   ],
   "source": [
    "#### not permanent ####\n",
    "#### array opp array\n",
    "print(a+b)\n",
    "print(a*b)\n",
    "print(a-b)\n",
    "print(a/b)\n",
    "print(a%b)\n",
    "print(a**b)"
   ]
  },
  {
   "cell_type": "code",
   "execution_count": 36,
   "metadata": {},
   "outputs": [
    {
     "name": "stdout",
     "output_type": "stream",
     "text": [
      "[ 0.84147098  0.90929743  0.14112001 -0.7568025 ]\n"
     ]
    }
   ],
   "source": [
    "# For a lot more (https://docs.scipy.org/doc/numpy/reference/routines.math.html)\n",
    "print(np.sin(a))"
   ]
  },
  {
   "cell_type": "markdown",
   "metadata": {},
   "source": [
    "# Linear alzebra"
   ]
  },
  {
   "cell_type": "code",
   "execution_count": 37,
   "metadata": {},
   "outputs": [],
   "source": [
    "## Reference docs (https://docs.scipy.org/doc/numpy/reference/routines.linalg.html)\n",
    "\n",
    "# Determinant\n",
    "# Trace\n",
    "# Singular Vector Decomposition\n",
    "# Eigenvalues\n",
    "# Matrix Norm\n",
    "# Inverse\n",
    "# Etc..."
   ]
  },
  {
   "cell_type": "code",
   "execution_count": 38,
   "metadata": {},
   "outputs": [
    {
     "name": "stdout",
     "output_type": "stream",
     "text": [
      "[[6. 6.]\n",
      " [6. 6.]]\n"
     ]
    }
   ],
   "source": [
    "#### matrix mult\n",
    "a=np.ones((2,3))\n",
    "b=np.full((3,2),2)\n",
    "print(np.matmul(a,b))"
   ]
  },
  {
   "cell_type": "code",
   "execution_count": 39,
   "metadata": {},
   "outputs": [
    {
     "name": "stdout",
     "output_type": "stream",
     "text": [
      "1.0\n"
     ]
    }
   ],
   "source": [
    "####determinant\n",
    "c=np.identity(3)\n",
    "###print(np.linalg.det(a)) <<- need square matrix to do det\n",
    "##print(np.linalg.det(b)) <<- need square matrix to do det\n",
    "print(np.linalg.det(c))"
   ]
  },
  {
   "cell_type": "markdown",
   "metadata": {},
   "source": [
    "# Statistics"
   ]
  },
  {
   "cell_type": "code",
   "execution_count": 40,
   "metadata": {},
   "outputs": [
    {
     "name": "stdout",
     "output_type": "stream",
     "text": [
      "mean 3.5\n",
      "min 1\n",
      "max 6\n",
      "sum 21\n"
     ]
    }
   ],
   "source": [
    "a=np.array([[1,2,3],[4,5,6]]) \n",
    "\n",
    "print(\"mean {}\".format(a.mean()))  ### or np.mean(a)\n",
    "print(\"min {}\".format(a.min())) ## or np.min(a)\n",
    "print(\"max {}\".format(a.max())) ## or np.max(a)\n",
    "print(\"sum {}\".format(a.sum())) ## or np.sum(a)"
   ]
  },
  {
   "cell_type": "code",
   "execution_count": 41,
   "metadata": {},
   "outputs": [
    {
     "name": "stdout",
     "output_type": "stream",
     "text": [
      "mean [2. 5.]\n",
      "min [1 4]\n",
      "max [3 6]\n",
      "sum [ 6 15]\n",
      "mean [2.5 3.5 4.5]\n",
      "min [1 2 3]\n",
      "max [4 5 6]\n",
      "sum [5 7 9]\n"
     ]
    }
   ],
   "source": [
    "### row wise ### axis=1\n",
    "print(\"mean {}\".format(a.mean(axis=1)))  ### or np.mean(a,axis=1)\n",
    "print(\"min {}\".format(a.min(axis=1))) ## or np.min(a,axis=1)\n",
    "print(\"max {}\".format(a.max(axis=1))) ## or np.max(a,axis=1)\n",
    "print(\"sum {}\".format(a.sum(axis=1))) ## or np.sum(a,axis=1)\n",
    "### column wise ### axis=0\n",
    "print(\"mean {}\".format(a.mean(axis=0)))  ### or np.mean(a,axis=0)\n",
    "print(\"min {}\".format(a.min(axis=0))) ## or np.min(a,axis=0)\n",
    "print(\"max {}\".format(a.max(axis=0))) ## or np.max(a,axis=0)\n",
    "print(\"sum {}\".format(a.sum(axis=0))) ## or np.sum(a,axis=0)"
   ]
  },
  {
   "cell_type": "markdown",
   "metadata": {},
   "source": [
    "# Reorganizing"
   ]
  },
  {
   "cell_type": "code",
   "execution_count": 42,
   "metadata": {},
   "outputs": [
    {
     "name": "stdout",
     "output_type": "stream",
     "text": [
      "[[1 2 3 4]\n",
      " [5 6 7 8]]\n",
      "[[1]\n",
      " [2]\n",
      " [3]\n",
      " [4]\n",
      " [5]\n",
      " [6]\n",
      " [7]\n",
      " [8]]\n"
     ]
    }
   ],
   "source": [
    "#reshaping ### arr1(a,b,c)->reshaped(p,q) then a*b*c==p*q\n",
    "a=np.array([[1,2,3,4],[5,6,7,8]])\n",
    "print(a)\n",
    "b=np.reshape(a,(8,1)) ## a.reshape((8,1))\n",
    "print(b)"
   ]
  },
  {
   "cell_type": "code",
   "execution_count": 43,
   "metadata": {},
   "outputs": [
    {
     "name": "stdout",
     "output_type": "stream",
     "text": [
      "[[1 2 3 4]\n",
      " [5 6 7 8]\n",
      " [1 2 3 4]\n",
      " [5 6 7 8]\n",
      " [1 2 3 4]\n",
      " [5 6 7 8]]\n"
     ]
    }
   ],
   "source": [
    "### vertically stacking\n",
    "v1=np.array([1,2,3,4])\n",
    "v2=np.array([5,6,7,8])\n",
    "print(np.vstack([v1,v2,v1,v2,v1,v2]))\n",
    "#print(np.vstack([v2,v1]))"
   ]
  },
  {
   "cell_type": "code",
   "execution_count": 44,
   "metadata": {},
   "outputs": [
    {
     "name": "stdout",
     "output_type": "stream",
     "text": [
      "[[1. 1. 1. 1.]\n",
      " [1. 1. 1. 1.]]\n",
      "[[0. 0.]\n",
      " [0. 0.]]\n",
      "[[1. 1. 1. 1. 0. 0. 1. 1. 1. 1. 0. 0.]\n",
      " [1. 1. 1. 1. 0. 0. 1. 1. 1. 1. 0. 0.]]\n"
     ]
    }
   ],
   "source": [
    "#horaizontal stacking\n",
    "h1=np.ones((2,4))\n",
    "h2=np.zeros((2,2))\n",
    "print(h1)\n",
    "print(h2)\n",
    "print(np.hstack([h1,h2,h1,h2])) ## () also allowed"
   ]
  },
  {
   "cell_type": "markdown",
   "metadata": {},
   "source": [
    "# Miscellaneous"
   ]
  },
  {
   "cell_type": "markdown",
   "metadata": {},
   "source": [
    "# loading data from file"
   ]
  },
  {
   "cell_type": "code",
   "execution_count": 45,
   "metadata": {},
   "outputs": [
    {
     "name": "stdout",
     "output_type": "stream",
     "text": [
      "[[  1  13  21  11 196  75   4   3  34   6   7   8   0   1   2   3   4   5]\n",
      " [  3  42  12  33 766  75   4  55   6   4   3   4   5   6   7   0  11  12]\n",
      " [  1  22  33  11 999  11   2   1  78   0   1   2   9   8   7   1  76  88]]\n"
     ]
    }
   ],
   "source": [
    "filedata=np.genfromtxt('data.txt',delimiter=',')\n",
    "filedata=filedata.astype('int32') ## other wise not permanent\n",
    "print(filedata)"
   ]
  },
  {
   "cell_type": "markdown",
   "metadata": {},
   "source": [
    "# Boolean Masking and Advanced Indexing"
   ]
  },
  {
   "cell_type": "code",
   "execution_count": 46,
   "metadata": {},
   "outputs": [
    {
     "data": {
      "text/plain": [
       "array([[False, False, False, False,  True,  True, False, False, False,\n",
       "        False, False, False, False, False, False, False, False, False],\n",
       "       [False, False, False, False,  True,  True, False,  True, False,\n",
       "        False, False, False, False, False, False, False, False, False],\n",
       "       [False, False, False, False,  True, False, False, False,  True,\n",
       "        False, False, False, False, False, False, False,  True,  True]])"
      ]
     },
     "execution_count": 46,
     "metadata": {},
     "output_type": "execute_result"
    }
   ],
   "source": [
    "### returns true or false\n",
    "filedata>50"
   ]
  },
  {
   "cell_type": "code",
   "execution_count": 47,
   "metadata": {},
   "outputs": [
    {
     "data": {
      "text/plain": [
       "array([196,  75, 766,  75,  55, 999,  78,  76,  88])"
      ]
     },
     "execution_count": 47,
     "metadata": {},
     "output_type": "execute_result"
    }
   ],
   "source": [
    "### return values\n",
    "filedata[filedata>50]"
   ]
  },
  {
   "cell_type": "code",
   "execution_count": 48,
   "metadata": {},
   "outputs": [
    {
     "name": "stdout",
     "output_type": "stream",
     "text": [
      "[2 3 9]\n"
     ]
    }
   ],
   "source": [
    "### passing indexes in list format and getting values\n",
    "a=np.array([1,2,3,4,5,6,7,8,9])\n",
    "print(a[[1,2,8]]) ### [index list] --returns--> values"
   ]
  },
  {
   "cell_type": "code",
   "execution_count": 49,
   "metadata": {},
   "outputs": [
    {
     "name": "stdout",
     "output_type": "stream",
     "text": [
      "[1 3 8]\n"
     ]
    }
   ],
   "source": [
    "#### array[[layer indeces],[row indices],[column indices]]\n",
    "b=np.array([[1,2,3,4],[5,6,7,8]])\n",
    "print(b[[0,0,1],[0,2,3]])"
   ]
  },
  {
   "cell_type": "code",
   "execution_count": 50,
   "metadata": {},
   "outputs": [
    {
     "data": {
      "text/plain": [
       "array([False, False, False, False, False,  True, False,  True,  True,\n",
       "       False, False, False, False, False, False, False,  True,  True])"
      ]
     },
     "execution_count": 50,
     "metadata": {},
     "output_type": "execute_result"
    }
   ],
   "source": [
    "### which column contains any value >50 is true\n",
    "np.any((filedata>50) & (filedata<100),axis=0)"
   ]
  },
  {
   "cell_type": "code",
   "execution_count": 51,
   "metadata": {},
   "outputs": [
    {
     "data": {
      "text/plain": [
       "array([False, False, False, False, False, False, False, False, False,\n",
       "       False, False, False, False, False, False, False, False, False])"
      ]
     },
     "execution_count": 51,
     "metadata": {},
     "output_type": "execute_result"
    }
   ],
   "source": [
    "### which column contains any value >50 is true\n",
    "np.all((filedata>50) & (filedata<100),axis=0)"
   ]
  },
  {
   "cell_type": "code",
   "execution_count": 52,
   "metadata": {},
   "outputs": [
    {
     "data": {
      "text/plain": [
       "array([ True,  True,  True])"
      ]
     },
     "execution_count": 52,
     "metadata": {},
     "output_type": "execute_result"
    }
   ],
   "source": [
    "### which row contains any value >50 is true\n",
    "np.any((filedata>50) & (filedata<100),axis=1)"
   ]
  },
  {
   "cell_type": "code",
   "execution_count": 53,
   "metadata": {},
   "outputs": [
    {
     "data": {
      "text/plain": [
       "array([False, False, False])"
      ]
     },
     "execution_count": 53,
     "metadata": {},
     "output_type": "execute_result"
    }
   ],
   "source": [
    "### which row contains all value >50 is true\n",
    "np.all((filedata>50) & (filedata<100),axis=1)"
   ]
  },
  {
   "cell_type": "code",
   "execution_count": 54,
   "metadata": {},
   "outputs": [
    {
     "data": {
      "text/plain": [
       "array([[ True,  True,  True,  True,  True, False,  True,  True,  True,\n",
       "         True,  True,  True,  True,  True,  True,  True,  True,  True],\n",
       "       [ True,  True,  True,  True,  True, False,  True, False,  True,\n",
       "         True,  True,  True,  True,  True,  True,  True,  True,  True],\n",
       "       [ True,  True,  True,  True,  True,  True,  True,  True, False,\n",
       "         True,  True,  True,  True,  True,  True,  True, False, False]])"
      ]
     },
     "execution_count": 54,
     "metadata": {},
     "output_type": "execute_result"
    }
   ],
   "source": [
    "### negation of condition\n",
    "~((filedata>50) & (filedata<100))"
   ]
  },
  {
   "cell_type": "markdown",
   "metadata": {},
   "source": [
    "# Example 2"
   ]
  },
  {
   "cell_type": "code",
   "execution_count": 55,
   "metadata": {},
   "outputs": [
    {
     "data": {
      "text/plain": [
       "array([[ 1,  2,  3,  4,  5],\n",
       "       [ 6,  7,  8,  9, 10],\n",
       "       [11, 12, 13, 14, 15],\n",
       "       [16, 17, 18, 19, 20],\n",
       "       [21, 22, 23, 24, 25],\n",
       "       [26, 27, 28, 29, 30]])"
      ]
     },
     "execution_count": 55,
     "metadata": {},
     "output_type": "execute_result"
    }
   ],
   "source": [
    "a=np.array([\n",
    "    [1,2,3,4,5],\n",
    "    [6,7,8,9,10],\n",
    "    [11,12,13,14,15],\n",
    "    [16,17,18,19,20],\n",
    "    [21,22,23,24,25],\n",
    "    [26,27,28,29,30]\n",
    "])\n",
    "a"
   ]
  },
  {
   "cell_type": "code",
   "execution_count": 56,
   "metadata": {},
   "outputs": [
    {
     "name": "stdout",
     "output_type": "stream",
     "text": [
      "[[11 12 13]\n",
      " [16 17 18]]\n"
     ]
    }
   ],
   "source": [
    "print(a[2:4,0:3]) ## 20 21 22 30 31 32\n",
    "# R   C\n",
    "# 2   [0,1,2]\n",
    "# 3   [0,1,2]"
   ]
  },
  {
   "cell_type": "code",
   "execution_count": 57,
   "metadata": {},
   "outputs": [
    {
     "name": "stdout",
     "output_type": "stream",
     "text": [
      "[ 2  8 14 20]\n"
     ]
    }
   ],
   "source": [
    "### one to one \n",
    "print(a[[0,1,2,3],[1,2,3,4]]) ##arr[[row indeces],[column indeces]]\n",
    "### OR print(a[(0,1,2,3),(1,2,3,4)])## 01,12,23,34\n",
    "# R   C\n",
    "# 0   1\n",
    "# 1   2\n",
    "# 2   3\n",
    "# 3   4"
   ]
  },
  {
   "cell_type": "code",
   "execution_count": 62,
   "metadata": {},
   "outputs": [
    {
     "name": "stdout",
     "output_type": "stream",
     "text": [
      "[[ 4  5]\n",
      " [24 25]\n",
      " [29 30]]\n"
     ]
    }
   ],
   "source": [
    "print(a[[0,4,5],3:]) ##03 04 43 44 53 54\n",
    "# R   C\n",
    "# 0   [3,4]\n",
    "# 4   [3,4]\n",
    "# 5   [3,4]\n"
   ]
  },
  {
   "cell_type": "code",
   "execution_count": 60,
   "metadata": {},
   "outputs": [
    {
     "name": "stdout",
     "output_type": "stream",
     "text": [
      "[[ 2  3]\n",
      " [ 7  8]\n",
      " [12 13]]\n"
     ]
    }
   ],
   "source": [
    "print(a[0:3,[1,2]]) ## 01 02 11 12 21 22\n",
    "# R   C\n",
    "# 0   [1,2]\n",
    "# 1   [1,2]\n",
    "# 2   [1,2]"
   ]
  },
  {
   "cell_type": "code",
   "execution_count": null,
   "metadata": {},
   "outputs": [],
   "source": []
  }
 ],
 "metadata": {
  "kernelspec": {
   "display_name": "Python 3",
   "language": "python",
   "name": "python3"
  },
  "language_info": {
   "codemirror_mode": {
    "name": "ipython",
    "version": 3
   },
   "file_extension": ".py",
   "mimetype": "text/x-python",
   "name": "python",
   "nbconvert_exporter": "python",
   "pygments_lexer": "ipython3",
   "version": "3.7.3"
  }
 },
 "nbformat": 4,
 "nbformat_minor": 2
}
