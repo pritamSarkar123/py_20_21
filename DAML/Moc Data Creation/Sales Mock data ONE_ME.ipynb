{
 "cells": [
  {
   "cell_type": "markdown",
   "metadata": {},
   "source": [
    "# Learnt From"
   ]
  },
  {
   "cell_type": "code",
   "execution_count": 1,
   "metadata": {},
   "outputs": [],
   "source": [
    "## https://youtu.be/VJBY2eVtf7o?list=PLuueT5PsexC99xgXJh62KO-J1wMt1kQ9j"
   ]
  },
  {
   "cell_type": "markdown",
   "metadata": {},
   "source": [
    "# Comments about the data"
   ]
  },
  {
   "cell_type": "code",
   "execution_count": 68,
   "metadata": {},
   "outputs": [],
   "source": [
    "######## more wight more sell\n",
    "######## less price more sell\n",
    "######## most selling month dec then nov then other\n",
    "######## order id should be synchronized through all months\n",
    "####time-> peek around noon and 8pm , other wise circle arount those other times\n",
    "##### quantity ordered depends on price ## geometric distribution\n",
    "########random address needed but some places buys more stuffs"
   ]
  },
  {
   "cell_type": "markdown",
   "metadata": {},
   "source": [
    "# Script"
   ]
  },
  {
   "cell_type": "code",
   "execution_count": 69,
   "metadata": {},
   "outputs": [],
   "source": [
    "import pandas as pd\n",
    "import numpy \n",
    "import datetime\n",
    "import random\n",
    "import calendar"
   ]
  },
  {
   "cell_type": "code",
   "execution_count": 70,
   "metadata": {},
   "outputs": [],
   "source": [
    "#columns for the dataset\n",
    "columns = ['Order ID', 'Product', 'Quantity Ordered', 'Price Each', 'Order Date', 'Purchase Address']"
   ]
  },
  {
   "cell_type": "code",
   "execution_count": 71,
   "metadata": {},
   "outputs": [],
   "source": [
    "## product to price and weight dictionary\n",
    "##### products[key][1]-> weight\n",
    "##### products[key][0]-> value\n",
    "######## more wight more sell\n",
    "######## less price more sell\n",
    "products = {\n",
    "  'iPhone': [700, 10],\n",
    "  'Google Phone': [600, 8],\n",
    "  'Vareebadd Phone': [400, 3],\n",
    "  '20in Monitor': [109.99,6],\n",
    "  '34in Ultrawide Monitor': [379.99, 9],\n",
    "  '27in 4K Gaming Monitor': [389.99,9],\n",
    "  '27in FHD Monitor': [149.99, 11],\n",
    "  'Flatscreen TV': [300, 7],\n",
    "  'Macbook Pro Laptop': [1700, 7],\n",
    "  'ThinkPad Laptop': [999.99, 6],\n",
    "  'AA Batteries (4-pack)': [3.84, 30],\n",
    "  'AAA Batteries (4-pack)': [2.99, 30],\n",
    "  'USB-C Charging Cable': [11.95, 30],\n",
    "  'Lightning Charging Cable': [14.95, 30],\n",
    "  'Wired Headphones': [11.99, 26],\n",
    "  'Bose SoundSport Headphones': [99.99, 19],\n",
    "  'Apple Airpods Headphones': [150, 22],\n",
    "  'LG Washing Machine': [600.00, 1],\n",
    "  'LG Dryer': [600.00, 1]\n",
    "}\n",
    "product_list=[product for product in products.keys()]\n",
    "weights=[value[1] for value in products.values()]"
   ]
  },
  {
   "cell_type": "code",
   "execution_count": 72,
   "metadata": {},
   "outputs": [],
   "source": [
    "def generate_random_address():\n",
    "  street_names=['Main','2nd','1st','4th','5th','Park','6th','7th','Maple','Pine','Washington','8th','Cedar','Elm','Walnut','9th','10th','Lake','Sunset','Lincoln','Jackson','Church','River','11th','Willow','Jefferson','Center','12th','North','Lakeview','Ridge','Hickory','Adams','Cherry','Highland','Johnson','South','Dogwood','West','Chestnut','13th','Spruce','14th','Wilson','Meadow','Forest','Hill','Madison']\n",
    "  cities = ['San Francisco','Boston','New York City','Austin','Dallas','Atlanta','Portland','Portland','Los Angeles','Seattle']\n",
    "  weights = [9,4,5,2,3,3,2,0.5,6,3] ## not completely random\n",
    "            ## random but weighted\n",
    "  zips=['94016', '02215', '10001', '73301', '75001', '30301', '97035', '04101', '90001', '98101']\n",
    "  state = ['CA', 'MA', 'NY', 'TX', 'TX', 'GA', 'OR', 'ME', 'CA', 'WA']\n",
    "\n",
    "  street = random.choice(street_names) ## completely random\n",
    "  index = random.choices(range(len(cities)), weights=weights)[0]\n",
    "    ## random index for->cities,state and zips\n",
    "    ## street no completely random\n",
    "  return f\"{random.randint(1,999)} {street} St, {cities[index]}, {state[index]} {zips[index]}\""
   ]
  },
  {
   "cell_type": "code",
   "execution_count": 73,
   "metadata": {},
   "outputs": [],
   "source": [
    "def generate_random_day(month):\n",
    "    day_range = calendar.monthrange(2019,month)[1]\n",
    "    return random.randint(1,day_range)"
   ]
  },
  {
   "cell_type": "code",
   "execution_count": 74,
   "metadata": {},
   "outputs": [],
   "source": [
    "def generate_random_time(month):\n",
    "    ## mm/dd/year H:m ## no of days-> calander lib-> [1]\n",
    "    ## timedelta helps to fluctuate around the peek time\n",
    "    day = generate_random_day(month)\n",
    "    if random.random() < 0.5: ### random.random-->0 to 1\n",
    "        date = datetime.datetime(2019, month, day,12,00)\n",
    "        ####### peek at noon\n",
    "    else:\n",
    "        date = datetime.datetime(2019, month, day,20,00)\n",
    "        ##### peek at 8 pm\n",
    "    time_offset = numpy.random.normal(loc=0.0, scale=180)\n",
    "    ####time offset random value,mean=0, std=3 hr/180min\n",
    "    final_date = date + datetime.timedelta(minutes=time_offset)\n",
    "    ######### time delta creates time fluctuation(minute based) around 8pm and 12 noon \n",
    "    ####using variable choosen from normal distribution\n",
    "    ###### string format time \n",
    "    return final_date.strftime(\"%m/%d/%y %H:%M\")"
   ]
  },
  {
   "cell_type": "code",
   "execution_count": 75,
   "metadata": {},
   "outputs": [],
   "source": [
    "def write_row(order_number, product, order_date, address):\n",
    "    ####### add quantity based on geometric distribution\n",
    "    ######### also price\n",
    "    price=products[product][0]\n",
    "    quantity=numpy.random.geometric(p=1.0-(1.0/price),size=1)[0]## size=1 means one iteration\n",
    "    output = [order_number, product, quantity, price, order_date, address]\n",
    "    return output\n"
   ]
  },
  {
   "cell_type": "code",
   "execution_count": 76,
   "metadata": {},
   "outputs": [
    {
     "name": "stdout",
     "output_type": "stream",
     "text": [
      "January completed!\n",
      "February completed!\n",
      "March completed!\n",
      "April completed!\n",
      "May completed!\n",
      "June completed!\n",
      "July completed!\n",
      "August completed!\n",
      "September completed!\n",
      "October completed!\n",
      "November completed!\n",
      "December completed!\n"
     ]
    }
   ],
   "source": [
    "if __name__=='__main__':\n",
    "    for month_value in range(1,13):## for all month\n",
    "        order_number=143253 ## synchronizes order id\n",
    "        ## most selling month dec then nov then other\n",
    "        ## loc->mean scale->standard deviation\n",
    "        if month_value==12:\n",
    "            order_amount = int(numpy.random.normal(loc=26000, scale=3000))\n",
    "        if month_value==11:\n",
    "            order_amount=int(numpy.random.normal(loc=20000, scale=3000))\n",
    "        if month_value<=10:\n",
    "            order_amount=int(numpy.random.normal(loc=12000,scale=4000))\n",
    "\n",
    "        df=pd.DataFrame(columns=columns)## empty before all months\n",
    "        i=0\n",
    "        while order_amount>0:\n",
    "            address=generate_random_address()\n",
    "            order_date=generate_random_time(month_value)\n",
    "            ## not completely random biased on weights\n",
    "            ## 0 th values of list\n",
    "            product_choice=random.choices(product_list,weights=weights)[0]\n",
    "            df.loc[i]=write_row(order_number, product_choice,order_date, address)## price and quantity will be added here\n",
    "            i+=1\n",
    "            \n",
    "            # Add some items to orders with random chance ##### related products\n",
    "            if product_choice == 'iPhone':\n",
    "                if random.random() < 0.15:\n",
    "                    df.loc[i] = write_row(order_number, \"Lightning Charging Cable\", order_date, address)\n",
    "                    i += 1\n",
    "                if random.random() < 0.05:\n",
    "                    df.loc[i] = write_row(order_number, \"Apple Airpods Headphones\", order_date, address)\n",
    "                    i += 1\n",
    "\n",
    "                if random.random() < 0.07:\n",
    "                    df.loc[i] = write_row(order_number, \"Wired Headphones\", order_date, address)\n",
    "                    i += 1 \n",
    "\n",
    "            elif product_choice == \"Google Phone\" or product_choice == \"Vareebadd Phone\":\n",
    "                if random.random() < 0.18:\n",
    "                    df.loc[i] = write_row(order_number, \"USB-C Charging Cable\", order_date, address)\n",
    "                    i += 1\n",
    "                if random.random() < 0.04:\n",
    "                    df.loc[i] = write_row(order_number, \"Bose SoundSport Headphones\", order_date, address)\n",
    "                    i += 1\n",
    "                if random.random() < 0.07:\n",
    "                    df.loc[i] = write_row(order_number, \"Wired Headphones\", order_date, address)\n",
    "                    i += 1 \n",
    "\n",
    "                if random.random() <= 0.02:\n",
    "                    product_2 = random.choices(product_list, weights)[0]\n",
    "                    df.loc[i] = write_row(order_number, product_2, order_date, address)\n",
    "                    i += 1\n",
    "\n",
    "                if random.random() <= 0.003:\n",
    "                    df.loc[i] = [\"\",\"\",\"\",\"\",\"\",\"\"]\n",
    "                    i += 1\n",
    "\n",
    "            order_number += 1 #### order_number same for all oders those are placed together\n",
    "            order_amount -= 1 ### no of orders decreased by one\n",
    "\n",
    "        month_name=calendar.month_name[month_value]\n",
    "        df.to_csv(f'{month_name}_data.csv',index=False)\n",
    "        print(f'{month_name} completed!')\n",
    "    "
   ]
  },
  {
   "cell_type": "code",
   "execution_count": null,
   "metadata": {},
   "outputs": [],
   "source": []
  },
  {
   "cell_type": "code",
   "execution_count": null,
   "metadata": {},
   "outputs": [],
   "source": []
  },
  {
   "cell_type": "markdown",
   "metadata": {},
   "source": [
    "# Working of date time and timedelta"
   ]
  },
  {
   "cell_type": "code",
   "execution_count": 77,
   "metadata": {},
   "outputs": [
    {
     "name": "stdout",
     "output_type": "stream",
     "text": [
      "before->2019-12-03 20:00:00 after->2019-12-03 21:30:00\n"
     ]
    }
   ],
   "source": [
    "date = datetime.datetime(2019, 12, 3,20,00)\n",
    "date1=date+datetime.timedelta(minutes=90) ###### add time as reduested\n",
    "print(f'before->{date} after->{date1}')\n"
   ]
  },
  {
   "cell_type": "markdown",
   "metadata": {},
   "source": [
    "# Working of random.normal :: The normal distribution"
   ]
  },
  {
   "cell_type": "code",
   "execution_count": 78,
   "metadata": {},
   "outputs": [
    {
     "data": {
      "image/png": "[encoded data removed]",
      "text/plain": [
       "<Figure size 432x288 with 1 Axes>"
      ]
     },
     "metadata": {
      "needs_background": "light"
     },
     "output_type": "display_data"
    }
   ],
   "source": [
    "import matplotlib.pyplot as plt\n",
    "X=[]\n",
    "Y=[]\n",
    "for i in range(2000):\n",
    "    X.append(i)\n",
    "    Y.append(numpy.random.normal(loc=20000, scale=3000)) ### mean and std\n",
    "plt.hist(Y)\n",
    "plt.xticks(numpy.arange(7000,33000,3000))\n",
    "plt.grid()\n",
    "plt.show()"
   ]
  },
  {
   "cell_type": "markdown",
   "metadata": {},
   "source": [
    "# Working of numpy random geometric"
   ]
  },
  {
   "cell_type": "code",
   "execution_count": 79,
   "metadata": {},
   "outputs": [
    {
     "data": {
      "text/plain": [
       "1"
      ]
     },
     "execution_count": 79,
     "metadata": {},
     "output_type": "execute_result"
    }
   ],
   "source": [
    "quantity=numpy.random.geometric(p=1.0-(1.0/500),size=1)[0] ## size==1 one iteration sufficient ## elemrnt at 0\n",
    "quantity"
   ]
  },
  {
   "cell_type": "code",
   "execution_count": null,
   "metadata": {},
   "outputs": [],
   "source": []
  },
  {
   "cell_type": "code",
   "execution_count": null,
   "metadata": {},
   "outputs": [],
   "source": []
  }
 ],
 "metadata": {
  "kernelspec": {
   "display_name": "Python 3",
   "language": "python",
   "name": "python3"
  },
  "language_info": {
   "codemirror_mode": {
    "name": "ipython",
    "version": 3
   },
   "file_extension": ".py",
   "mimetype": "text/x-python",
   "name": "python",
   "nbconvert_exporter": "python",
   "pygments_lexer": "ipython3",
   "version": "3.7.3"
  }
 },
 "nbformat": 4,
 "nbformat_minor": 2
}
