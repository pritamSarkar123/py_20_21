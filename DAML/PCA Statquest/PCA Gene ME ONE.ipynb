{
 "cells": [
  {
   "cell_type": "markdown",
   "metadata": {},
   "source": [
    "# Learnt From"
   ]
  },
  {
   "cell_type": "code",
   "execution_count": 1,
   "metadata": {},
   "outputs": [],
   "source": [
    "# https://youtu.be/Lsue2gEM9D0?list=PLblh5JKOoLUICTaGLRoHQDuF_7q2GfuJF"
   ]
  },
  {
   "cell_type": "markdown",
   "metadata": {},
   "source": [
    "# Importing Important Libraries"
   ]
  },
  {
   "cell_type": "code",
   "execution_count": 1,
   "metadata": {},
   "outputs": [],
   "source": [
    "import pandas as pd ## pandas->> panel data\n",
    "import numpy as np\n",
    "import random as rd\n",
    "from sklearn.decomposition import PCA\n",
    "from sklearn import preprocessing ## scalling\n",
    "import matplotlib.pyplot as plt"
   ]
  },
  {
   "cell_type": "markdown",
   "metadata": {},
   "source": [
    "# Generating Sample dataset"
   ]
  },
  {
   "cell_type": "markdown",
   "metadata": {},
   "source": [
    "Data Frame creation"
   ]
  },
  {
   "cell_type": "code",
   "execution_count": 2,
   "metadata": {},
   "outputs": [],
   "source": [
    "############## array of 100 gene names(rows)######\n",
    "genes=['gene'+str(i) for i in range(1,101)]\n",
    "################ sample names(columns)##########\n",
    "wt=['wt'+str(i) for i in range(1,6)] ### 5 wild type\n",
    "ko=['ko'+str(i) for i in range(1,6)] ### 5 knock out\n",
    "######## creating blank dataframe ##########\n",
    "###### '*' <---- unpacks a list...\n",
    "data=pd.DataFrame(columns=[*wt,*ko],index=genes)"
   ]
  },
  {
   "cell_type": "markdown",
   "metadata": {},
   "source": [
    "filling up values"
   ]
  },
  {
   "cell_type": "code",
   "execution_count": 3,
   "metadata": {},
   "outputs": [
    {
     "name": "stdout",
     "output_type": "stream",
     "text": [
      "       wt1  wt2  wt3  wt4   wt5  ko1  ko2  ko3  ko4  ko5\n",
      "gene1  693  650  669  667   682  910  932  907  940  907\n",
      "gene2  726  755  721  693   801  513  430  502  497  511\n",
      "gene3  996  946  990  989  1034  628  609  600  604  624\n",
      "gene4  967  953  894  879   951  464  425  466  491  441\n",
      "gene5  827  831  826  821   800  274  225  280  247  269\n",
      "(100, 10)\n"
     ]
    }
   ],
   "source": [
    "###### poission link -->https://www.google.com/url?sa=i&url=https%3A%2F%2Fwww.onlinemathlearning.com%2Fpoisson-distribution.html&psig=AOvVaw2mCVvTNzQ-27EJJf-JgPzZ&ust=1582215338965000&source=images&cd=vfe&ved=0CAIQjRxqFwoTCKinycyB3ucCFQAAAAAdAAAAABAN\n",
    "###### lamdda, and no of numbers needed(size)\n",
    "##### rand_range creates a number between the range,that becomes lambda\n",
    "#### based on lambda 5 data created by poission distribution\n",
    "for gene in data.index:\n",
    "    data.loc[gene,'wt1':'wt5']=np.random.poisson(lam=rd.randrange(10,1000),size=5)\n",
    "    data.loc[gene,'ko1':'ko5']=np.random.poisson(lam=rd.randrange(10,1000),size=5)\n",
    "\n",
    "print(data.head())\n",
    "print(data.shape)"
   ]
  },
  {
   "cell_type": "markdown",
   "metadata": {},
   "source": [
    "# Scalling Up"
   ]
  },
  {
   "cell_type": "code",
   "execution_count": 4,
   "metadata": {},
   "outputs": [],
   "source": [
    "'''\n",
    "    preprocessing formula:\n",
    "    \n",
    "        (variable-mean)^2\n",
    "        -----------------\n",
    "         variableNumber   <<---- variableNumber-1 in \"R\"\n",
    "    \n",
    "    StandardScaler().fit_transform(data.T) formua:\n",
    "    \n",
    "        (variable-mean)\n",
    "        ---------------\n",
    "        standardDeviation\n",
    "\n",
    "'''\n",
    "### scalling performed on data.T(transpose) \n",
    "## so that row wise(gene wise) scalling canbe achived\n",
    "scaled_data=preprocessing.scale(data.T)"
   ]
  },
  {
   "cell_type": "markdown",
   "metadata": {},
   "source": [
    "# Training The model"
   ]
  },
  {
   "cell_type": "code",
   "execution_count": 5,
   "metadata": {},
   "outputs": [],
   "source": [
    "pca=PCA() ## object created\n",
    "pca.fit(scaled_data) #####fitting or training data\n",
    "pca_data=pca.transform(scaled_data) #### generating pca Data ###column scores wrt all pca"
   ]
  },
  {
   "cell_type": "markdown",
   "metadata": {},
   "source": [
    "# Plotting"
   ]
  },
  {
   "cell_type": "code",
   "execution_count": 6,
   "metadata": {},
   "outputs": [
    {
     "data": {
      "image/png": "[encoded data removed]",
      "text/plain": [
       "<Figure size 432x288 with 1 Axes>"
      ]
     },
     "metadata": {
      "needs_background": "light"
     },
     "output_type": "display_data"
    }
   ],
   "source": [
    "#### pca.explained_variance_ratio_--> variance accouted for each pca\n",
    "##### convert it in %\n",
    "per_var=np.round(pca.explained_variance_ratio_*100,decimals=1)\n",
    "labels=['PC'+str(i) for i in range(1,len(per_var)+1)]\n",
    "y=[i*10 for i in range(0,11) ]\n",
    "plt.bar(x=range(1,len(per_var)+1),height=per_var,tick_label=labels)\n",
    "plt.ylabel('Percentage of Explained Variance')\n",
    "plt.xlabel('Principal Component')\n",
    "plt.yticks(y)\n",
    "plt.title('Scree Plot')\n",
    "plt.show()"
   ]
  },
  {
   "cell_type": "markdown",
   "metadata": {},
   "source": [
    "# PCA plot"
   ]
  },
  {
   "cell_type": "code",
   "execution_count": 9,
   "metadata": {},
   "outputs": [
    {
     "name": "stdout",
     "output_type": "stream",
     "text": [
      "          PC1       PC2       PC3       PC4       PC5       PC6       PC7  \\\n",
      "wt1 -9.441821  1.549284  2.172244  1.853223  1.514443 -0.398368  0.802309   \n",
      "wt2 -9.386501  2.350507 -0.697892 -1.830028  0.181479 -0.455880 -0.829170   \n",
      "wt3 -9.437551 -1.193769  0.270124 -1.142947  0.986308  0.849041 -0.210787   \n",
      "wt4 -9.357808 -1.050974 -0.432947  0.297362 -1.540644  2.020269  0.508529   \n",
      "wt5 -9.612229 -1.592243 -1.307326  0.839404 -1.152342 -1.975968 -0.288212   \n",
      "ko1  9.372736  1.530243 -0.939953 -1.132811 -0.875707 -0.521251  1.633809   \n",
      "ko2  9.284721 -2.120237 -1.077392 -0.826661  2.206908 -0.042290  0.158699   \n",
      "ko3  9.678757  2.157354 -1.964052  1.909768  0.205617  0.827509 -0.838695   \n",
      "ko4  9.510445  0.443873  3.058440 -0.935903 -1.048059 -0.010523 -0.701655   \n",
      "ko5  9.389251 -2.074038  0.918754  0.968592 -0.478004 -0.292540 -0.234829   \n",
      "\n",
      "          PC8       PC9          PC10  \n",
      "wt1 -0.083565 -0.195836  4.773959e-15  \n",
      "wt2  0.640319 -0.798091  9.992007e-16  \n",
      "wt3  0.388980  1.404355 -6.661338e-16  \n",
      "wt4 -0.314075 -0.672129 -1.221245e-15  \n",
      "wt5 -0.630267  0.264680  2.886580e-15  \n",
      "ko1  0.214956  0.411081 -4.440892e-16  \n",
      "ko2 -0.707419 -0.647346 -1.998401e-15  \n",
      "ko3 -0.177256  0.420769  7.771561e-16  \n",
      "ko4 -0.915510  0.108293 -1.443290e-15  \n",
      "ko5  1.583837 -0.295775 -7.771561e-16  \n"
     ]
    },
    {
     "data": {
      "image/png": "[encoded data removed]",
      "text/plain": [
       "<Figure size 432x288 with 1 Axes>"
      ]
     },
     "metadata": {
      "needs_background": "light"
     },
     "output_type": "display_data"
    }
   ],
   "source": [
    "########  all PCA values wrt\n",
    "pca_df=pd.DataFrame(pca_data,index=[*wt,*ko],columns=labels)\n",
    "print(pca_df)\n",
    "plt.scatter(pca_df.PC1, pca_df.PC2)\n",
    "plt.title('My PCA Graph')\n",
    "plt.xlabel('PC1 - {0}%'.format(per_var[0]))\n",
    "plt.ylabel('PC2 - {0}%'.format(per_var[1]))\n",
    "\n",
    "for sample in pca_df.index:\n",
    "    ### it helps naming each point \n",
    "    #### plt.annotate(name_to_be_displayed,\n",
    "    #                  (x_coordinate,y_coordinate) )\n",
    "    plt.annotate(sample, (pca_df.PC1.loc[sample], pca_df.PC2.loc[sample]))\n",
    "\n",
    "plt.show()"
   ]
  },
  {
   "cell_type": "markdown",
   "metadata": {},
   "source": [
    "# Top 10 genes contributed in PCA1(accounts 90% variation)"
   ]
  },
  {
   "cell_type": "code",
   "execution_count": 8,
   "metadata": {
    "scrolled": true
   },
   "outputs": [
    {
     "name": "stdout",
     "output_type": "stream",
     "text": [
      "gene22    0.105807\n",
      "gene41    0.105786\n",
      "gene71   -0.105760\n",
      "gene56   -0.105750\n",
      "gene84   -0.105748\n",
      "gene7    -0.105743\n",
      "gene9    -0.105731\n",
      "gene85   -0.105706\n",
      "gene82    0.105702\n",
      "gene68   -0.105701\n",
      "dtype: float64\n"
     ]
    }
   ],
   "source": [
    "###### played a role in seperating the sample\n",
    "####### we get 90% variance around PC1, so we take account of this\n",
    "####### pca.components_[0] <- gives \"PC1\" values wrt genes ###\n",
    "##### 0-9 <- PC1 - PC10\n",
    "loading_scores = pd.Series(pca.components_[0], index=genes)\n",
    "sorted_loading_scores = loading_scores.abs().sort_values(ascending=False)\n",
    "top_10_genes = sorted_loading_scores[0:10].index.values\n",
    "print(loading_scores[top_10_genes])"
   ]
  },
  {
   "cell_type": "code",
   "execution_count": null,
   "metadata": {},
   "outputs": [],
   "source": []
  },
  {
   "cell_type": "code",
   "execution_count": null,
   "metadata": {},
   "outputs": [],
   "source": []
  },
  {
   "cell_type": "code",
   "execution_count": null,
   "metadata": {},
   "outputs": [],
   "source": []
  }
 ],
 "metadata": {
  "kernelspec": {
   "display_name": "Python 3",
   "language": "python",
   "name": "python3"
  },
  "language_info": {
   "codemirror_mode": {
    "name": "ipython",
    "version": 3
   },
   "file_extension": ".py",
   "mimetype": "text/x-python",
   "name": "python",
   "nbconvert_exporter": "python",
   "pygments_lexer": "ipython3",
   "version": "3.7.3"
  }
 },
 "nbformat": 4,
 "nbformat_minor": 2
}
