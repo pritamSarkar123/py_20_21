{
 "cells": [
  {
   "cell_type": "code",
   "execution_count": 51,
   "metadata": {},
   "outputs": [],
   "source": [
    "import pandas as pd\n",
    "import numpy as np\n",
    "import random as rd\n",
    "from sklearn.decomposition import PCA\n",
    "from sklearn import preprocessing ## scalling\n",
    "import matplotlib.pyplot as plt\n",
    "import calendar as cd"
   ]
  },
  {
   "cell_type": "code",
   "execution_count": 52,
   "metadata": {},
   "outputs": [],
   "source": [
    "companis=['company'+str(i) for i in range(1,1001)]\n",
    "months=[cd.month_name[i] for i in range(1,13)]\n",
    "company_profit_df=pd.DataFrame(columns=months,index=companis)"
   ]
  },
  {
   "cell_type": "code",
   "execution_count": 53,
   "metadata": {},
   "outputs": [
    {
     "data": {
      "text/html": [
       "<div>\n",
       "<style scoped>\n",
       "    .dataframe tbody tr th:only-of-type {\n",
       "        vertical-align: middle;\n",
       "    }\n",
       "\n",
       "    .dataframe tbody tr th {\n",
       "        vertical-align: top;\n",
       "    }\n",
       "\n",
       "    .dataframe thead th {\n",
       "        text-align: right;\n",
       "    }\n",
       "</style>\n",
       "<table border=\"1\" class=\"dataframe\">\n",
       "  <thead>\n",
       "    <tr style=\"text-align: right;\">\n",
       "      <th></th>\n",
       "      <th>January</th>\n",
       "      <th>February</th>\n",
       "      <th>March</th>\n",
       "      <th>April</th>\n",
       "      <th>May</th>\n",
       "      <th>June</th>\n",
       "      <th>July</th>\n",
       "      <th>August</th>\n",
       "      <th>September</th>\n",
       "      <th>October</th>\n",
       "      <th>November</th>\n",
       "      <th>December</th>\n",
       "    </tr>\n",
       "  </thead>\n",
       "  <tbody>\n",
       "    <tr>\n",
       "      <th>company1</th>\n",
       "      <td>268.648</td>\n",
       "      <td>220.166</td>\n",
       "      <td>364.647</td>\n",
       "      <td>157.518</td>\n",
       "      <td>247.644</td>\n",
       "      <td>447.77</td>\n",
       "      <td>296.014</td>\n",
       "      <td>482.942</td>\n",
       "      <td>402.305</td>\n",
       "      <td>232.176</td>\n",
       "      <td>202.474</td>\n",
       "      <td>353.567</td>\n",
       "    </tr>\n",
       "    <tr>\n",
       "      <th>company2</th>\n",
       "      <td>216.604</td>\n",
       "      <td>364.396</td>\n",
       "      <td>-1.97443</td>\n",
       "      <td>43.6657</td>\n",
       "      <td>136.449</td>\n",
       "      <td>177.313</td>\n",
       "      <td>317.931</td>\n",
       "      <td>395.961</td>\n",
       "      <td>299.651</td>\n",
       "      <td>307.628</td>\n",
       "      <td>527.848</td>\n",
       "      <td>359.128</td>\n",
       "    </tr>\n",
       "    <tr>\n",
       "      <th>company3</th>\n",
       "      <td>978.147</td>\n",
       "      <td>775.697</td>\n",
       "      <td>848.509</td>\n",
       "      <td>863.987</td>\n",
       "      <td>822.596</td>\n",
       "      <td>795.37</td>\n",
       "      <td>783.997</td>\n",
       "      <td>966.209</td>\n",
       "      <td>918.178</td>\n",
       "      <td>956.921</td>\n",
       "      <td>848.092</td>\n",
       "      <td>1042.41</td>\n",
       "    </tr>\n",
       "    <tr>\n",
       "      <th>company4</th>\n",
       "      <td>625.505</td>\n",
       "      <td>604.947</td>\n",
       "      <td>811.669</td>\n",
       "      <td>722.928</td>\n",
       "      <td>560.642</td>\n",
       "      <td>591.21</td>\n",
       "      <td>142.695</td>\n",
       "      <td>28.2672</td>\n",
       "      <td>85.4136</td>\n",
       "      <td>43.1602</td>\n",
       "      <td>321.707</td>\n",
       "      <td>245.514</td>\n",
       "    </tr>\n",
       "    <tr>\n",
       "      <th>company5</th>\n",
       "      <td>46.7827</td>\n",
       "      <td>106.941</td>\n",
       "      <td>52.6874</td>\n",
       "      <td>70.2997</td>\n",
       "      <td>27.4885</td>\n",
       "      <td>23.4074</td>\n",
       "      <td>710.698</td>\n",
       "      <td>911.764</td>\n",
       "      <td>937.537</td>\n",
       "      <td>735.59</td>\n",
       "      <td>774.4</td>\n",
       "      <td>873.62</td>\n",
       "    </tr>\n",
       "  </tbody>\n",
       "</table>\n",
       "</div>"
      ],
      "text/plain": [
       "          January February    March    April      May     June     July  \\\n",
       "company1  268.648  220.166  364.647  157.518  247.644   447.77  296.014   \n",
       "company2  216.604  364.396 -1.97443  43.6657  136.449  177.313  317.931   \n",
       "company3  978.147  775.697  848.509  863.987  822.596   795.37  783.997   \n",
       "company4  625.505  604.947  811.669  722.928  560.642   591.21  142.695   \n",
       "company5  46.7827  106.941  52.6874  70.2997  27.4885  23.4074  710.698   \n",
       "\n",
       "           August September  October November December  \n",
       "company1  482.942   402.305  232.176  202.474  353.567  \n",
       "company2  395.961   299.651  307.628  527.848  359.128  \n",
       "company3  966.209   918.178  956.921  848.092  1042.41  \n",
       "company4  28.2672   85.4136  43.1602  321.707  245.514  \n",
       "company5  911.764   937.537   735.59    774.4   873.62  "
      ]
     },
     "execution_count": 53,
     "metadata": {},
     "output_type": "execute_result"
    }
   ],
   "source": [
    "for company in company_profit_df.index:\n",
    "    company_profit_df.loc[company,'January':'June']=np.random.normal(loc=rd.randrange(10,1000),scale=100,size=6)\n",
    "    company_profit_df.loc[company,'July':'December']=np.random.normal(loc=rd.randrange(10,1000),scale=100,size=6)\n",
    "company_profit_df.head()"
   ]
  },
  {
   "cell_type": "code",
   "execution_count": 54,
   "metadata": {},
   "outputs": [],
   "source": [
    "scaled_company_data=preprocessing.scale(company_profit_df.T)"
   ]
  },
  {
   "cell_type": "code",
   "execution_count": 55,
   "metadata": {},
   "outputs": [],
   "source": [
    "pca_obj=PCA()\n",
    "pca_obj.fit(scaled_company_data)\n",
    "pca_OP_data=pca_obj.transform(scaled_company_data)"
   ]
  },
  {
   "cell_type": "code",
   "execution_count": 56,
   "metadata": {},
   "outputs": [
    {
     "data": {
      "image/png": "[encoded data removed]",
      "text/plain": [
       "<Figure size 432x288 with 1 Axes>"
      ]
     },
     "metadata": {
      "needs_background": "light"
     },
     "output_type": "display_data"
    }
   ],
   "source": [
    "per_var=np.round(pca_obj.explained_variance_ratio_*100,decimals=1)\n",
    "labels=['PC'+str(i) for i in range(1,len(per_var)+1)]\n",
    "y=[i*10 for i in range(0,11) ]\n",
    "plt.bar(x=range(1,len(per_var)+1),height=per_var,tick_label=labels)\n",
    "plt.ylabel('Percentage of Explained Variance')\n",
    "plt.xlabel('Principal Component')\n",
    "plt.yticks(y)\n",
    "plt.title('Scree Plot')\n",
    "plt.show()"
   ]
  },
  {
   "cell_type": "code",
   "execution_count": 57,
   "metadata": {},
   "outputs": [
    {
     "name": "stdout",
     "output_type": "stream",
     "text": [
      "                 PC1        PC2        PC3        PC4        PC5        PC6  \\\n",
      "January    24.909742   2.068499  10.648030 -10.052998   2.276914   0.674698   \n",
      "February   24.753554 -10.301766  -5.909906  -0.917868  -0.790342  -1.322184   \n",
      "March      25.423215  13.334214  -1.360387   3.116951  -1.078935  -2.756020   \n",
      "April      25.134290   0.258088  -7.179149  -7.608864  -0.566900   3.442424   \n",
      "May        24.222984  -0.697928  -4.335700   4.979916  -3.747318   6.306473   \n",
      "June       24.014710  -4.804165   8.314332  10.661748   3.736786  -6.562384   \n",
      "July      -24.236202   0.194574  -2.854643   8.333827   0.475893  13.969480   \n",
      "August    -24.680595  -5.490706  12.823744  -3.666666   1.086792   6.473608   \n",
      "September -25.286973  13.744872   1.638818  -1.382696  -4.639304  -2.007964   \n",
      "October   -24.490352  -0.266210  -8.326173  -5.685284  15.167864  -3.022867   \n",
      "November  -24.971892  -6.692707  -2.912231  -4.707650 -13.962341  -6.149672   \n",
      "December  -24.792480  -1.346764  -0.546735   6.929585   2.040890  -9.045592   \n",
      "\n",
      "                 PC7        PC8        PC9      PC10      PC11          PC12  \n",
      "January    11.539568   1.439728   3.702544 -2.532925 -4.360549  8.923418e-15  \n",
      "February   -0.325903  -6.739236  11.760252  5.127583  5.442616 -2.289835e-15  \n",
      "March      -7.245967  -9.030148   1.643393 -7.842493 -2.615446  1.457168e-15  \n",
      "April      -5.258271   1.914570  -8.818439  9.588549 -6.343302 -5.825201e-15  \n",
      "May         7.181677   2.533810  -8.605216 -5.525452  9.575479  2.498002e-16  \n",
      "June       -5.795268  10.204692   0.243668  1.282955 -1.400568 -3.122502e-15  \n",
      "July        1.800604   1.767180   6.275104 -0.175391 -7.558821  9.436896e-16  \n",
      "August     -7.927408  -7.049974  -4.619539 -0.173924  4.528301  3.127706e-15  \n",
      "September   0.276037   5.533449   4.116238  8.566055  7.270758  1.249001e-15  \n",
      "October    -1.558331   4.082314   0.270776 -5.998783  2.548990  3.275158e-15  \n",
      "November   -1.811312   4.113193   0.394521 -7.312465 -3.570361 -7.771561e-16  \n",
      "December    9.124575  -8.769577  -6.363304  4.996291 -3.517098  4.475587e-15  \n"
     ]
    },
    {
     "data": {
      "image/png": "[encoded data removed]",
      "text/plain": [
       "<Figure size 432x288 with 1 Axes>"
      ]
     },
     "metadata": {
      "needs_background": "light"
     },
     "output_type": "display_data"
    }
   ],
   "source": [
    "pca_df=pd.DataFrame(pca_OP_data,index=months,columns=labels)\n",
    "print(pca_df)\n",
    "plt.scatter(pca_df.PC1, pca_df.PC2)\n",
    "plt.title('My PCA Graph')\n",
    "plt.xlabel('PC1 - {0}%'.format(per_var[0]))\n",
    "plt.ylabel('PC2 - {0}%'.format(per_var[1]))\n",
    "\n",
    "for sample in pca_df.index:\n",
    "    ### it helps naming each point \n",
    "    #### plt.annotate(name_to_be_displayed,\n",
    "    #                  (x_coordinate,y_coordinate) )\n",
    "    plt.annotate(sample, (pca_df.PC1.loc[sample], pca_df.PC2.loc[sample]))\n",
    "\n",
    "plt.show()"
   ]
  },
  {
   "cell_type": "code",
   "execution_count": 58,
   "metadata": {},
   "outputs": [
    {
     "name": "stdout",
     "output_type": "stream",
     "text": [
      "company226    0.040141\n",
      "company718    0.040119\n",
      "company506   -0.040082\n",
      "company895   -0.040063\n",
      "company794   -0.040020\n",
      "company388   -0.040009\n",
      "company535   -0.040008\n",
      "company881    0.040007\n",
      "company61    -0.039996\n",
      "company868    0.039964\n",
      "dtype: float64\n"
     ]
    }
   ],
   "source": [
    "loading_scores = pd.Series(pca_obj.components_[0], index=companis)\n",
    "sorted_loading_scores = loading_scores.abs().sort_values(ascending=False)\n",
    "top_10_genes = sorted_loading_scores[0:10].index.values\n",
    "print(loading_scores[top_10_genes])"
   ]
  },
  {
   "cell_type": "code",
   "execution_count": null,
   "metadata": {},
   "outputs": [],
   "source": []
  }
 ],
 "metadata": {
  "kernelspec": {
   "display_name": "Python 3",
   "language": "python",
   "name": "python3"
  },
  "language_info": {
   "codemirror_mode": {
    "name": "ipython",
    "version": 3
   },
   "file_extension": ".py",
   "mimetype": "text/x-python",
   "name": "python",
   "nbconvert_exporter": "python",
   "pygments_lexer": "ipython3",
   "version": "3.7.3"
  }
 },
 "nbformat": 4,
 "nbformat_minor": 2
}
