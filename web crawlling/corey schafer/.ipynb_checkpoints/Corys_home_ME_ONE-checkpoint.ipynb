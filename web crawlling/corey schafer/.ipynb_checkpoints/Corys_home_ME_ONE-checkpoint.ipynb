{
 "cells": [
  {
   "cell_type": "markdown",
   "metadata": {},
   "source": [
    "# Learnt From"
   ]
  },
  {
   "cell_type": "code",
   "execution_count": 1,
   "metadata": {},
   "outputs": [],
   "source": [
    "#https://youtu.be/ng2o98k983k?list=PLuueT5PsexC99xgXJh62KO-J1wMt1kQ9j"
   ]
  },
  {
   "cell_type": "code",
   "execution_count": 51,
   "metadata": {},
   "outputs": [],
   "source": [
    "import bs4\n",
    "from urllib.request import urlopen\n",
    "from bs4 import BeautifulSoup as soup\n",
    "import pandas as pd"
   ]
  },
  {
   "cell_type": "code",
   "execution_count": 3,
   "metadata": {},
   "outputs": [],
   "source": [
    "my_url='https://coreyms.com/'\n",
    "client=urlopen(my_url)\n",
    "page_html=client.read()\n",
    "client.close()"
   ]
  },
  {
   "cell_type": "code",
   "execution_count": 6,
   "metadata": {},
   "outputs": [],
   "source": [
    "raw_data=soup(page_html,'html.parser')"
   ]
  },
  {
   "cell_type": "code",
   "execution_count": 7,
   "metadata": {},
   "outputs": [],
   "source": [
    "article_container=raw_data.find_all(\"article\")"
   ]
  },
  {
   "cell_type": "code",
   "execution_count": 63,
   "metadata": {},
   "outputs": [],
   "source": [
    "columns=['Heading','Entry_date','About','Video_link','Category']\n",
    "df=pd.DataFrame(columns=columns,index=[x for x in range(len(article_container))])\n",
    "for i,container in enumerate(article_container):\n",
    "    heading=container.find_all('a',{'class':'entry-title-link'})[0].text\n",
    "    entry_date=container.find_all('time',{'class':'entry-time'})[0].text.replace(', ',' ')\n",
    "    about=container.find_all('div',{'class':'entry-content'})[0].find('p').text\n",
    "    filed_under=container.find_all('span',{'class':'entry-categories'})[0].a.text\n",
    "    try:\n",
    "        video_id=container.find_all('iframe',{'class':'youtube-player'})[0][\"src\"].split('?')[0].split('/')[-1]\n",
    "        video_link=f'https://www.youtube.com/watch?v={video_id}'\n",
    "    except:\n",
    "        video_id='none'\n",
    "        video_link='none'\n",
    "    df.loc[i]=[heading,entry_date,about,video_link,filed_under]"
   ]
  },
  {
   "cell_type": "code",
   "execution_count": 65,
   "metadata": {},
   "outputs": [],
   "source": [
    "df.to_csv('CoreyMS.csv',index=False)"
   ]
  },
  {
   "cell_type": "code",
   "execution_count": null,
   "metadata": {},
   "outputs": [],
   "source": []
  },
  {
   "cell_type": "code",
   "execution_count": null,
   "metadata": {},
   "outputs": [],
   "source": []
  }
 ],
 "metadata": {
  "kernelspec": {
   "display_name": "Python 3",
   "language": "python",
   "name": "python3"
  },
  "language_info": {
   "codemirror_mode": {
    "name": "ipython",
    "version": 3
   },
   "file_extension": ".py",
   "mimetype": "text/x-python",
   "name": "python",
   "nbconvert_exporter": "python",
   "pygments_lexer": "ipython3",
   "version": "3.7.3"
  }
 },
 "nbformat": 4,
 "nbformat_minor": 2
}
