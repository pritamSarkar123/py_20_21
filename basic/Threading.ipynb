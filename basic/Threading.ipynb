{
 "cells": [
  {
   "cell_type": "markdown",
   "metadata": {},
   "source": [
    "can run multiple tasks concurrently by keeping data integrety,logical isolation of shared data etc and this way improves cpu utilization"
   ]
  },
  {
   "cell_type": "markdown",
   "metadata": {},
   "source": [
    "in python global locking is a threat to thread, python script uses tasks switching"
   ]
  },
  {
   "cell_type": "markdown",
   "metadata": {},
   "source": [
    "# Basic initialization"
   ]
  },
  {
   "cell_type": "markdown",
   "metadata": {},
   "source": [
    "\"main\" and \"t\" thread"
   ]
  },
  {
   "cell_type": "markdown",
   "metadata": {},
   "source": [
    "context switching occurs between \"main\" and \"t\" thread, when \"t\" goes to sleep \"main\" can executes its remaining script lines"
   ]
  },
  {
   "cell_type": "code",
   "execution_count": 2,
   "metadata": {
    "scrolled": true
   },
   "outputs": [
    {
     "name": "stdout",
     "output_type": "stream",
     "text": [
      "thread1 is going to sleep for 5 secondsHi\n",
      "Hi\n",
      "Hi\n",
      "Hi\n",
      "Hi\n",
      "Hi\n",
      "Hi\n",
      "Hi\n",
      "Hi\n",
      "Hi\n",
      "\n",
      "thread1 woke up after 5 seconds\n"
     ]
    }
   ],
   "source": [
    "import threading\n",
    "import time\n",
    "\n",
    "def sleeper(n,name):\n",
    "    print('{} is going to sleep for {} seconds'.format(name,n))\n",
    "    time.sleep(5)\n",
    "    print('{} woke up after {} seconds'.format(name,n))\n",
    "    \n",
    "t=threading.Thread(target=sleeper,name=\"thread1\",args=(5,\"thread1\")) #target is the run() method\n",
    "t.start()\n",
    "\n",
    "print(\"Hi\")\n",
    "print(\"Hi\")\n",
    "print(\"Hi\")\n",
    "print(\"Hi\")\n",
    "print(\"Hi\")\n",
    "print(\"Hi\")\n",
    "print(\"Hi\")\n",
    "print(\"Hi\")\n",
    "print(\"Hi\")\n",
    "print(\"Hi\")"
   ]
  },
  {
   "cell_type": "markdown",
   "metadata": {},
   "source": [
    "# JOIN <-- execution can not be operated on the other threades until the ongoing thread(having join method) completes"
   ]
  },
  {
   "cell_type": "markdown",
   "metadata": {},
   "source": [
    "# \"join\" can only after \"start\""
   ]
  },
  {
   "cell_type": "markdown",
   "metadata": {},
   "source": [
    "\".join()\" makes a lock, \"main\" cannot executs its remaining lines untill thread \"t\" completes"
   ]
  },
  {
   "cell_type": "code",
   "execution_count": 3,
   "metadata": {},
   "outputs": [
    {
     "name": "stdout",
     "output_type": "stream",
     "text": [
      "thread1 is going to sleep for 5 seconds\n",
      "thread1 woke up after 5 seconds\n",
      "Hi\n",
      "Hi\n",
      "Hi\n",
      "Hi\n",
      "Hi\n",
      "Hi\n",
      "Hi\n",
      "Hi\n",
      "Hi\n",
      "Hi\n"
     ]
    }
   ],
   "source": [
    "import threading\n",
    "import time\n",
    "\n",
    "def sleeper(n,name):\n",
    "    print('{} is going to sleep for {} seconds'.format(name,n))\n",
    "    time.sleep(5)\n",
    "    print('{} woke up after {} seconds'.format(name,n))\n",
    "    \n",
    "t=threading.Thread(target=sleeper,name=\"thread1\",args=(5,\"thread1\"))  #target is the run() method\n",
    "t.start()\n",
    "t.join() #makes a lock, \"main\" cannot executs its remaining lines untill thread \"t\" completes\n",
    "\n",
    "print(\"Hi\")\n",
    "print(\"Hi\")\n",
    "print(\"Hi\")\n",
    "print(\"Hi\")\n",
    "print(\"Hi\")\n",
    "print(\"Hi\")\n",
    "print(\"Hi\")\n",
    "print(\"Hi\")\n",
    "print(\"Hi\")\n",
    "print(\"Hi\")"
   ]
  },
  {
   "cell_type": "markdown",
   "metadata": {},
   "source": [
    "# Multi threading"
   ]
  },
  {
   "cell_type": "markdown",
   "metadata": {},
   "source": [
    "its better to ctrate and start all threades together then join them"
   ]
  },
  {
   "cell_type": "markdown",
   "metadata": {},
   "source": [
    "sequence: thread1(created),thread1(starts),thread1(sleeps),thread2(created),thread2(starts),thread2(sleeps),thread1(join),thread2(join)"
   ]
  },
  {
   "cell_type": "code",
   "execution_count": 12,
   "metadata": {},
   "outputs": [
    {
     "name": "stdout",
     "output_type": "stream",
     "text": [
      "thread0 started\n",
      "thread0 is going to sleep for 5 seconds\n",
      "thread1 started\n",
      "thread1 is going to sleep for 5 secondsthread2 started\n",
      "\n",
      "thread2 is going to sleep for 5 secondsthread3 started\n",
      "\n",
      "thread3 is going to sleep for 5 secondsthread4 started\n",
      "\n",
      "thread4 is going to sleep for 5 seconds\n",
      "thread0 woke up after 5 secondsthread1 woke up after 5 seconds\n",
      "\n",
      "thread4 woke up after 5 secondsthread2 woke up after 5 secondsthread3 woke up after 5 seconds\n",
      "\n",
      "\n",
      "5.02801251411438 sec required\n"
     ]
    }
   ],
   "source": [
    "#with thread\n",
    "import threading\n",
    "import time\n",
    "def sleeper(n,name):\n",
    "    print('{} is going to sleep for {} seconds'.format(name,n))\n",
    "    time.sleep(5)\n",
    "    print('{} woke up after {} seconds'.format(name,n))\n",
    "    \n",
    "thread_list=[]\n",
    "start=time.time()\n",
    "for i in range(5): #create and start\n",
    "    t=threading.Thread(target=sleeper,\n",
    "                      name='thread{}'.format(i),\n",
    "                      args=(5,'thread{}'.format(i)))\n",
    "    thread_list.append(t)\n",
    "    print(\"{} started\".format(t.name))\n",
    "    t.start()\n",
    "    \n",
    "for t in thread_list: #then join all \n",
    "    t.join()\n",
    "end=time.time()\n",
    "print(\"{} sec required\".format(end-start))"
   ]
  },
  {
   "cell_type": "code",
   "execution_count": 13,
   "metadata": {},
   "outputs": [
    {
     "name": "stdout",
     "output_type": "stream",
     "text": [
      "thread0 started\n",
      "thread0 is going to sleep for 5 seconds\n",
      "thread0 woke up after 5 seconds\n",
      "thread1 started\n",
      "thread1 is going to sleep for 5 seconds\n",
      "thread1 woke up after 5 seconds\n",
      "thread2 started\n",
      "thread2 is going to sleep for 5 seconds\n",
      "thread2 woke up after 5 seconds\n",
      "thread3 started\n",
      "thread3 is going to sleep for 5 seconds\n",
      "thread3 woke up after 5 seconds\n",
      "thread4 started\n",
      "thread4 is going to sleep for 5 seconds\n",
      "thread4 woke up after 5 seconds\n",
      "25.0269513130188 sec required\n"
     ]
    }
   ],
   "source": [
    "#with thread\n",
    "import threading\n",
    "import time\n",
    "def sleeper(n,name):\n",
    "    print('{} is going to sleep for {} seconds'.format(name,n))\n",
    "    time.sleep(5)\n",
    "    print('{} woke up after {} seconds'.format(name,n))\n",
    "    \n",
    "thread_list=[]\n",
    "start=time.time()\n",
    "for i in range(5): #create and start and join\n",
    "    t=threading.Thread(target=sleeper,\n",
    "                      name='thread{}'.format(i),\n",
    "                      args=(5,'thread{}'.format(i)))\n",
    "    thread_list.append(t)\n",
    "    print(\"{} started\".format(t.name))\n",
    "    t.start()\n",
    "    t.join()\n",
    "end=time.time()\n",
    "print(\"{} sec required\".format(end-start))"
   ]
  },
  {
   "cell_type": "code",
   "execution_count": 14,
   "metadata": {},
   "outputs": [
    {
     "name": "stdout",
     "output_type": "stream",
     "text": [
      "thread0 started\n",
      "thread0 is going to sleep for 5 seconds\n",
      "thread0 woke up after 5 seconds\n",
      "thread1 started\n",
      "thread1 is going to sleep for 5 seconds\n",
      "thread1 woke up after 5 seconds\n",
      "thread2 started\n",
      "thread2 is going to sleep for 5 seconds\n",
      "thread2 woke up after 5 seconds\n",
      "thread3 started\n",
      "thread3 is going to sleep for 5 seconds\n",
      "thread3 woke up after 5 seconds\n",
      "thread4 started\n",
      "thread4 is going to sleep for 5 seconds\n",
      "thread4 woke up after 5 seconds\n",
      "25.035159826278687 sec required\n"
     ]
    }
   ],
   "source": [
    "#with thread\n",
    "import threading\n",
    "import time\n",
    "def sleeper(n,name):\n",
    "    print('{} is going to sleep for {} seconds'.format(name,n))\n",
    "    time.sleep(5)\n",
    "    print('{} woke up after {} seconds'.format(name,n))\n",
    "    \n",
    "thread_list=[]\n",
    "start=time.time()\n",
    "for i in range(5): #create \n",
    "    t=threading.Thread(target=sleeper,\n",
    "                      name='thread{}'.format(i),\n",
    "                      args=(5,'thread{}'.format(i)))\n",
    "    thread_list.append(t)\n",
    "    \n",
    "for t in thread_list: #then start and join all \n",
    "    print(\"{} started\".format(t.name))\n",
    "    t.start()\n",
    "    \n",
    "    t.join()\n",
    "end=time.time()\n",
    "print(\"{} sec required\".format(end-start))"
   ]
  },
  {
   "cell_type": "code",
   "execution_count": 9,
   "metadata": {},
   "outputs": [
    {
     "name": "stdout",
     "output_type": "stream",
     "text": [
      "name0 is going to sleep for 5 seconds\n",
      "name0 woke up after 5 seconds\n",
      "name1 is going to sleep for 5 seconds\n",
      "name1 woke up after 5 seconds\n",
      "name2 is going to sleep for 5 seconds\n",
      "name2 woke up after 5 seconds\n",
      "name3 is going to sleep for 5 seconds\n",
      "name3 woke up after 5 seconds\n",
      "name4 is going to sleep for 5 seconds\n",
      "name4 woke up after 5 seconds\n",
      "25.014694213867188 sec required\n"
     ]
    }
   ],
   "source": [
    "#with out thread\n",
    "import threading\n",
    "import time\n",
    "def sleeper(n,name):\n",
    "    print('{} is going to sleep for {} seconds'.format(name,n))\n",
    "    time.sleep(5)\n",
    "    print('{} woke up after {} seconds'.format(name,n))\n",
    "    \n",
    "start=time.time()\n",
    "for i in range(5):\n",
    "    sleeper(5,'name{}'.format(i))\n",
    "end=time.time()\n",
    "print(\"{} sec required\".format(end-start))"
   ]
  },
  {
   "cell_type": "markdown",
   "metadata": {},
   "source": [
    "# Daemon(false by default) <-if true then the thread will be terminated,after main threade terminates,irrespective of having any infinite loop"
   ]
  },
  {
   "cell_type": "code",
   "execution_count": 18,
   "metadata": {},
   "outputs": [
    {
     "name": "stdout",
     "output_type": "stream",
     "text": [
      "waiting\n",
      "waiting\n",
      "waiting\n",
      "waiting\n",
      "waiting\n",
      "increment by 1\n",
      "increment by 2\n",
      "waiting\n",
      "overload\n",
      "substracted by 3\n",
      "waiting\n",
      "waiting\n",
      "waiting\n",
      "waiting\n",
      "waiting\n",
      "increment by 1\n",
      "increment by 2\n",
      "waiting\n",
      "overload\n",
      "substracted by 3\n",
      "waiting\n",
      "waiting\n",
      "waiting\n",
      "waiting\n",
      "waiting\n",
      "increment by 1\n",
      "increment by 2\n",
      "waiting\n",
      "overload\n",
      "substracted by 3\n",
      "waiting\n",
      "waiting\n",
      "waiting\n",
      "waiting\n",
      "waiting\n",
      "increment by 1\n",
      "increment by 2\n",
      "waiting\n",
      "overload\n",
      "substracted by 3\n",
      "waiting\n",
      "waiting\n",
      "waiting\n",
      "waiting\n",
      "waiting\n",
      "increment by 1\n",
      "increment by 2\n",
      "waiting\n",
      "overload\n",
      "substracted by 3\n",
      "waiting\n",
      "waiting\n",
      "waiting\n",
      "waiting\n",
      "waiting\n",
      "increment by 1\n",
      "increment by 2\n",
      "waiting\n",
      "overload\n",
      "substracted by 3\n",
      "waiting\n",
      "waiting\n",
      "waiting\n",
      "waiting\n",
      "waiting\n",
      "increment by 1\n",
      "increment by 2\n",
      "creation by incrementing two completes\n",
      "waiting\n",
      "overload\n",
      "substracted by 3\n",
      "waiting\n",
      "waiting\n",
      "waiting\n",
      "waiting\n",
      "waiting\n",
      "increment by 1\n",
      "waiting\n",
      "waiting\n",
      "waiting\n",
      "waiting\n",
      "waiting\n",
      "waiting\n",
      "increment by 1\n",
      "waiting\n",
      "overload\n",
      "substracted by 3\n",
      "waiting\n",
      "waiting\n",
      "waiting\n",
      "waiting\n",
      "waiting\n",
      "increment by 1\n",
      "creation by incrementing one completes\n",
      "complete , final value 4\n",
      "waiting\n",
      "waiting\n",
      "waiting\n",
      "waiting\n",
      "waiting\n",
      "waiting\n",
      "waiting\n",
      "waiting\n",
      "waiting\n",
      "waiting\n",
      "waiting\n",
      "waiting\n",
      "waiting\n",
      "waiting\n",
      "waiting\n",
      "waiting\n",
      "waiting\n",
      "waiting\n",
      "waiting\n",
      "waiting\n",
      "waiting\n",
      "waiting\n",
      "waiting\n",
      "waiting\n",
      "waiting\n",
      "waiting\n",
      "waiting\n",
      "waiting\n",
      "waiting\n"
     ]
    }
   ],
   "source": [
    "################################# warning!!! daemon not working here ###########\n",
    "import threading\n",
    "import time\n",
    "\n",
    "total=4\n",
    "def create_items_1():\n",
    "    global total\n",
    "    for i in range(10): #finite iterator\n",
    "        time.sleep(2)\n",
    "        print('increment by 1')\n",
    "        total+=1\n",
    "    print('creation by incrementing one completes')\n",
    "def create_items_2():\n",
    "    global total\n",
    "    for i in range(7): #finite iterator\n",
    "        time.sleep(2)\n",
    "        print('increment by 2')\n",
    "        total+=2\n",
    "    print('creation by incrementing two completes')\n",
    "def limits_items():\n",
    "    global total\n",
    "    while True:\n",
    "        if total>5:\n",
    "            print('overload')\n",
    "            total-=3\n",
    "            print('substracted by 3')\n",
    "        else:\n",
    "            time.sleep(1)\n",
    "            print('waiting')\n",
    "creator1=threading.Thread(target=create_items_1,name=\"thread1\")\n",
    "creator1.start()\n",
    "creator2=threading.Thread(target=create_items_2,name=\"thread2\")\n",
    "creator2.start()\n",
    "limitor=threading.Thread(target=limits_items,name=\"thread3\",daemon=True)\n",
    "limitor.start()\n",
    "\n",
    "creator1.join()\n",
    "creator2.join()\n",
    "\n",
    "print('complete , final value {}'.format(total))\n",
    "            \n",
    "        "
   ]
  },
  {
   "cell_type": "markdown",
   "metadata": {},
   "source": [
    "# subclass"
   ]
  },
  {
   "cell_type": "markdown",
   "metadata": {},
   "source": [
    "# overridding the run method"
   ]
  },
  {
   "cell_type": "code",
   "execution_count": 22,
   "metadata": {},
   "outputs": [
    {
     "name": "stdout",
     "output_type": "stream",
     "text": [
      "threade1 is going to sleep for 5 seconds\n",
      "threade2 is going to sleep for 5 seconds\n",
      "threade3 is going to sleep for 5 seconds\n",
      "threade4 is going to sleep for 5 seconds\n",
      "threade5 is going to sleep for 5 seconds\n",
      "waiting\n",
      "waiting\n",
      "waiting\n",
      "waiting\n",
      "waiting\n",
      "waiting\n",
      "waiting\n",
      "waiting\n",
      "waiting\n",
      "waiting\n",
      "waiting\n",
      "waiting\n",
      "waiting\n",
      "waiting\n",
      "waiting\n",
      "threade1 woke up after 5 seconds\n",
      "threade2 woke up after 5 seconds\n",
      "threade3 woke up after 5 seconds\n",
      "threade5 woke up after 5 secondsthreade4 woke up after 5 seconds\n",
      "\n",
      "waiting\n",
      "waiting\n",
      "waiting\n",
      "waiting\n",
      "waiting\n",
      "waiting\n",
      "waiting\n",
      "waiting\n",
      "waiting\n",
      "waiting\n",
      "waiting\n",
      "waiting\n"
     ]
    }
   ],
   "source": [
    "######################################## warning!!! daemon not working here \n",
    "import threading\n",
    "import time\n",
    "class MyThread(threading.Thread):\n",
    "    def run(self):           #overridding run method\n",
    "        try:\n",
    "            if self._target:\n",
    "                self._target(*self._args,**self._kwargs)\n",
    "        finally:\n",
    "            del self._target,self._args,self._kwargs\n",
    "            \n",
    "def sleeper(n,name):\n",
    "    print('{} is going to sleep for {} seconds'.format(name,n))\n",
    "    time.sleep(n)\n",
    "    print('{} woke up after {} seconds'.format(name,n))\n",
    "    \n",
    "\n",
    "threades=[]\n",
    "for i in range(5):\n",
    "    t=MyThread(target=sleeper,name='threade{}'.format(i+1),args=(5,'threade{}'.format(i+1)))\n",
    "    threades.append(t)\n",
    "    t.start()\n",
    "\n",
    "for t in threades:\n",
    "    t.join()\n"
   ]
  },
  {
   "cell_type": "markdown",
   "metadata": {},
   "source": [
    "# overridding the init method"
   ]
  },
  {
   "cell_type": "code",
   "execution_count": 28,
   "metadata": {},
   "outputs": [
    {
     "name": "stdout",
     "output_type": "stream",
     "text": [
      "thread1 has startedthread2 has started\n",
      "8\n",
      "\n",
      "0\n",
      "thread1 has ended\n",
      "thread3 has started\n",
      "16\n",
      "thread3 has ended\n",
      "thread4 has started\n",
      "24\n",
      "thread4 has ended\n",
      "thread2 has ended\n",
      "thread5 has started\n",
      "32\n",
      "thread5 has ended\n",
      "thread6 has started\n",
      "40\n",
      "thread6 has ended\n",
      "thread7 has started\n",
      "48\n",
      "thread7 has ended\n",
      "thread8 has started\n",
      "56\n",
      "thread8 has ended\n",
      "thread9 has started\n",
      "64\n",
      "thread9 has ended\n",
      "thread10 has started\n",
      "72\n",
      "thread10 has ended\n",
      "thread11 has started\n",
      "80\n",
      "thread11 has ended\n",
      "waiting\n",
      "thread12 has started\n",
      "88\n",
      "thread12 has ended\n",
      "thread13 has started\n",
      "96\n",
      "thread13 has ended\n",
      "thread14 has started\n",
      "104\n",
      "thread14 has ended\n",
      "thread15 has started\n",
      "112\n",
      "thread15 has ended\n",
      "ends\n",
      "waiting\n",
      "waiting\n",
      "waiting\n",
      "waiting\n",
      "waiting\n",
      "waiting\n",
      "waiting\n",
      "waiting\n",
      "waiting\n",
      "waiting\n",
      "waiting\n",
      "waiting\n",
      "waiting\n",
      "waiting\n",
      "waiting\n",
      "waiting\n",
      "waiting\n",
      "waiting\n",
      "waiting\n",
      "waiting\n",
      "waiting\n",
      "waiting\n",
      "waiting\n",
      "waiting\n",
      "waiting\n",
      "waiting\n",
      "waiting\n",
      "waiting\n",
      "waiting\n",
      "waiting\n"
     ]
    }
   ],
   "source": [
    "######################################## warning!!! daemon not working here \n",
    "import time\n",
    "import threading\n",
    "class MyThread(threading.Thread):\n",
    "    #number=>thread number\n",
    "    #arges=a single list or tuple\n",
    "    def __init__(self,number,function,args):#overridding the init method\n",
    "        threading.Thread.__init__(self) #mandatory #originar init\n",
    "        self.number=number\n",
    "        self.function=function\n",
    "        self.args=args\n",
    "    def run(self):\n",
    "        print(\"thread{} has started\".format(self.number))\n",
    "        self.function(*self.args) #unpacking the single list ot tuple argument into multiple arguments\n",
    "        print(\"thread{} has ended\".format(self.number))\n",
    "def double(value,cycle):\n",
    "    for i in range(cycle):\n",
    "        value+=value\n",
    "    print(value)\n",
    "thread_list=[]\n",
    "for i in range(15):\n",
    "    t=MyThread(number=i+1,function=double,args=[i,3])\n",
    "    thread_list.append(t)\n",
    "    t.start()\n",
    "for t in thread_list:\n",
    "    t.join()\n",
    "    \n",
    "print(\"ends\")"
   ]
  },
  {
   "cell_type": "markdown",
   "metadata": {},
   "source": [
    "# Extracting source codes from Superclass "
   ]
  },
  {
   "cell_type": "markdown",
   "metadata": {},
   "source": [
    "\"super(MyThread,self).---\""
   ]
  },
  {
   "cell_type": "code",
   "execution_count": 29,
   "metadata": {},
   "outputs": [
    {
     "name": "stdout",
     "output_type": "stream",
     "text": [
      "waiting\n",
      "waiting\n",
      "Thred Starting\n",
      "we are sleeping for 3 seconds as yellow\n",
      "ends\n",
      "waiting\n",
      "waiting\n",
      "waiting\n",
      "waiting\n",
      "waiting\n",
      "waiting\n",
      "waiting\n",
      "waiting\n",
      "waiting\n",
      "Thred Ending\n",
      "waiting\n",
      "waiting\n",
      "waiting\n",
      "waiting\n",
      "waiting\n",
      "waiting\n",
      "waiting\n",
      "waiting\n",
      "waiting\n",
      "waiting\n"
     ]
    }
   ],
   "source": [
    "import threading\n",
    "import time\n",
    "class MyThread(threading.Thread):\n",
    "    def __init__(self,abc,defg,*args,**kwargs):\n",
    "        super(MyThread,self).__init__(*args,**kwargs) #extracting from source __init__\n",
    "        #adding more attributes to super class\n",
    "        self.abc=abc\n",
    "        self.defg=defg\n",
    "    def run(self,*args,**kwargs):\n",
    "        print(\"Thred Starting\")\n",
    "        super(MyThread,self).run(*args,**kwargs) #extracting from source run\n",
    "        print(\"Thred Ending\")\n",
    "        \n",
    "def sleeper (num, style):\n",
    "    print('we are sleeping for {} seconds as {}'.format(num, style))\n",
    "    time.sleep(num)   \n",
    "\n",
    "\n",
    "\n",
    "t = MyThread(abc =\"pritam\", defg = \"sarkar\", target = sleeper, \n",
    "             args = [3, 'yellow']) \n",
    "\n",
    "t.start()    \n",
    "print(\"ends\")"
   ]
  },
  {
   "cell_type": "markdown",
   "metadata": {},
   "source": [
    "# shared variable data integrity like semaphore"
   ]
  },
  {
   "cell_type": "code",
   "execution_count": 31,
   "metadata": {},
   "outputs": [
    {
     "name": "stdout",
     "output_type": "stream",
     "text": [
      "waiting\n",
      "waiting\n",
      "It ends with x=2000\n",
      "waiting\n",
      "waiting\n",
      "waiting\n",
      "waiting\n",
      "waiting\n",
      "waiting\n",
      "waiting\n",
      "waiting\n",
      "waiting\n",
      "waiting\n",
      "waiting\n",
      "waiting\n",
      "waiting\n"
     ]
    }
   ],
   "source": [
    "import threading\n",
    "lock=threading.Lock()\n",
    "COUNT=1000\n",
    "x=0\n",
    "def add_2():\n",
    "    global x\n",
    "    with lock:\n",
    "        for i in range(COUNT):\n",
    "            x+=2\n",
    "            \n",
    "def add_3():\n",
    "    global x\n",
    "    with lock:\n",
    "        for i in range(COUNT):\n",
    "            x+=3\n",
    "            \n",
    "def sub_4():\n",
    "    global x\n",
    "    with lock:\n",
    "        for i in range(COUNT):\n",
    "            x-=4\n",
    "            \n",
    "def sub_1():\n",
    "    global x\n",
    "    with lock:\n",
    "        for i in range(COUNT):\n",
    "            x-=1\n",
    "            \n",
    "t1=threading.Thread(target=add_2)\n",
    "t2=threading.Thread(target=add_3)\n",
    "t3=threading.Thread(target=sub_4)\n",
    "t4=threading.Thread(target=sub_1)\n",
    "\n",
    "t1.start()\n",
    "t2.start()\n",
    "t3.start()\n",
    "t4.start()\n",
    "\n",
    "t1.join()\n",
    "t2.join()\n",
    "t3.join()\n",
    "t4.join()\n",
    "\n",
    "print(\"It ends with x={}\".format(x))"
   ]
  },
  {
   "cell_type": "code",
   "execution_count": null,
   "metadata": {},
   "outputs": [],
   "source": [
    "import threading\n",
    "lock=threading.Lock()\n",
    "COUNT=1000\n",
    "x=0\n",
    "def add_2():\n",
    "    global x\n",
    "    lock.acquire()\n",
    "    for i in range(COUNT):\n",
    "        x+=2\n",
    "    lock.release()\n",
    "            \n",
    "def add_3():\n",
    "    global x\n",
    "    lock.acquire()\n",
    "    for i in range(COUNT):\n",
    "        x+=3\n",
    "    lock.release()\n",
    "            \n",
    "def sub_4():\n",
    "    global x\n",
    "    lock.acquire()\n",
    "    for i in range(COUNT):\n",
    "        x-=4\n",
    "    lock.release()\n",
    "            \n",
    "def sub_1():\n",
    "    global x\n",
    "    lock.acquire()\n",
    "    for i in range(COUNT):\n",
    "        x-=1\n",
    "    lock.release()\n",
    "            \n",
    "t1=threading.Thread(target=add_2)\n",
    "t2=threading.Thread(target=add_3)\n",
    "t3=threading.Thread(target=sub_4)\n",
    "t4=threading.Thread(target=sub_1)\n",
    "\n",
    "t1.start()\n",
    "t2.start()\n",
    "t3.start()\n",
    "t4.start()\n",
    "\n",
    "t1.join()\n",
    "t2.join()\n",
    "t3.join()\n",
    "t4.join()\n",
    "\n",
    "print(\"It ends with x={}\".format(x))"
   ]
  },
  {
   "cell_type": "markdown",
   "metadata": {},
   "source": [
    "# Using Queue"
   ]
  },
  {
   "cell_type": "code",
   "execution_count": 7,
   "metadata": {},
   "outputs": [
    {
     "name": "stdout",
     "output_type": "stream",
     "text": [
      "waiting to put\n",
      "element put\n",
      "waiting to put\n",
      "element put\n",
      "waiting to put\n",
      "element put\n",
      "waiting to put\n",
      "element put\n",
      "waiting to put\n",
      "element put\n",
      "waiting to get\n",
      "0\n",
      "waiting to get\n",
      "1\n",
      "waiting to get\n",
      "2\n",
      "waiting to get\n",
      "3\n",
      "waiting to get\n",
      "4\n",
      "completed 5\n"
     ]
    }
   ],
   "source": [
    "import queue\n",
    "import threading\n",
    "import time\n",
    "q=queue.Queue()\n",
    "lock=threading.Lock()\n",
    "x=0\n",
    "def putting(n):\n",
    "    global x\n",
    "    with lock:\n",
    "        while x<n:\n",
    "            print(\"waiting to put\")\n",
    "            time.sleep(1)\n",
    "            print(\"element put\")\n",
    "            q.put(x)\n",
    "            x+=1\n",
    "def getting():\n",
    "    while not q.empty():\n",
    "        print(\"waiting to get\")\n",
    "        time.sleep(2)\n",
    "        print(q.get())\n",
    "        \n",
    "t1=threading.Thread(target=putting,args=(5,),name=\"thread1\")\n",
    "t2=threading.Thread(target=getting,name=\"thread2\")\n",
    "t1.start()\n",
    "t1.join()\n",
    "t2.start()\n",
    "t2.join()\n",
    "print(\"completed {}\".format(x))\n",
    "    \n",
    "    "
   ]
  },
  {
   "cell_type": "markdown",
   "metadata": {},
   "source": [
    "Events used to communicate between multiple threades,using a common switch/flag ,one thread update it another reacts on it"
   ]
  },
  {
   "cell_type": "markdown",
   "metadata": {},
   "source": [
    "event.set() <- set flag to true event.clear()<- set flag to false"
   ]
  },
  {
   "cell_type": "markdown",
   "metadata": {},
   "source": [
    "event.wait()<- wait until flag become true. event.is_set() <-whether flag true or not"
   ]
  },
  {
   "cell_type": "code",
   "execution_count": 8,
   "metadata": {},
   "outputs": [
    {
     "name": "stdout",
     "output_type": "stream",
     "text": [
      "Event is setstarting random integer task\n",
      "\n",
      "Event complete\n",
      "starting random integer task\n",
      "Event complete\n",
      "starting random integer task\n",
      "Event complete\n",
      "starting random integer task\n",
      "true\n",
      "Event complete\n",
      "starting random integer task\n",
      "Event complete\n",
      "starting random integer task\n",
      "Event complete\n",
      "starting random integer task\n",
      "Event complete\n",
      "starting random integer task\n",
      "Event complete\n",
      "starting random integer task\n",
      "Event complete\n",
      "starting random integer task\n",
      "Event complete\n",
      "starting random integer task\n",
      "Event complete\n",
      "starting random integer task\n",
      "Event complete\n",
      "starting random integer task\n",
      "Event complete\n",
      "starting random integer task\n",
      "Event is cleared\n",
      "Event complete\n"
     ]
    }
   ],
   "source": [
    "import threading\n",
    "import time\n",
    "import numpy as np\n",
    "event=threading.Event()\n",
    "def flag():\n",
    "    time.sleep(3)\n",
    "    event.set()\n",
    "    print('Event is set')\n",
    "    time.sleep(7)\n",
    "    event.clear()\n",
    "    print(\"Event is cleared\")\n",
    "    \n",
    "def start_operations():\n",
    "    event.wait()\n",
    "    while event.is_set():\n",
    "        print(\"starting random integer task\")\n",
    "        x=np.random.randint(1,30)\n",
    "        time.sleep(.5)\n",
    "        if x==29:\n",
    "            print(\"true\")\n",
    "        print(\"Event complete\")\n",
    "t1=threading.Thread(target=flag)\n",
    "t2=threading.Thread(target=start_operations)\n",
    "\n",
    "t1.start()\n",
    "t2.start()\n"
   ]
  },
  {
   "cell_type": "markdown",
   "metadata": {},
   "source": [
    "https://www.youtube.com/watch?v=MfIAEmPy7jc&list=PLGKQkV4guDKEv1DoK4LYdo2ZPLo6cyLbm&index=10"
   ]
  },
  {
   "cell_type": "markdown",
   "metadata": {},
   "source": [
    "https://www.youtube.com/watch?v=iJv1oHrDnH8&list=PLGKQkV4guDKEv1DoK4LYdo2ZPLo6cyLbm&index=11"
   ]
  },
  {
   "cell_type": "code",
   "execution_count": null,
   "metadata": {},
   "outputs": [],
   "source": []
  }
 ],
 "metadata": {
  "kernelspec": {
   "display_name": "Python 3",
   "language": "python",
   "name": "python3"
  },
  "language_info": {
   "codemirror_mode": {
    "name": "ipython",
    "version": 3
   },
   "file_extension": ".py",
   "mimetype": "text/x-python",
   "name": "python",
   "nbconvert_exporter": "python",
   "pygments_lexer": "ipython3",
   "version": "3.7.3"
  }
 },
 "nbformat": 4,
 "nbformat_minor": 2
}
