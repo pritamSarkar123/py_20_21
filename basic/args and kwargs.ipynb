{
 "cells": [
  {
   "cell_type": "markdown",
   "metadata": {},
   "source": [
    "# * args & ** kwargs"
   ]
  },
  {
   "cell_type": "markdown",
   "metadata": {},
   "source": [
    "# * and ** just unpack the tuples or lists"
   ]
  },
  {
   "cell_type": "code",
   "execution_count": 3,
   "metadata": {},
   "outputs": [
    {
     "name": "stdout",
     "output_type": "stream",
     "text": [
      "[1, 2, 3]\n",
      "(4, 5)\n",
      "{'a': 7, 'b': 8}\n"
     ]
    }
   ],
   "source": [
    "def func(*args):\n",
    "    for i in args:\n",
    "        print(i)\n",
    "func([1,2,3],(4,5),{'a':7,'b':8})"
   ]
  },
  {
   "cell_type": "code",
   "execution_count": 4,
   "metadata": {},
   "outputs": [
    {
     "name": "stdout",
     "output_type": "stream",
     "text": [
      "{'x': 'Hello', 'y': 'world'}\n"
     ]
    }
   ],
   "source": [
    "def func(**kwargs):\n",
    "    dic={}\n",
    "    for key,value in kwargs.items():\n",
    "        dic[key]=value\n",
    "    print(dic)\n",
    "\n",
    "func(x=\"Hello\",y=\"world\")"
   ]
  },
  {
   "cell_type": "code",
   "execution_count": 10,
   "metadata": {},
   "outputs": [
    {
     "name": "stdout",
     "output_type": "stream",
     "text": [
      "exact function add\n",
      "7\n",
      "exact function printit\n",
      "pritam bharwa hay\n"
     ]
    }
   ],
   "source": [
    "def decorator(func):\n",
    "    def inner(*args,**kwargs):\n",
    "        print(\"exact function {}\".format(func.__name__))\n",
    "        return func(*args,**kwargs)\n",
    "    return inner\n",
    "@decorator\n",
    "def add(num1,num2):\n",
    "    return num1+num2\n",
    "@decorator\n",
    "def printit(name):\n",
    "    return \"{} bharwa hay\".format(name)\n",
    "print(add(3,4))\n",
    "print(printit(\"pritam\"))"
   ]
  },
  {
   "cell_type": "code",
   "execution_count": 11,
   "metadata": {},
   "outputs": [],
   "source": [
    "class SuperClass:\n",
    "    def __init__(self,*args,**kwargs):\n",
    "        self.args=[]\n",
    "        self.kwargs={}\n",
    "        for i in args:\n",
    "            self.args.append(i)\n",
    "        for key,value in kwargs.items():\n",
    "            self.kwargs[key]=value\n",
    "class SubClass(SuperClass):\n",
    "    def __init__(self,x,*args,**kwargs):\n",
    "        super().__init__(*args,**kwargs)\n",
    "        self.x=x\n",
    "        "
   ]
  },
  {
   "cell_type": "code",
   "execution_count": null,
   "metadata": {},
   "outputs": [],
   "source": []
  }
 ],
 "metadata": {
  "kernelspec": {
   "display_name": "Python 3",
   "language": "python",
   "name": "python3"
  },
  "language_info": {
   "codemirror_mode": {
    "name": "ipython",
    "version": 3
   },
   "file_extension": ".py",
   "mimetype": "text/x-python",
   "name": "python",
   "nbconvert_exporter": "python",
   "pygments_lexer": "ipython3",
   "version": "3.7.3"
  }
 },
 "nbformat": 4,
 "nbformat_minor": 2
}
