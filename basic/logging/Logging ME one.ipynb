{
 "cells": [
  {
   "cell_type": "markdown",
   "metadata": {},
   "source": [
    "# Learnt form"
   ]
  },
  {
   "cell_type": "code",
   "execution_count": 1,
   "metadata": {},
   "outputs": [],
   "source": [
    "#https://youtu.be/g8nQ90Hk328?list=PLuueT5PsexC99xgXJh62KO-J1wMt1kQ9j"
   ]
  },
  {
   "cell_type": "markdown",
   "metadata": {},
   "source": [
    "# purpose"
   ]
  },
  {
   "cell_type": "markdown",
   "metadata": {},
   "source": [
    "record progress and problem"
   ]
  },
  {
   "cell_type": "markdown",
   "metadata": {},
   "source": [
    "# Levels"
   ]
  },
  {
   "cell_type": "markdown",
   "metadata": {},
   "source": [
    "Debug,info,warning,error,critical"
   ]
  },
  {
   "cell_type": "code",
   "execution_count": 2,
   "metadata": {},
   "outputs": [],
   "source": [
    "import logging"
   ]
  },
  {
   "cell_type": "code",
   "execution_count": 3,
   "metadata": {},
   "outputs": [
    {
     "data": {
      "text/plain": [
       "['BASIC_FORMAT',\n",
       " 'BufferingFormatter',\n",
       " 'CRITICAL',\n",
       " 'DEBUG',\n",
       " 'ERROR',\n",
       " 'FATAL',\n",
       " 'FileHandler',\n",
       " 'Filter',\n",
       " 'Filterer',\n",
       " 'Formatter',\n",
       " 'Handler',\n",
       " 'INFO',\n",
       " 'LogRecord',\n",
       " 'Logger',\n",
       " 'LoggerAdapter',\n",
       " 'Manager',\n",
       " 'NOTSET',\n",
       " 'NullHandler',\n",
       " 'PercentStyle',\n",
       " 'PlaceHolder',\n",
       " 'RootLogger',\n",
       " 'StrFormatStyle',\n",
       " 'StreamHandler',\n",
       " 'StringTemplateStyle',\n",
       " 'Template',\n",
       " 'WARN',\n",
       " 'WARNING',\n",
       " '_STYLES',\n",
       " '_StderrHandler',\n",
       " '__all__',\n",
       " '__author__',\n",
       " '__builtins__',\n",
       " '__cached__',\n",
       " '__date__',\n",
       " '__doc__',\n",
       " '__file__',\n",
       " '__loader__',\n",
       " '__name__',\n",
       " '__package__',\n",
       " '__path__',\n",
       " '__spec__',\n",
       " '__status__',\n",
       " '__version__',\n",
       " '_acquireLock',\n",
       " '_addHandlerRef',\n",
       " '_checkLevel',\n",
       " '_defaultFormatter',\n",
       " '_defaultLastResort',\n",
       " '_handlerList',\n",
       " '_handlers',\n",
       " '_levelToName',\n",
       " '_lock',\n",
       " '_logRecordFactory',\n",
       " '_loggerClass',\n",
       " '_nameToLevel',\n",
       " '_register_at_fork_acquire_release',\n",
       " '_releaseLock',\n",
       " '_removeHandlerRef',\n",
       " '_showwarning',\n",
       " '_srcfile',\n",
       " '_startTime',\n",
       " '_warnings_showwarning',\n",
       " 'addLevelName',\n",
       " 'atexit',\n",
       " 'basicConfig',\n",
       " 'captureWarnings',\n",
       " 'collections',\n",
       " 'critical',\n",
       " 'currentframe',\n",
       " 'debug',\n",
       " 'disable',\n",
       " 'error',\n",
       " 'exception',\n",
       " 'fatal',\n",
       " 'getLevelName',\n",
       " 'getLogRecordFactory',\n",
       " 'getLogger',\n",
       " 'getLoggerClass',\n",
       " 'handlers',\n",
       " 'info',\n",
       " 'io',\n",
       " 'lastResort',\n",
       " 'log',\n",
       " 'logMultiprocessing',\n",
       " 'logProcesses',\n",
       " 'logThreads',\n",
       " 'makeLogRecord',\n",
       " 'os',\n",
       " 'raiseExceptions',\n",
       " 'root',\n",
       " 'setLogRecordFactory',\n",
       " 'setLoggerClass',\n",
       " 'shutdown',\n",
       " 'sys',\n",
       " 'threading',\n",
       " 'time',\n",
       " 'traceback',\n",
       " 'warn',\n",
       " 'warning',\n",
       " 'warnings',\n",
       " 'weakref']"
      ]
     },
     "execution_count": 3,
     "metadata": {},
     "output_type": "execute_result"
    }
   ],
   "source": [
    "########### all caps ->constants\n",
    "########### 1st caps->classes\n",
    "########### 1st small-> methods\n",
    "dir(logging)"
   ]
  },
  {
   "cell_type": "markdown",
   "metadata": {},
   "source": [
    "logger_level={NOTSET : 0 ,DEBUG : 10 ,INFO : 20 ,WARNING : 30 ,ERROR : 40 ,CRITICAL : 50}"
   ]
  },
  {
   "cell_type": "code",
   "execution_count": 4,
   "metadata": {},
   "outputs": [],
   "source": [
    "#logger can only write those messages whose levels are greater than the set level"
   ]
  },
  {
   "cell_type": "code",
   "execution_count": 5,
   "metadata": {},
   "outputs": [
    {
     "name": "stdout",
     "output_type": "stream",
     "text": [
      "10\n"
     ]
    }
   ],
   "source": [
    "import logging\n",
    "\n",
    "##### log_format #######\n",
    "log_format=\"%(levelname)s %(asctime)s - %(message)s\"\n",
    "\n",
    "###### create and configure logger#######\n",
    "logging.basicConfig(filename='my_log_one.log',\n",
    "                    format=log_format,\n",
    "                    level=logging.DEBUG, ### by default logging.WARNING\n",
    "                   filemode='w', ### bydefault 'a'\n",
    "                   )\n",
    "\n",
    "####### create a logger object #########\n",
    "logger=logging.getLogger()\n",
    "\n",
    "######## writting message ######\n",
    "logger.info('Our info message.')\n",
    "logger.debug('Our debug message.')\n",
    "logger.warning('Our warning message.')\n",
    "logger.error('Our error message.')\n",
    "logger.critical('Our critical message.')\n",
    "\n",
    "####### printing level of logger #######\n",
    "print(logger.level)"
   ]
  },
  {
   "cell_type": "markdown",
   "metadata": {},
   "source": [
    "# Example"
   ]
  },
  {
   "cell_type": "code",
   "execution_count": 1,
   "metadata": {},
   "outputs": [],
   "source": [
    "import logging\n",
    "import math\n",
    "\n",
    "logger_format=\"%(levelname)s %(asctime)s -->%(message)s\" \n",
    "\n",
    "logging.basicConfig(filename='First_example_one.log',level=logging.DEBUG,format=logger_format,filemode='a')\n",
    "\n",
    "logger=logging.getLogger()\n",
    "\n",
    "def quadratic_formula(a,b,c):\n",
    "    ### Returns the solutions of the equtions ax^2+bx+c=0 ###\n",
    "    logger.info(f'quadratic function called takes 3 parameters {a},{b},{c}')\n",
    "    \n",
    "    ### compute discriminant ###\n",
    "    logger.debug('#compute discriminant')\n",
    "    \n",
    "    disc=b*b -4*a*c\n",
    "    \n",
    "    #### compute the 2 roots ####\n",
    "    logger.debug('#compute the 2 roots')\n",
    "    \n",
    "    root1=(-b+math.sqrt(disc))/(2*a)\n",
    "    root2=(-b-math.sqrt(disc))/(2*a)\n",
    "    \n",
    "    ### return the 2 roots\n",
    "    logger.debug('#returning 2 roots')\n",
    "    return (root1,root2)\n"
   ]
  },
  {
   "cell_type": "code",
   "execution_count": 2,
   "metadata": {},
   "outputs": [
    {
     "data": {
      "text/plain": [
       "(2.0, -2.0)"
      ]
     },
     "execution_count": 2,
     "metadata": {},
     "output_type": "execute_result"
    }
   ],
   "source": [
    "quadratic_formula(1,0,-4)"
   ]
  },
  {
   "cell_type": "code",
   "execution_count": 4,
   "metadata": {},
   "outputs": [
    {
     "ename": "ValueError",
     "evalue": "math domain error",
     "output_type": "error",
     "traceback": [
      "\u001b[1;31m---------------------------------------------------------------------------\u001b[0m",
      "\u001b[1;31mValueError\u001b[0m                                Traceback (most recent call last)",
      "\u001b[1;32m<ipython-input-4-012bb1a1a56f>\u001b[0m in \u001b[0;36m<module>\u001b[1;34m\u001b[0m\n\u001b[1;32m----> 1\u001b[1;33m \u001b[0mquadratic_formula\u001b[0m\u001b[1;33m(\u001b[0m\u001b[1;36m1\u001b[0m\u001b[1;33m,\u001b[0m\u001b[1;36m0\u001b[0m\u001b[1;33m,\u001b[0m\u001b[1;36m1\u001b[0m\u001b[1;33m)\u001b[0m\u001b[1;33m\u001b[0m\u001b[1;33m\u001b[0m\u001b[0m\n\u001b[0m",
      "\u001b[1;32m<ipython-input-1-3862e30fe845>\u001b[0m in \u001b[0;36mquadratic_formula\u001b[1;34m(a, b, c)\u001b[0m\n\u001b[0;32m     20\u001b[0m     \u001b[0mlogger\u001b[0m\u001b[1;33m.\u001b[0m\u001b[0mdebug\u001b[0m\u001b[1;33m(\u001b[0m\u001b[1;34m'#compute the 2 roots'\u001b[0m\u001b[1;33m)\u001b[0m\u001b[1;33m\u001b[0m\u001b[1;33m\u001b[0m\u001b[0m\n\u001b[0;32m     21\u001b[0m \u001b[1;33m\u001b[0m\u001b[0m\n\u001b[1;32m---> 22\u001b[1;33m     \u001b[0mroot1\u001b[0m\u001b[1;33m=\u001b[0m\u001b[1;33m(\u001b[0m\u001b[1;33m-\u001b[0m\u001b[0mb\u001b[0m\u001b[1;33m+\u001b[0m\u001b[0mmath\u001b[0m\u001b[1;33m.\u001b[0m\u001b[0msqrt\u001b[0m\u001b[1;33m(\u001b[0m\u001b[0mdisc\u001b[0m\u001b[1;33m)\u001b[0m\u001b[1;33m)\u001b[0m\u001b[1;33m/\u001b[0m\u001b[1;33m(\u001b[0m\u001b[1;36m2\u001b[0m\u001b[1;33m*\u001b[0m\u001b[0ma\u001b[0m\u001b[1;33m)\u001b[0m\u001b[1;33m\u001b[0m\u001b[1;33m\u001b[0m\u001b[0m\n\u001b[0m\u001b[0;32m     23\u001b[0m     \u001b[0mroot2\u001b[0m\u001b[1;33m=\u001b[0m\u001b[1;33m(\u001b[0m\u001b[1;33m-\u001b[0m\u001b[0mb\u001b[0m\u001b[1;33m-\u001b[0m\u001b[0mmath\u001b[0m\u001b[1;33m.\u001b[0m\u001b[0msqrt\u001b[0m\u001b[1;33m(\u001b[0m\u001b[0mdisc\u001b[0m\u001b[1;33m)\u001b[0m\u001b[1;33m)\u001b[0m\u001b[1;33m/\u001b[0m\u001b[1;33m(\u001b[0m\u001b[1;36m2\u001b[0m\u001b[1;33m*\u001b[0m\u001b[0ma\u001b[0m\u001b[1;33m)\u001b[0m\u001b[1;33m\u001b[0m\u001b[1;33m\u001b[0m\u001b[0m\n\u001b[0;32m     24\u001b[0m \u001b[1;33m\u001b[0m\u001b[0m\n",
      "\u001b[1;31mValueError\u001b[0m: math domain error"
     ]
    }
   ],
   "source": [
    "quadratic_formula(1,0,1)"
   ]
  },
  {
   "cell_type": "code",
   "execution_count": null,
   "metadata": {},
   "outputs": [],
   "source": []
  },
  {
   "cell_type": "code",
   "execution_count": null,
   "metadata": {},
   "outputs": [],
   "source": []
  },
  {
   "cell_type": "code",
   "execution_count": null,
   "metadata": {},
   "outputs": [],
   "source": []
  },
  {
   "cell_type": "code",
   "execution_count": null,
   "metadata": {},
   "outputs": [],
   "source": []
  },
  {
   "cell_type": "code",
   "execution_count": null,
   "metadata": {},
   "outputs": [],
   "source": []
  },
  {
   "cell_type": "code",
   "execution_count": null,
   "metadata": {},
   "outputs": [],
   "source": []
  }
 ],
 "metadata": {
  "kernelspec": {
   "display_name": "Python 3",
   "language": "python",
   "name": "python3"
  },
  "language_info": {
   "codemirror_mode": {
    "name": "ipython",
    "version": 3
   },
   "file_extension": ".py",
   "mimetype": "text/x-python",
   "name": "python",
   "nbconvert_exporter": "python",
   "pygments_lexer": "ipython3",
   "version": "3.7.3"
  }
 },
 "nbformat": 4,
 "nbformat_minor": 2
}
