{
 "cells": [
  {
   "cell_type": "markdown",
   "metadata": {},
   "source": [
    "The strip() returns a copy of the string with both leading and trailing characters stripped.\n",
    "\n"
   ]
  },
  {
   "cell_type": "code",
   "execution_count": 11,
   "metadata": {},
   "outputs": [],
   "source": [
    "abc='   Geek for Geeks   '"
   ]
  },
  {
   "cell_type": "code",
   "execution_count": 12,
   "metadata": {},
   "outputs": [
    {
     "name": "stdout",
     "output_type": "stream",
     "text": [
      "Geek for Geeks\n"
     ]
    }
   ],
   "source": [
    "### removing whitespaces leading and trailing\n",
    "print(abc.strip())"
   ]
  },
  {
   "cell_type": "code",
   "execution_count": 14,
   "metadata": {},
   "outputs": [
    {
     "name": "stdout",
     "output_type": "stream",
     "text": [
      "Geek for Geeks\n"
     ]
    }
   ],
   "source": [
    "###### does nothing becaust ' for ' is not a leading or trailing string\n",
    "print(abc.strip(' for '))"
   ]
  },
  {
   "cell_type": "code",
   "execution_count": 21,
   "metadata": {},
   "outputs": [
    {
     "name": "stdout",
     "output_type": "stream",
     "text": [
      "k for Geeks\n"
     ]
    }
   ],
   "source": [
    "######## '   Gee' is a leading string\n",
    "print(abc.strip('   Gee'))"
   ]
  },
  {
   "cell_type": "code",
   "execution_count": 23,
   "metadata": {},
   "outputs": [
    {
     "name": "stdout",
     "output_type": "stream",
     "text": [
      "Geek for G\n"
     ]
    }
   ],
   "source": [
    "####### 'eeks   ' is the trailing string\n",
    "print(abc.strip('eeks   '))"
   ]
  },
  {
   "cell_type": "code",
   "execution_count": null,
   "metadata": {},
   "outputs": [],
   "source": []
  }
 ],
 "metadata": {
  "kernelspec": {
   "display_name": "Python 3",
   "language": "python",
   "name": "python3"
  },
  "language_info": {
   "codemirror_mode": {
    "name": "ipython",
    "version": 3
   },
   "file_extension": ".py",
   "mimetype": "text/x-python",
   "name": "python",
   "nbconvert_exporter": "python",
   "pygments_lexer": "ipython3",
   "version": "3.7.3"
  }
 },
 "nbformat": 4,
 "nbformat_minor": 2
}
